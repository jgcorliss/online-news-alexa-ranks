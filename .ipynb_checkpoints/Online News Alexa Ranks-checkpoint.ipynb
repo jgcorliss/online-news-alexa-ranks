{
 "cells": [
  {
   "cell_type": "markdown",
   "metadata": {},
   "source": [
    "# US Alexa Ranks of Online News Media"
   ]
  },
  {
   "cell_type": "markdown",
   "metadata": {},
   "source": [
    "## Instructions"
   ]
  },
  {
   "cell_type": "markdown",
   "metadata": {},
   "source": [
    "1. To update Alexa US rank data and overwrite `ranks.csv`, simply run all cells below.\n",
    "2. To add website(s) to the rank data collection, fill in the values in `add_sites` below and run all cells. Make sure to enter the URL that Alexa uses for ranking.\n",
    "3. To remove website(s) from all datasets and from future data collection, add site IDs to `removes_sites` below and run all cells."
   ]
  },
  {
   "cell_type": "code",
   "execution_count": 1,
   "metadata": {},
   "outputs": [],
   "source": [
    "add_sites = [] # list of site (name, url) tuples"
   ]
  },
  {
   "cell_type": "code",
   "execution_count": 2,
   "metadata": {},
   "outputs": [],
   "source": [
    "remove_sites = [] # list of site ids"
   ]
  },
  {
   "cell_type": "markdown",
   "metadata": {},
   "source": [
    "## Package Imports"
   ]
  },
  {
   "cell_type": "code",
   "execution_count": 3,
   "metadata": {},
   "outputs": [],
   "source": [
    "import datetime\n",
    "import numpy as np\n",
    "import pandas as pd\n",
    "import matplotlib.pyplot as plt\n",
    "import seaborn as sns\n",
    "%matplotlib inline"
   ]
  },
  {
   "cell_type": "code",
   "execution_count": 4,
   "metadata": {},
   "outputs": [],
   "source": [
    "pd.set_option('display.max_colwidth', 1000, 'display.max_rows', None, 'display.max_columns', None)"
   ]
  },
  {
   "cell_type": "markdown",
   "metadata": {},
   "source": [
    "## Sites"
   ]
  },
  {
   "cell_type": "code",
   "execution_count": 5,
   "metadata": {},
   "outputs": [],
   "source": [
    "sites = pd.read_csv('sites.csv')"
   ]
  },
  {
   "cell_type": "markdown",
   "metadata": {},
   "source": [
    "Add requested sites."
   ]
  },
  {
   "cell_type": "code",
   "execution_count": 10,
   "metadata": {},
   "outputs": [],
   "source": [
    "for (name, url) in add_sites:\n",
    "    sites = sites.append({'id':sites.id.max()+1, 'name':name, 'url':url}, ignore_index=True)"
   ]
  },
  {
   "cell_type": "markdown",
   "metadata": {},
   "source": [
    "Remove requested sites."
   ]
  },
  {
   "cell_type": "code",
   "execution_count": 11,
   "metadata": {},
   "outputs": [],
   "source": [
    "sites = sites.loc[~sites['id'].isin(remove_sites)]"
   ]
  },
  {
   "cell_type": "markdown",
   "metadata": {},
   "source": [
    "View site info."
   ]
  },
  {
   "cell_type": "code",
   "execution_count": 12,
   "metadata": {},
   "outputs": [
    {
     "name": "stdout",
     "output_type": "stream",
     "text": [
      "<class 'pandas.core.frame.DataFrame'>\n",
      "Int64Index: 77 entries, 0 to 76\n",
      "Data columns (total 3 columns):\n",
      "id      77 non-null int64\n",
      "name    77 non-null object\n",
      "url     77 non-null object\n",
      "dtypes: int64(1), object(2)\n",
      "memory usage: 2.4+ KB\n"
     ]
    }
   ],
   "source": [
    "sites.info()"
   ]
  },
  {
   "cell_type": "code",
   "execution_count": 13,
   "metadata": {},
   "outputs": [
    {
     "data": {
      "text/html": [
       "<div>\n",
       "<style scoped>\n",
       "    .dataframe tbody tr th:only-of-type {\n",
       "        vertical-align: middle;\n",
       "    }\n",
       "\n",
       "    .dataframe tbody tr th {\n",
       "        vertical-align: top;\n",
       "    }\n",
       "\n",
       "    .dataframe thead th {\n",
       "        text-align: right;\n",
       "    }\n",
       "</style>\n",
       "<table border=\"1\" class=\"dataframe\">\n",
       "  <thead>\n",
       "    <tr style=\"text-align: right;\">\n",
       "      <th></th>\n",
       "      <th>id</th>\n",
       "      <th>name</th>\n",
       "      <th>url</th>\n",
       "    </tr>\n",
       "  </thead>\n",
       "  <tbody>\n",
       "    <tr>\n",
       "      <th>0</th>\n",
       "      <td>0</td>\n",
       "      <td>FiveThirtyEight</td>\n",
       "      <td>fivethirtyeight.com</td>\n",
       "    </tr>\n",
       "    <tr>\n",
       "      <th>1</th>\n",
       "      <td>1</td>\n",
       "      <td>Politico</td>\n",
       "      <td>politico.com</td>\n",
       "    </tr>\n",
       "    <tr>\n",
       "      <th>2</th>\n",
       "      <td>2</td>\n",
       "      <td>MSNBC</td>\n",
       "      <td>msnbc.com</td>\n",
       "    </tr>\n",
       "    <tr>\n",
       "      <th>3</th>\n",
       "      <td>3</td>\n",
       "      <td>Washington Post</td>\n",
       "      <td>washingtonpost.com</td>\n",
       "    </tr>\n",
       "    <tr>\n",
       "      <th>4</th>\n",
       "      <td>4</td>\n",
       "      <td>Business Insider</td>\n",
       "      <td>businessinsider.com</td>\n",
       "    </tr>\n",
       "    <tr>\n",
       "      <th>5</th>\n",
       "      <td>5</td>\n",
       "      <td>Washington Times</td>\n",
       "      <td>washingtontimes.com</td>\n",
       "    </tr>\n",
       "    <tr>\n",
       "      <th>6</th>\n",
       "      <td>6</td>\n",
       "      <td>The Daily Stormer</td>\n",
       "      <td>dailystormer.name</td>\n",
       "    </tr>\n",
       "    <tr>\n",
       "      <th>7</th>\n",
       "      <td>7</td>\n",
       "      <td>CNBC</td>\n",
       "      <td>cnbc.com</td>\n",
       "    </tr>\n",
       "    <tr>\n",
       "      <th>8</th>\n",
       "      <td>8</td>\n",
       "      <td>The Hill</td>\n",
       "      <td>thehill.com</td>\n",
       "    </tr>\n",
       "    <tr>\n",
       "      <th>9</th>\n",
       "      <td>9</td>\n",
       "      <td>The Intercept</td>\n",
       "      <td>theintercept.com</td>\n",
       "    </tr>\n",
       "    <tr>\n",
       "      <th>10</th>\n",
       "      <td>10</td>\n",
       "      <td>CNN</td>\n",
       "      <td>cnn.com</td>\n",
       "    </tr>\n",
       "    <tr>\n",
       "      <th>11</th>\n",
       "      <td>11</td>\n",
       "      <td>LA Times</td>\n",
       "      <td>latimes.com</td>\n",
       "    </tr>\n",
       "    <tr>\n",
       "      <th>12</th>\n",
       "      <td>12</td>\n",
       "      <td>SFGate</td>\n",
       "      <td>sfgate.com</td>\n",
       "    </tr>\n",
       "    <tr>\n",
       "      <th>13</th>\n",
       "      <td>13</td>\n",
       "      <td>ThinkProgress</td>\n",
       "      <td>thinkprogress.org</td>\n",
       "    </tr>\n",
       "    <tr>\n",
       "      <th>14</th>\n",
       "      <td>14</td>\n",
       "      <td>New York Post</td>\n",
       "      <td>nypost.com</td>\n",
       "    </tr>\n",
       "    <tr>\n",
       "      <th>15</th>\n",
       "      <td>15</td>\n",
       "      <td>Vice</td>\n",
       "      <td>vice.com</td>\n",
       "    </tr>\n",
       "    <tr>\n",
       "      <th>16</th>\n",
       "      <td>16</td>\n",
       "      <td>The Daily Caller</td>\n",
       "      <td>dailycaller.com</td>\n",
       "    </tr>\n",
       "    <tr>\n",
       "      <th>17</th>\n",
       "      <td>17</td>\n",
       "      <td>CBS News</td>\n",
       "      <td>cbsnews.com</td>\n",
       "    </tr>\n",
       "    <tr>\n",
       "      <th>18</th>\n",
       "      <td>18</td>\n",
       "      <td>Breitbart</td>\n",
       "      <td>breitbart.com</td>\n",
       "    </tr>\n",
       "    <tr>\n",
       "      <th>19</th>\n",
       "      <td>19</td>\n",
       "      <td>U.S. News &amp; World Report</td>\n",
       "      <td>usnews.com</td>\n",
       "    </tr>\n",
       "    <tr>\n",
       "      <th>20</th>\n",
       "      <td>20</td>\n",
       "      <td>Reason</td>\n",
       "      <td>reason.com</td>\n",
       "    </tr>\n",
       "    <tr>\n",
       "      <th>21</th>\n",
       "      <td>21</td>\n",
       "      <td>Truthout</td>\n",
       "      <td>truth-out.org</td>\n",
       "    </tr>\n",
       "    <tr>\n",
       "      <th>22</th>\n",
       "      <td>22</td>\n",
       "      <td>Axios</td>\n",
       "      <td>axios.com</td>\n",
       "    </tr>\n",
       "    <tr>\n",
       "      <th>23</th>\n",
       "      <td>23</td>\n",
       "      <td>Mediaite</td>\n",
       "      <td>mediaite.com</td>\n",
       "    </tr>\n",
       "    <tr>\n",
       "      <th>24</th>\n",
       "      <td>24</td>\n",
       "      <td>The American Conservative</td>\n",
       "      <td>theamericanconservative.com</td>\n",
       "    </tr>\n",
       "    <tr>\n",
       "      <th>25</th>\n",
       "      <td>25</td>\n",
       "      <td>ProPublica</td>\n",
       "      <td>propublica.org</td>\n",
       "    </tr>\n",
       "    <tr>\n",
       "      <th>26</th>\n",
       "      <td>26</td>\n",
       "      <td>Truthdig</td>\n",
       "      <td>truthdig.com</td>\n",
       "    </tr>\n",
       "    <tr>\n",
       "      <th>27</th>\n",
       "      <td>27</td>\n",
       "      <td>BBC</td>\n",
       "      <td>bbc.com</td>\n",
       "    </tr>\n",
       "    <tr>\n",
       "      <th>28</th>\n",
       "      <td>28</td>\n",
       "      <td>TYT Network</td>\n",
       "      <td>tytnetwork.com</td>\n",
       "    </tr>\n",
       "    <tr>\n",
       "      <th>29</th>\n",
       "      <td>29</td>\n",
       "      <td>Wall Street Journal</td>\n",
       "      <td>wsj.com</td>\n",
       "    </tr>\n",
       "    <tr>\n",
       "      <th>30</th>\n",
       "      <td>30</td>\n",
       "      <td>Daily Mail</td>\n",
       "      <td>dailymail.co.uk</td>\n",
       "    </tr>\n",
       "    <tr>\n",
       "      <th>31</th>\n",
       "      <td>31</td>\n",
       "      <td>Drudge Report</td>\n",
       "      <td>drudgereport.com</td>\n",
       "    </tr>\n",
       "    <tr>\n",
       "      <th>32</th>\n",
       "      <td>32</td>\n",
       "      <td>Fortune</td>\n",
       "      <td>fortune.com</td>\n",
       "    </tr>\n",
       "    <tr>\n",
       "      <th>33</th>\n",
       "      <td>33</td>\n",
       "      <td>National Review</td>\n",
       "      <td>nationalreview.com</td>\n",
       "    </tr>\n",
       "    <tr>\n",
       "      <th>34</th>\n",
       "      <td>34</td>\n",
       "      <td>Center for Investigative Reporting</td>\n",
       "      <td>revealnews.org</td>\n",
       "    </tr>\n",
       "    <tr>\n",
       "      <th>35</th>\n",
       "      <td>35</td>\n",
       "      <td>NBC News</td>\n",
       "      <td>nbcnews.com</td>\n",
       "    </tr>\n",
       "    <tr>\n",
       "      <th>36</th>\n",
       "      <td>36</td>\n",
       "      <td>Vox</td>\n",
       "      <td>vox.com</td>\n",
       "    </tr>\n",
       "    <tr>\n",
       "      <th>37</th>\n",
       "      <td>37</td>\n",
       "      <td>BuzzFeed</td>\n",
       "      <td>buzzfeed.com</td>\n",
       "    </tr>\n",
       "    <tr>\n",
       "      <th>38</th>\n",
       "      <td>38</td>\n",
       "      <td>The Independent</td>\n",
       "      <td>independent.co.uk</td>\n",
       "    </tr>\n",
       "    <tr>\n",
       "      <th>39</th>\n",
       "      <td>39</td>\n",
       "      <td>Infowars</td>\n",
       "      <td>infowars.com</td>\n",
       "    </tr>\n",
       "    <tr>\n",
       "      <th>40</th>\n",
       "      <td>40</td>\n",
       "      <td>RealClearPolitics</td>\n",
       "      <td>realclearpolitics.com</td>\n",
       "    </tr>\n",
       "    <tr>\n",
       "      <th>41</th>\n",
       "      <td>41</td>\n",
       "      <td>The Nation</td>\n",
       "      <td>thenation.com</td>\n",
       "    </tr>\n",
       "    <tr>\n",
       "      <th>42</th>\n",
       "      <td>42</td>\n",
       "      <td>ABC News</td>\n",
       "      <td>abcnews.go.com</td>\n",
       "    </tr>\n",
       "    <tr>\n",
       "      <th>43</th>\n",
       "      <td>43</td>\n",
       "      <td>The New Yorker</td>\n",
       "      <td>newyorker.com</td>\n",
       "    </tr>\n",
       "    <tr>\n",
       "      <th>44</th>\n",
       "      <td>44</td>\n",
       "      <td>Daily Beast</td>\n",
       "      <td>thedailybeast.com</td>\n",
       "    </tr>\n",
       "    <tr>\n",
       "      <th>45</th>\n",
       "      <td>45</td>\n",
       "      <td>Alternet</td>\n",
       "      <td>alternet.org</td>\n",
       "    </tr>\n",
       "    <tr>\n",
       "      <th>46</th>\n",
       "      <td>46</td>\n",
       "      <td>AP News</td>\n",
       "      <td>apnews.com</td>\n",
       "    </tr>\n",
       "    <tr>\n",
       "      <th>47</th>\n",
       "      <td>47</td>\n",
       "      <td>Newsweek</td>\n",
       "      <td>newsweek.com</td>\n",
       "    </tr>\n",
       "    <tr>\n",
       "      <th>48</th>\n",
       "      <td>48</td>\n",
       "      <td>Time Magazine</td>\n",
       "      <td>time.com</td>\n",
       "    </tr>\n",
       "    <tr>\n",
       "      <th>49</th>\n",
       "      <td>49</td>\n",
       "      <td>New York Times</td>\n",
       "      <td>nytimes.com</td>\n",
       "    </tr>\n",
       "    <tr>\n",
       "      <th>50</th>\n",
       "      <td>50</td>\n",
       "      <td>Talking Points Memo</td>\n",
       "      <td>talkingpointsmemo.com</td>\n",
       "    </tr>\n",
       "    <tr>\n",
       "      <th>51</th>\n",
       "      <td>52</td>\n",
       "      <td>Chron</td>\n",
       "      <td>chron.com</td>\n",
       "    </tr>\n",
       "    <tr>\n",
       "      <th>52</th>\n",
       "      <td>53</td>\n",
       "      <td>New York Daily News</td>\n",
       "      <td>nydailynews.com</td>\n",
       "    </tr>\n",
       "    <tr>\n",
       "      <th>53</th>\n",
       "      <td>54</td>\n",
       "      <td>RawStory</td>\n",
       "      <td>rawstory.com</td>\n",
       "    </tr>\n",
       "    <tr>\n",
       "      <th>54</th>\n",
       "      <td>55</td>\n",
       "      <td>Bloomberg</td>\n",
       "      <td>bloomberg.com</td>\n",
       "    </tr>\n",
       "    <tr>\n",
       "      <th>55</th>\n",
       "      <td>56</td>\n",
       "      <td>Common Dreams</td>\n",
       "      <td>commondreams.org</td>\n",
       "    </tr>\n",
       "    <tr>\n",
       "      <th>56</th>\n",
       "      <td>57</td>\n",
       "      <td>PolitiFact</td>\n",
       "      <td>politifact.com</td>\n",
       "    </tr>\n",
       "    <tr>\n",
       "      <th>57</th>\n",
       "      <td>58</td>\n",
       "      <td>Shareblue Media</td>\n",
       "      <td>shareblue.com</td>\n",
       "    </tr>\n",
       "    <tr>\n",
       "      <th>58</th>\n",
       "      <td>59</td>\n",
       "      <td>Democracy Now!</td>\n",
       "      <td>democracynow.org</td>\n",
       "    </tr>\n",
       "    <tr>\n",
       "      <th>59</th>\n",
       "      <td>60</td>\n",
       "      <td>Mother Jones</td>\n",
       "      <td>motherjones.com</td>\n",
       "    </tr>\n",
       "    <tr>\n",
       "      <th>60</th>\n",
       "      <td>61</td>\n",
       "      <td>Media Matters for America</td>\n",
       "      <td>mediamatters.org</td>\n",
       "    </tr>\n",
       "    <tr>\n",
       "      <th>61</th>\n",
       "      <td>62</td>\n",
       "      <td>USA Today</td>\n",
       "      <td>usatoday.com</td>\n",
       "    </tr>\n",
       "    <tr>\n",
       "      <th>62</th>\n",
       "      <td>63</td>\n",
       "      <td>Slate</td>\n",
       "      <td>slate.com</td>\n",
       "    </tr>\n",
       "    <tr>\n",
       "      <th>63</th>\n",
       "      <td>64</td>\n",
       "      <td>Reuters</td>\n",
       "      <td>reuters.com</td>\n",
       "    </tr>\n",
       "    <tr>\n",
       "      <th>64</th>\n",
       "      <td>65</td>\n",
       "      <td>NPR</td>\n",
       "      <td>npr.org</td>\n",
       "    </tr>\n",
       "    <tr>\n",
       "      <th>65</th>\n",
       "      <td>66</td>\n",
       "      <td>Daily Wire</td>\n",
       "      <td>dailywire.com</td>\n",
       "    </tr>\n",
       "    <tr>\n",
       "      <th>66</th>\n",
       "      <td>67</td>\n",
       "      <td>Daily Kos</td>\n",
       "      <td>dailykos.com</td>\n",
       "    </tr>\n",
       "    <tr>\n",
       "      <th>67</th>\n",
       "      <td>68</td>\n",
       "      <td>The Guardian</td>\n",
       "      <td>theguardian.com</td>\n",
       "    </tr>\n",
       "    <tr>\n",
       "      <th>68</th>\n",
       "      <td>69</td>\n",
       "      <td>HuffPost</td>\n",
       "      <td>huffingtonpost.com</td>\n",
       "    </tr>\n",
       "    <tr>\n",
       "      <th>69</th>\n",
       "      <td>70</td>\n",
       "      <td>The Boston Globe</td>\n",
       "      <td>bostonglobe.com</td>\n",
       "    </tr>\n",
       "    <tr>\n",
       "      <th>70</th>\n",
       "      <td>71</td>\n",
       "      <td>Washington Examiner</td>\n",
       "      <td>washingtonexaminer.com</td>\n",
       "    </tr>\n",
       "    <tr>\n",
       "      <th>71</th>\n",
       "      <td>72</td>\n",
       "      <td>The Atlantic</td>\n",
       "      <td>theatlantic.com</td>\n",
       "    </tr>\n",
       "    <tr>\n",
       "      <th>72</th>\n",
       "      <td>73</td>\n",
       "      <td>Fox News</td>\n",
       "      <td>foxnews.com</td>\n",
       "    </tr>\n",
       "    <tr>\n",
       "      <th>73</th>\n",
       "      <td>74</td>\n",
       "      <td>International Business Times</td>\n",
       "      <td>ibtimes.com</td>\n",
       "    </tr>\n",
       "    <tr>\n",
       "      <th>74</th>\n",
       "      <td>75</td>\n",
       "      <td>Conservative Review</td>\n",
       "      <td>conservativereview.com</td>\n",
       "    </tr>\n",
       "    <tr>\n",
       "      <th>75</th>\n",
       "      <td>76</td>\n",
       "      <td>Salon</td>\n",
       "      <td>salon.com</td>\n",
       "    </tr>\n",
       "    <tr>\n",
       "      <th>76</th>\n",
       "      <td>78</td>\n",
       "      <td>New York</td>\n",
       "      <td>nymag.com</td>\n",
       "    </tr>\n",
       "  </tbody>\n",
       "</table>\n",
       "</div>"
      ],
      "text/plain": [
       "    id                                name                          url\n",
       "0    0                     FiveThirtyEight          fivethirtyeight.com\n",
       "1    1                            Politico                 politico.com\n",
       "2    2                               MSNBC                    msnbc.com\n",
       "3    3                     Washington Post           washingtonpost.com\n",
       "4    4                    Business Insider          businessinsider.com\n",
       "5    5                    Washington Times          washingtontimes.com\n",
       "6    6                   The Daily Stormer            dailystormer.name\n",
       "7    7                                CNBC                     cnbc.com\n",
       "8    8                            The Hill                  thehill.com\n",
       "9    9                       The Intercept             theintercept.com\n",
       "10  10                                 CNN                      cnn.com\n",
       "11  11                            LA Times                  latimes.com\n",
       "12  12                              SFGate                   sfgate.com\n",
       "13  13                       ThinkProgress            thinkprogress.org\n",
       "14  14                       New York Post                   nypost.com\n",
       "15  15                                Vice                     vice.com\n",
       "16  16                    The Daily Caller              dailycaller.com\n",
       "17  17                            CBS News                  cbsnews.com\n",
       "18  18                           Breitbart                breitbart.com\n",
       "19  19            U.S. News & World Report                   usnews.com\n",
       "20  20                              Reason                   reason.com\n",
       "21  21                            Truthout                truth-out.org\n",
       "22  22                               Axios                    axios.com\n",
       "23  23                            Mediaite                 mediaite.com\n",
       "24  24           The American Conservative  theamericanconservative.com\n",
       "25  25                          ProPublica               propublica.org\n",
       "26  26                            Truthdig                 truthdig.com\n",
       "27  27                                 BBC                      bbc.com\n",
       "28  28                         TYT Network               tytnetwork.com\n",
       "29  29                 Wall Street Journal                      wsj.com\n",
       "30  30                          Daily Mail              dailymail.co.uk\n",
       "31  31                       Drudge Report             drudgereport.com\n",
       "32  32                             Fortune                  fortune.com\n",
       "33  33                     National Review           nationalreview.com\n",
       "34  34  Center for Investigative Reporting               revealnews.org\n",
       "35  35                            NBC News                  nbcnews.com\n",
       "36  36                                 Vox                      vox.com\n",
       "37  37                            BuzzFeed                 buzzfeed.com\n",
       "38  38                     The Independent            independent.co.uk\n",
       "39  39                            Infowars                 infowars.com\n",
       "40  40                   RealClearPolitics        realclearpolitics.com\n",
       "41  41                          The Nation                thenation.com\n",
       "42  42                            ABC News               abcnews.go.com\n",
       "43  43                      The New Yorker                newyorker.com\n",
       "44  44                         Daily Beast            thedailybeast.com\n",
       "45  45                            Alternet                 alternet.org\n",
       "46  46                             AP News                   apnews.com\n",
       "47  47                            Newsweek                 newsweek.com\n",
       "48  48                       Time Magazine                     time.com\n",
       "49  49                      New York Times                  nytimes.com\n",
       "50  50                 Talking Points Memo        talkingpointsmemo.com\n",
       "51  52                               Chron                    chron.com\n",
       "52  53                 New York Daily News              nydailynews.com\n",
       "53  54                            RawStory                 rawstory.com\n",
       "54  55                           Bloomberg                bloomberg.com\n",
       "55  56                       Common Dreams             commondreams.org\n",
       "56  57                          PolitiFact               politifact.com\n",
       "57  58                     Shareblue Media                shareblue.com\n",
       "58  59                      Democracy Now!             democracynow.org\n",
       "59  60                        Mother Jones              motherjones.com\n",
       "60  61           Media Matters for America             mediamatters.org\n",
       "61  62                           USA Today                 usatoday.com\n",
       "62  63                               Slate                    slate.com\n",
       "63  64                             Reuters                  reuters.com\n",
       "64  65                                 NPR                      npr.org\n",
       "65  66                          Daily Wire                dailywire.com\n",
       "66  67                           Daily Kos                 dailykos.com\n",
       "67  68                        The Guardian              theguardian.com\n",
       "68  69                            HuffPost           huffingtonpost.com\n",
       "69  70                    The Boston Globe              bostonglobe.com\n",
       "70  71                 Washington Examiner       washingtonexaminer.com\n",
       "71  72                        The Atlantic              theatlantic.com\n",
       "72  73                            Fox News                  foxnews.com\n",
       "73  74        International Business Times                  ibtimes.com\n",
       "74  75                 Conservative Review       conservativereview.com\n",
       "75  76                               Salon                    salon.com\n",
       "76  78                            New York                    nymag.com"
      ]
     },
     "execution_count": 13,
     "metadata": {},
     "output_type": "execute_result"
    }
   ],
   "source": [
    "sites"
   ]
  },
  {
   "cell_type": "markdown",
   "metadata": {},
   "source": [
    "Save `sites`."
   ]
  },
  {
   "cell_type": "code",
   "execution_count": 14,
   "metadata": {},
   "outputs": [],
   "source": [
    "sites.to_csv('sites.csv', index=False)"
   ]
  },
  {
   "cell_type": "markdown",
   "metadata": {},
   "source": [
    "## Ranks"
   ]
  },
  {
   "cell_type": "code",
   "execution_count": 15,
   "metadata": {},
   "outputs": [],
   "source": [
    "ranks = pd.read_csv('ranks.csv')"
   ]
  },
  {
   "cell_type": "markdown",
   "metadata": {},
   "source": [
    "Remove requested sites."
   ]
  },
  {
   "cell_type": "code",
   "execution_count": 16,
   "metadata": {},
   "outputs": [],
   "source": [
    "ranks = ranks.loc[~ranks['id'].isin(remove_sites)]"
   ]
  },
  {
   "cell_type": "markdown",
   "metadata": {},
   "source": [
    "View rankings summary and the last five rows."
   ]
  },
  {
   "cell_type": "code",
   "execution_count": 17,
   "metadata": {},
   "outputs": [
    {
     "name": "stdout",
     "output_type": "stream",
     "text": [
      "<class 'pandas.core.frame.DataFrame'>\n",
      "Int64Index: 147 entries, 0 to 146\n",
      "Data columns (total 3 columns):\n",
      "datetime    147 non-null object\n",
      "id          147 non-null int64\n",
      "rank        147 non-null int64\n",
      "dtypes: int64(2), object(1)\n",
      "memory usage: 4.6+ KB\n"
     ]
    }
   ],
   "source": [
    "ranks.info()"
   ]
  },
  {
   "cell_type": "code",
   "execution_count": 18,
   "metadata": {},
   "outputs": [
    {
     "data": {
      "text/html": [
       "<div>\n",
       "<style scoped>\n",
       "    .dataframe tbody tr th:only-of-type {\n",
       "        vertical-align: middle;\n",
       "    }\n",
       "\n",
       "    .dataframe tbody tr th {\n",
       "        vertical-align: top;\n",
       "    }\n",
       "\n",
       "    .dataframe thead th {\n",
       "        text-align: right;\n",
       "    }\n",
       "</style>\n",
       "<table border=\"1\" class=\"dataframe\">\n",
       "  <thead>\n",
       "    <tr style=\"text-align: right;\">\n",
       "      <th></th>\n",
       "      <th>datetime</th>\n",
       "      <th>id</th>\n",
       "      <th>rank</th>\n",
       "    </tr>\n",
       "  </thead>\n",
       "  <tbody>\n",
       "    <tr>\n",
       "      <th>142</th>\n",
       "      <td>2018-03-02 05:04:22.252590</td>\n",
       "      <td>29</td>\n",
       "      <td>162</td>\n",
       "    </tr>\n",
       "    <tr>\n",
       "      <th>143</th>\n",
       "      <td>2018-03-02 05:04:22.252590</td>\n",
       "      <td>3</td>\n",
       "      <td>61</td>\n",
       "    </tr>\n",
       "    <tr>\n",
       "      <th>144</th>\n",
       "      <td>2018-03-02 05:04:22.252590</td>\n",
       "      <td>24</td>\n",
       "      <td>9515</td>\n",
       "    </tr>\n",
       "    <tr>\n",
       "      <th>145</th>\n",
       "      <td>2018-03-02 05:04:22.252590</td>\n",
       "      <td>50</td>\n",
       "      <td>1642</td>\n",
       "    </tr>\n",
       "    <tr>\n",
       "      <th>146</th>\n",
       "      <td>2018-03-02 05:04:22.252590</td>\n",
       "      <td>16</td>\n",
       "      <td>172</td>\n",
       "    </tr>\n",
       "  </tbody>\n",
       "</table>\n",
       "</div>"
      ],
      "text/plain": [
       "                       datetime  id  rank\n",
       "142  2018-03-02 05:04:22.252590  29   162\n",
       "143  2018-03-02 05:04:22.252590   3    61\n",
       "144  2018-03-02 05:04:22.252590  24  9515\n",
       "145  2018-03-02 05:04:22.252590  50  1642\n",
       "146  2018-03-02 05:04:22.252590  16   172"
      ]
     },
     "execution_count": 18,
     "metadata": {},
     "output_type": "execute_result"
    }
   ],
   "source": [
    "ranks.tail()"
   ]
  },
  {
   "cell_type": "markdown",
   "metadata": {},
   "source": [
    "## Scrape Current Site Ranks"
   ]
  },
  {
   "cell_type": "code",
   "execution_count": 27,
   "metadata": {},
   "outputs": [],
   "source": [
    "def find_rank(url):\n",
    "    'Scrape the Alexa Rank in the United States of the given URL'\n",
    "    try:\n",
    "        dfs = pd.read_html('http://www.alexa.com/siteinfo/%s' % url)\n",
    "        idx = 0\n",
    "        while True:\n",
    "            country_ranks = dfs[idx]\n",
    "            try:\n",
    "                country_ranks.set_index('Country', inplace=True)\n",
    "                return country_ranks.loc['United States', 'Rank in Country']\n",
    "            except:\n",
    "                idx += 1\n",
    "    except:\n",
    "        print('\\tWARNING: Lookup failed on %s' % url)\n",
    "        return np.nan"
   ]
  },
  {
   "cell_type": "markdown",
   "metadata": {},
   "source": [
    "Find the currents ranks of all sites in `sites` and append the results to `ranks`."
   ]
  },
  {
   "cell_type": "code",
   "execution_count": 33,
   "metadata": {},
   "outputs": [
    {
     "name": "stdout",
     "output_type": "stream",
     "text": [
      "Scraping current site ranks...\n",
      "Done\n"
     ]
    }
   ],
   "source": [
    "time = datetime.datetime.utcnow() # Current UTC datetime\n",
    "\n",
    "print('Scraping current site ranks...')\n",
    "for idx in range(sites.shape[0]):\n",
    "    siterank = find_rank(sites.loc[idx, 'url'])\n",
    "    if pd.notnull(siterank):\n",
    "        ranks = ranks.append({'datetime':time, 'id':sites.loc[idx, 'id'], 'rank':siterank}, ignore_index=True)\n",
    "    \n",
    "print('Done')"
   ]
  },
  {
   "cell_type": "code",
   "execution_count": 35,
   "metadata": {},
   "outputs": [
    {
     "data": {
      "text/html": [
       "<div>\n",
       "<style scoped>\n",
       "    .dataframe tbody tr th:only-of-type {\n",
       "        vertical-align: middle;\n",
       "    }\n",
       "\n",
       "    .dataframe tbody tr th {\n",
       "        vertical-align: top;\n",
       "    }\n",
       "\n",
       "    .dataframe thead th {\n",
       "        text-align: right;\n",
       "    }\n",
       "</style>\n",
       "<table border=\"1\" class=\"dataframe\">\n",
       "  <thead>\n",
       "    <tr style=\"text-align: right;\">\n",
       "      <th></th>\n",
       "      <th>datetime</th>\n",
       "      <th>id</th>\n",
       "      <th>rank</th>\n",
       "    </tr>\n",
       "  </thead>\n",
       "  <tbody>\n",
       "    <tr>\n",
       "      <th>219</th>\n",
       "      <td>2018-03-04 03:34:24.925354</td>\n",
       "      <td>73</td>\n",
       "      <td>58</td>\n",
       "    </tr>\n",
       "    <tr>\n",
       "      <th>220</th>\n",
       "      <td>2018-03-04 03:34:24.925354</td>\n",
       "      <td>74</td>\n",
       "      <td>4953</td>\n",
       "    </tr>\n",
       "    <tr>\n",
       "      <th>221</th>\n",
       "      <td>2018-03-04 03:34:24.925354</td>\n",
       "      <td>75</td>\n",
       "      <td>18008</td>\n",
       "    </tr>\n",
       "    <tr>\n",
       "      <th>222</th>\n",
       "      <td>2018-03-04 03:34:24.925354</td>\n",
       "      <td>76</td>\n",
       "      <td>1085</td>\n",
       "    </tr>\n",
       "    <tr>\n",
       "      <th>223</th>\n",
       "      <td>2018-03-04 03:34:24.925354</td>\n",
       "      <td>78</td>\n",
       "      <td>631</td>\n",
       "    </tr>\n",
       "  </tbody>\n",
       "</table>\n",
       "</div>"
      ],
      "text/plain": [
       "                       datetime  id   rank\n",
       "219  2018-03-04 03:34:24.925354  73     58\n",
       "220  2018-03-04 03:34:24.925354  74   4953\n",
       "221  2018-03-04 03:34:24.925354  75  18008\n",
       "222  2018-03-04 03:34:24.925354  76   1085\n",
       "223  2018-03-04 03:34:24.925354  78    631"
      ]
     },
     "execution_count": 35,
     "metadata": {},
     "output_type": "execute_result"
    }
   ],
   "source": [
    "ranks.tail()"
   ]
  },
  {
   "cell_type": "markdown",
   "metadata": {},
   "source": [
    "Save `ranks.csv`."
   ]
  },
  {
   "cell_type": "code",
   "execution_count": 36,
   "metadata": {},
   "outputs": [],
   "source": [
    "ranks.to_csv('ranks.csv', index=False)"
   ]
  },
  {
   "cell_type": "markdown",
   "metadata": {},
   "source": [
    "## Data Analysis"
   ]
  },
  {
   "cell_type": "markdown",
   "metadata": {},
   "source": [
    "Convert datetime strings to datetime objects."
   ]
  },
  {
   "cell_type": "code",
   "execution_count": 37,
   "metadata": {},
   "outputs": [],
   "source": [
    "ranks.loc[:,'datetime'] = pd.to_datetime(ranks['datetime'])"
   ]
  },
  {
   "cell_type": "markdown",
   "metadata": {},
   "source": [
    "Create dataframe with datetime, name, and rank data merged from `sites` and `ranks`."
   ]
  },
  {
   "cell_type": "code",
   "execution_count": 41,
   "metadata": {},
   "outputs": [],
   "source": [
    "df = ranks.merge(sites, on='id')\n",
    "df = df.loc[:, ['datetime', 'name', 'rank']]"
   ]
  },
  {
   "cell_type": "code",
   "execution_count": 45,
   "metadata": {},
   "outputs": [
    {
     "data": {
      "text/html": [
       "<div>\n",
       "<style scoped>\n",
       "    .dataframe tbody tr th:only-of-type {\n",
       "        vertical-align: middle;\n",
       "    }\n",
       "\n",
       "    .dataframe tbody tr th {\n",
       "        vertical-align: top;\n",
       "    }\n",
       "\n",
       "    .dataframe thead th {\n",
       "        text-align: right;\n",
       "    }\n",
       "</style>\n",
       "<table border=\"1\" class=\"dataframe\">\n",
       "  <thead>\n",
       "    <tr style=\"text-align: right;\">\n",
       "      <th></th>\n",
       "      <th>datetime</th>\n",
       "      <th>name</th>\n",
       "      <th>rank</th>\n",
       "    </tr>\n",
       "  </thead>\n",
       "  <tbody>\n",
       "    <tr>\n",
       "      <th>216</th>\n",
       "      <td>2018-03-02 05:04:22.252590</td>\n",
       "      <td>The Daily Stormer</td>\n",
       "      <td>8538</td>\n",
       "    </tr>\n",
       "    <tr>\n",
       "      <th>159</th>\n",
       "      <td>2017-11-15 12:00:00.000000</td>\n",
       "      <td>Reuters</td>\n",
       "      <td>268</td>\n",
       "    </tr>\n",
       "    <tr>\n",
       "      <th>31</th>\n",
       "      <td>2018-03-02 05:04:22.252590</td>\n",
       "      <td>Washington Post</td>\n",
       "      <td>61</td>\n",
       "    </tr>\n",
       "    <tr>\n",
       "      <th>52</th>\n",
       "      <td>2018-03-02 05:04:22.252590</td>\n",
       "      <td>BBC</td>\n",
       "      <td>80</td>\n",
       "    </tr>\n",
       "    <tr>\n",
       "      <th>5</th>\n",
       "      <td>2018-03-04 03:34:24.925354</td>\n",
       "      <td>Truthout</td>\n",
       "      <td>10330</td>\n",
       "    </tr>\n",
       "  </tbody>\n",
       "</table>\n",
       "</div>"
      ],
      "text/plain": [
       "                      datetime               name   rank\n",
       "216 2018-03-02 05:04:22.252590  The Daily Stormer   8538\n",
       "159 2017-11-15 12:00:00.000000            Reuters    268\n",
       "31  2018-03-02 05:04:22.252590    Washington Post     61\n",
       "52  2018-03-02 05:04:22.252590                BBC     80\n",
       "5   2018-03-04 03:34:24.925354           Truthout  10330"
      ]
     },
     "execution_count": 45,
     "metadata": {},
     "output_type": "execute_result"
    }
   ],
   "source": [
    "df.sample(5)"
   ]
  },
  {
   "cell_type": "markdown",
   "metadata": {},
   "source": [
    "Pivot `df`."
   ]
  },
  {
   "cell_type": "code",
   "execution_count": 53,
   "metadata": {},
   "outputs": [],
   "source": [
    "df = df.pivot(index='datetime', columns='name', values='rank')"
   ]
  },
  {
   "cell_type": "code",
   "execution_count": 57,
   "metadata": {},
   "outputs": [
    {
     "data": {
      "text/html": [
       "<div>\n",
       "<style scoped>\n",
       "    .dataframe tbody tr th:only-of-type {\n",
       "        vertical-align: middle;\n",
       "    }\n",
       "\n",
       "    .dataframe tbody tr th {\n",
       "        vertical-align: top;\n",
       "    }\n",
       "\n",
       "    .dataframe thead th {\n",
       "        text-align: right;\n",
       "    }\n",
       "</style>\n",
       "<table border=\"1\" class=\"dataframe\">\n",
       "  <thead>\n",
       "    <tr style=\"text-align: right;\">\n",
       "      <th>name</th>\n",
       "      <th>ABC News</th>\n",
       "      <th>AP News</th>\n",
       "      <th>Alternet</th>\n",
       "      <th>Axios</th>\n",
       "      <th>BBC</th>\n",
       "      <th>Bloomberg</th>\n",
       "      <th>Breitbart</th>\n",
       "      <th>Business Insider</th>\n",
       "      <th>BuzzFeed</th>\n",
       "      <th>CBS News</th>\n",
       "      <th>CNBC</th>\n",
       "      <th>CNN</th>\n",
       "      <th>Center for Investigative Reporting</th>\n",
       "      <th>Chron</th>\n",
       "      <th>Common Dreams</th>\n",
       "      <th>Conservative Review</th>\n",
       "      <th>Daily Beast</th>\n",
       "      <th>Daily Kos</th>\n",
       "      <th>Daily Mail</th>\n",
       "      <th>Daily Wire</th>\n",
       "      <th>Democracy Now!</th>\n",
       "      <th>Drudge Report</th>\n",
       "      <th>FiveThirtyEight</th>\n",
       "      <th>Fortune</th>\n",
       "      <th>Fox News</th>\n",
       "      <th>HuffPost</th>\n",
       "      <th>Infowars</th>\n",
       "      <th>International Business Times</th>\n",
       "      <th>LA Times</th>\n",
       "      <th>MSNBC</th>\n",
       "      <th>Media Matters for America</th>\n",
       "      <th>Mediaite</th>\n",
       "      <th>Mother Jones</th>\n",
       "      <th>NBC News</th>\n",
       "      <th>NPR</th>\n",
       "      <th>National Review</th>\n",
       "      <th>New York</th>\n",
       "      <th>New York Daily News</th>\n",
       "      <th>New York Post</th>\n",
       "      <th>New York Times</th>\n",
       "      <th>Newsweek</th>\n",
       "      <th>PolitiFact</th>\n",
       "      <th>Politico</th>\n",
       "      <th>ProPublica</th>\n",
       "      <th>RawStory</th>\n",
       "      <th>RealClearPolitics</th>\n",
       "      <th>Reason</th>\n",
       "      <th>Reuters</th>\n",
       "      <th>SFGate</th>\n",
       "      <th>Salon</th>\n",
       "      <th>Shareblue Media</th>\n",
       "      <th>Slate</th>\n",
       "      <th>TYT Network</th>\n",
       "      <th>Talking Points Memo</th>\n",
       "      <th>The American Conservative</th>\n",
       "      <th>The Atlantic</th>\n",
       "      <th>The Boston Globe</th>\n",
       "      <th>The Daily Caller</th>\n",
       "      <th>The Daily Stormer</th>\n",
       "      <th>The Guardian</th>\n",
       "      <th>The Hill</th>\n",
       "      <th>The Independent</th>\n",
       "      <th>The Intercept</th>\n",
       "      <th>The Nation</th>\n",
       "      <th>The New Yorker</th>\n",
       "      <th>ThinkProgress</th>\n",
       "      <th>Time Magazine</th>\n",
       "      <th>Truthdig</th>\n",
       "      <th>Truthout</th>\n",
       "      <th>U.S. News &amp; World Report</th>\n",
       "      <th>USA Today</th>\n",
       "      <th>Vice</th>\n",
       "      <th>Vox</th>\n",
       "      <th>Wall Street Journal</th>\n",
       "      <th>Washington Examiner</th>\n",
       "      <th>Washington Post</th>\n",
       "      <th>Washington Times</th>\n",
       "    </tr>\n",
       "    <tr>\n",
       "      <th>datetime</th>\n",
       "      <th></th>\n",
       "      <th></th>\n",
       "      <th></th>\n",
       "      <th></th>\n",
       "      <th></th>\n",
       "      <th></th>\n",
       "      <th></th>\n",
       "      <th></th>\n",
       "      <th></th>\n",
       "      <th></th>\n",
       "      <th></th>\n",
       "      <th></th>\n",
       "      <th></th>\n",
       "      <th></th>\n",
       "      <th></th>\n",
       "      <th></th>\n",
       "      <th></th>\n",
       "      <th></th>\n",
       "      <th></th>\n",
       "      <th></th>\n",
       "      <th></th>\n",
       "      <th></th>\n",
       "      <th></th>\n",
       "      <th></th>\n",
       "      <th></th>\n",
       "      <th></th>\n",
       "      <th></th>\n",
       "      <th></th>\n",
       "      <th></th>\n",
       "      <th></th>\n",
       "      <th></th>\n",
       "      <th></th>\n",
       "      <th></th>\n",
       "      <th></th>\n",
       "      <th></th>\n",
       "      <th></th>\n",
       "      <th></th>\n",
       "      <th></th>\n",
       "      <th></th>\n",
       "      <th></th>\n",
       "      <th></th>\n",
       "      <th></th>\n",
       "      <th></th>\n",
       "      <th></th>\n",
       "      <th></th>\n",
       "      <th></th>\n",
       "      <th></th>\n",
       "      <th></th>\n",
       "      <th></th>\n",
       "      <th></th>\n",
       "      <th></th>\n",
       "      <th></th>\n",
       "      <th></th>\n",
       "      <th></th>\n",
       "      <th></th>\n",
       "      <th></th>\n",
       "      <th></th>\n",
       "      <th></th>\n",
       "      <th></th>\n",
       "      <th></th>\n",
       "      <th></th>\n",
       "      <th></th>\n",
       "      <th></th>\n",
       "      <th></th>\n",
       "      <th></th>\n",
       "      <th></th>\n",
       "      <th></th>\n",
       "      <th></th>\n",
       "      <th></th>\n",
       "      <th></th>\n",
       "      <th></th>\n",
       "      <th></th>\n",
       "      <th></th>\n",
       "      <th></th>\n",
       "      <th></th>\n",
       "      <th></th>\n",
       "      <th></th>\n",
       "    </tr>\n",
       "  </thead>\n",
       "  <tbody>\n",
       "    <tr>\n",
       "      <th>2017-11-15 12:00:00.000000</th>\n",
       "      <td>277.0</td>\n",
       "      <td>949.0</td>\n",
       "      <td>2457.0</td>\n",
       "      <td>1318.0</td>\n",
       "      <td>83.0</td>\n",
       "      <td>170.0</td>\n",
       "      <td>50.0</td>\n",
       "      <td>92.0</td>\n",
       "      <td>55.0</td>\n",
       "      <td>240.0</td>\n",
       "      <td>180.0</td>\n",
       "      <td>27.0</td>\n",
       "      <td>29557.0</td>\n",
       "      <td>356.0</td>\n",
       "      <td>5238.0</td>\n",
       "      <td>16442.0</td>\n",
       "      <td>275.0</td>\n",
       "      <td>NaN</td>\n",
       "      <td>97.0</td>\n",
       "      <td>697.0</td>\n",
       "      <td>4687.0</td>\n",
       "      <td>150.0</td>\n",
       "      <td>391.0</td>\n",
       "      <td>602.0</td>\n",
       "      <td>56.0</td>\n",
       "      <td>70.0</td>\n",
       "      <td>844.0</td>\n",
       "      <td>706.0</td>\n",
       "      <td>179.0</td>\n",
       "      <td>665.0</td>\n",
       "      <td>5235.0</td>\n",
       "      <td>1381.0</td>\n",
       "      <td>1804.0</td>\n",
       "      <td>206.0</td>\n",
       "      <td>147.0</td>\n",
       "      <td>1400.0</td>\n",
       "      <td>NaN</td>\n",
       "      <td>269.0</td>\n",
       "      <td>160.0</td>\n",
       "      <td>31.0</td>\n",
       "      <td>327.0</td>\n",
       "      <td>2209.0</td>\n",
       "      <td>201.0</td>\n",
       "      <td>5058.0</td>\n",
       "      <td>975.0</td>\n",
       "      <td>1173.0</td>\n",
       "      <td>3358.0</td>\n",
       "      <td>268.0</td>\n",
       "      <td>314.0</td>\n",
       "      <td>657.0</td>\n",
       "      <td>2851.0</td>\n",
       "      <td>279.0</td>\n",
       "      <td>10010.0</td>\n",
       "      <td>1455.0</td>\n",
       "      <td>8163.0</td>\n",
       "      <td>250.0</td>\n",
       "      <td>1100.0</td>\n",
       "      <td>NaN</td>\n",
       "      <td>NaN</td>\n",
       "      <td>104.0</td>\n",
       "      <td>183.0</td>\n",
       "      <td>335.0</td>\n",
       "      <td>2392.0</td>\n",
       "      <td>3350.0</td>\n",
       "      <td>393.0</td>\n",
       "      <td>1362.0</td>\n",
       "      <td>264.0</td>\n",
       "      <td>15229.0</td>\n",
       "      <td>11515.0</td>\n",
       "      <td>208.0</td>\n",
       "      <td>111.0</td>\n",
       "      <td>89.0</td>\n",
       "      <td>380.0</td>\n",
       "      <td>171.0</td>\n",
       "      <td>NaN</td>\n",
       "      <td>48.0</td>\n",
       "      <td>1359.0</td>\n",
       "    </tr>\n",
       "    <tr>\n",
       "      <th>2018-03-02 05:04:22.252590</th>\n",
       "      <td>249.0</td>\n",
       "      <td>1088.0</td>\n",
       "      <td>2903.0</td>\n",
       "      <td>1036.0</td>\n",
       "      <td>80.0</td>\n",
       "      <td>155.0</td>\n",
       "      <td>54.0</td>\n",
       "      <td>100.0</td>\n",
       "      <td>66.0</td>\n",
       "      <td>193.0</td>\n",
       "      <td>143.0</td>\n",
       "      <td>24.0</td>\n",
       "      <td>34240.0</td>\n",
       "      <td>335.0</td>\n",
       "      <td>4820.0</td>\n",
       "      <td>17709.0</td>\n",
       "      <td>317.0</td>\n",
       "      <td>NaN</td>\n",
       "      <td>109.0</td>\n",
       "      <td>780.0</td>\n",
       "      <td>5522.0</td>\n",
       "      <td>157.0</td>\n",
       "      <td>482.0</td>\n",
       "      <td>684.0</td>\n",
       "      <td>57.0</td>\n",
       "      <td>78.0</td>\n",
       "      <td>1006.0</td>\n",
       "      <td>4166.0</td>\n",
       "      <td>220.0</td>\n",
       "      <td>687.0</td>\n",
       "      <td>6430.0</td>\n",
       "      <td>1696.0</td>\n",
       "      <td>1533.0</td>\n",
       "      <td>196.0</td>\n",
       "      <td>130.0</td>\n",
       "      <td>1302.0</td>\n",
       "      <td>NaN</td>\n",
       "      <td>375.0</td>\n",
       "      <td>165.0</td>\n",
       "      <td>30.0</td>\n",
       "      <td>512.0</td>\n",
       "      <td>1943.0</td>\n",
       "      <td>229.0</td>\n",
       "      <td>4892.0</td>\n",
       "      <td>996.0</td>\n",
       "      <td>1210.0</td>\n",
       "      <td>2786.0</td>\n",
       "      <td>245.0</td>\n",
       "      <td>346.0</td>\n",
       "      <td>1062.0</td>\n",
       "      <td>7359.0</td>\n",
       "      <td>300.0</td>\n",
       "      <td>10424.0</td>\n",
       "      <td>1642.0</td>\n",
       "      <td>9515.0</td>\n",
       "      <td>237.0</td>\n",
       "      <td>998.0</td>\n",
       "      <td>172.0</td>\n",
       "      <td>8538.0</td>\n",
       "      <td>110.0</td>\n",
       "      <td>171.0</td>\n",
       "      <td>394.0</td>\n",
       "      <td>1996.0</td>\n",
       "      <td>3591.0</td>\n",
       "      <td>431.0</td>\n",
       "      <td>1050.0</td>\n",
       "      <td>183.0</td>\n",
       "      <td>12708.0</td>\n",
       "      <td>10288.0</td>\n",
       "      <td>209.0</td>\n",
       "      <td>92.0</td>\n",
       "      <td>84.0</td>\n",
       "      <td>321.0</td>\n",
       "      <td>162.0</td>\n",
       "      <td>1262.0</td>\n",
       "      <td>61.0</td>\n",
       "      <td>1355.0</td>\n",
       "    </tr>\n",
       "    <tr>\n",
       "      <th>2018-03-04 03:34:24.925354</th>\n",
       "      <td>250.0</td>\n",
       "      <td>1082.0</td>\n",
       "      <td>2923.0</td>\n",
       "      <td>1086.0</td>\n",
       "      <td>79.0</td>\n",
       "      <td>157.0</td>\n",
       "      <td>55.0</td>\n",
       "      <td>100.0</td>\n",
       "      <td>65.0</td>\n",
       "      <td>197.0</td>\n",
       "      <td>145.0</td>\n",
       "      <td>24.0</td>\n",
       "      <td>32660.0</td>\n",
       "      <td>336.0</td>\n",
       "      <td>4633.0</td>\n",
       "      <td>18008.0</td>\n",
       "      <td>304.0</td>\n",
       "      <td>955.0</td>\n",
       "      <td>108.0</td>\n",
       "      <td>803.0</td>\n",
       "      <td>5570.0</td>\n",
       "      <td>158.0</td>\n",
       "      <td>476.0</td>\n",
       "      <td>683.0</td>\n",
       "      <td>58.0</td>\n",
       "      <td>78.0</td>\n",
       "      <td>998.0</td>\n",
       "      <td>4953.0</td>\n",
       "      <td>223.0</td>\n",
       "      <td>686.0</td>\n",
       "      <td>6370.0</td>\n",
       "      <td>1662.0</td>\n",
       "      <td>1552.0</td>\n",
       "      <td>191.0</td>\n",
       "      <td>129.0</td>\n",
       "      <td>1303.0</td>\n",
       "      <td>631.0</td>\n",
       "      <td>381.0</td>\n",
       "      <td>165.0</td>\n",
       "      <td>30.0</td>\n",
       "      <td>487.0</td>\n",
       "      <td>1970.0</td>\n",
       "      <td>233.0</td>\n",
       "      <td>4847.0</td>\n",
       "      <td>997.0</td>\n",
       "      <td>1229.0</td>\n",
       "      <td>2749.0</td>\n",
       "      <td>243.0</td>\n",
       "      <td>340.0</td>\n",
       "      <td>1085.0</td>\n",
       "      <td>7691.0</td>\n",
       "      <td>298.0</td>\n",
       "      <td>10276.0</td>\n",
       "      <td>1581.0</td>\n",
       "      <td>9454.0</td>\n",
       "      <td>237.0</td>\n",
       "      <td>983.0</td>\n",
       "      <td>174.0</td>\n",
       "      <td>7960.0</td>\n",
       "      <td>109.0</td>\n",
       "      <td>175.0</td>\n",
       "      <td>391.0</td>\n",
       "      <td>1988.0</td>\n",
       "      <td>3596.0</td>\n",
       "      <td>426.0</td>\n",
       "      <td>1035.0</td>\n",
       "      <td>182.0</td>\n",
       "      <td>12872.0</td>\n",
       "      <td>10330.0</td>\n",
       "      <td>209.0</td>\n",
       "      <td>91.0</td>\n",
       "      <td>83.0</td>\n",
       "      <td>326.0</td>\n",
       "      <td>161.0</td>\n",
       "      <td>1409.0</td>\n",
       "      <td>62.0</td>\n",
       "      <td>1358.0</td>\n",
       "    </tr>\n",
       "  </tbody>\n",
       "</table>\n",
       "</div>"
      ],
      "text/plain": [
       "name                        ABC News  AP News  Alternet   Axios   BBC  \\\n",
       "datetime                                                                \n",
       "2017-11-15 12:00:00.000000     277.0    949.0    2457.0  1318.0  83.0   \n",
       "2018-03-02 05:04:22.252590     249.0   1088.0    2903.0  1036.0  80.0   \n",
       "2018-03-04 03:34:24.925354     250.0   1082.0    2923.0  1086.0  79.0   \n",
       "\n",
       "name                        Bloomberg  Breitbart  Business Insider  BuzzFeed  \\\n",
       "datetime                                                                       \n",
       "2017-11-15 12:00:00.000000      170.0       50.0              92.0      55.0   \n",
       "2018-03-02 05:04:22.252590      155.0       54.0             100.0      66.0   \n",
       "2018-03-04 03:34:24.925354      157.0       55.0             100.0      65.0   \n",
       "\n",
       "name                        CBS News   CNBC   CNN  \\\n",
       "datetime                                            \n",
       "2017-11-15 12:00:00.000000     240.0  180.0  27.0   \n",
       "2018-03-02 05:04:22.252590     193.0  143.0  24.0   \n",
       "2018-03-04 03:34:24.925354     197.0  145.0  24.0   \n",
       "\n",
       "name                        Center for Investigative Reporting  Chron  \\\n",
       "datetime                                                                \n",
       "2017-11-15 12:00:00.000000                             29557.0  356.0   \n",
       "2018-03-02 05:04:22.252590                             34240.0  335.0   \n",
       "2018-03-04 03:34:24.925354                             32660.0  336.0   \n",
       "\n",
       "name                        Common Dreams  Conservative Review  Daily Beast  \\\n",
       "datetime                                                                      \n",
       "2017-11-15 12:00:00.000000         5238.0              16442.0        275.0   \n",
       "2018-03-02 05:04:22.252590         4820.0              17709.0        317.0   \n",
       "2018-03-04 03:34:24.925354         4633.0              18008.0        304.0   \n",
       "\n",
       "name                        Daily Kos  Daily Mail  Daily Wire  Democracy Now!  \\\n",
       "datetime                                                                        \n",
       "2017-11-15 12:00:00.000000        NaN        97.0       697.0          4687.0   \n",
       "2018-03-02 05:04:22.252590        NaN       109.0       780.0          5522.0   \n",
       "2018-03-04 03:34:24.925354      955.0       108.0       803.0          5570.0   \n",
       "\n",
       "name                        Drudge Report  FiveThirtyEight  Fortune  Fox News  \\\n",
       "datetime                                                                        \n",
       "2017-11-15 12:00:00.000000          150.0            391.0    602.0      56.0   \n",
       "2018-03-02 05:04:22.252590          157.0            482.0    684.0      57.0   \n",
       "2018-03-04 03:34:24.925354          158.0            476.0    683.0      58.0   \n",
       "\n",
       "name                        HuffPost  Infowars  International Business Times  \\\n",
       "datetime                                                                       \n",
       "2017-11-15 12:00:00.000000      70.0     844.0                         706.0   \n",
       "2018-03-02 05:04:22.252590      78.0    1006.0                        4166.0   \n",
       "2018-03-04 03:34:24.925354      78.0     998.0                        4953.0   \n",
       "\n",
       "name                        LA Times  MSNBC  Media Matters for America  \\\n",
       "datetime                                                                 \n",
       "2017-11-15 12:00:00.000000     179.0  665.0                     5235.0   \n",
       "2018-03-02 05:04:22.252590     220.0  687.0                     6430.0   \n",
       "2018-03-04 03:34:24.925354     223.0  686.0                     6370.0   \n",
       "\n",
       "name                        Mediaite  Mother Jones  NBC News    NPR  \\\n",
       "datetime                                                              \n",
       "2017-11-15 12:00:00.000000    1381.0        1804.0     206.0  147.0   \n",
       "2018-03-02 05:04:22.252590    1696.0        1533.0     196.0  130.0   \n",
       "2018-03-04 03:34:24.925354    1662.0        1552.0     191.0  129.0   \n",
       "\n",
       "name                        National Review  New York  New York Daily News  \\\n",
       "datetime                                                                     \n",
       "2017-11-15 12:00:00.000000           1400.0       NaN                269.0   \n",
       "2018-03-02 05:04:22.252590           1302.0       NaN                375.0   \n",
       "2018-03-04 03:34:24.925354           1303.0     631.0                381.0   \n",
       "\n",
       "name                        New York Post  New York Times  Newsweek  \\\n",
       "datetime                                                              \n",
       "2017-11-15 12:00:00.000000          160.0            31.0     327.0   \n",
       "2018-03-02 05:04:22.252590          165.0            30.0     512.0   \n",
       "2018-03-04 03:34:24.925354          165.0            30.0     487.0   \n",
       "\n",
       "name                        PolitiFact  Politico  ProPublica  RawStory  \\\n",
       "datetime                                                                 \n",
       "2017-11-15 12:00:00.000000      2209.0     201.0      5058.0     975.0   \n",
       "2018-03-02 05:04:22.252590      1943.0     229.0      4892.0     996.0   \n",
       "2018-03-04 03:34:24.925354      1970.0     233.0      4847.0     997.0   \n",
       "\n",
       "name                        RealClearPolitics  Reason  Reuters  SFGate  \\\n",
       "datetime                                                                 \n",
       "2017-11-15 12:00:00.000000             1173.0  3358.0    268.0   314.0   \n",
       "2018-03-02 05:04:22.252590             1210.0  2786.0    245.0   346.0   \n",
       "2018-03-04 03:34:24.925354             1229.0  2749.0    243.0   340.0   \n",
       "\n",
       "name                         Salon  Shareblue Media  Slate  TYT Network  \\\n",
       "datetime                                                                  \n",
       "2017-11-15 12:00:00.000000   657.0           2851.0  279.0      10010.0   \n",
       "2018-03-02 05:04:22.252590  1062.0           7359.0  300.0      10424.0   \n",
       "2018-03-04 03:34:24.925354  1085.0           7691.0  298.0      10276.0   \n",
       "\n",
       "name                        Talking Points Memo  The American Conservative  \\\n",
       "datetime                                                                     \n",
       "2017-11-15 12:00:00.000000               1455.0                     8163.0   \n",
       "2018-03-02 05:04:22.252590               1642.0                     9515.0   \n",
       "2018-03-04 03:34:24.925354               1581.0                     9454.0   \n",
       "\n",
       "name                        The Atlantic  The Boston Globe  The Daily Caller  \\\n",
       "datetime                                                                       \n",
       "2017-11-15 12:00:00.000000         250.0            1100.0               NaN   \n",
       "2018-03-02 05:04:22.252590         237.0             998.0             172.0   \n",
       "2018-03-04 03:34:24.925354         237.0             983.0             174.0   \n",
       "\n",
       "name                        The Daily Stormer  The Guardian  The Hill  \\\n",
       "datetime                                                                \n",
       "2017-11-15 12:00:00.000000                NaN         104.0     183.0   \n",
       "2018-03-02 05:04:22.252590             8538.0         110.0     171.0   \n",
       "2018-03-04 03:34:24.925354             7960.0         109.0     175.0   \n",
       "\n",
       "name                        The Independent  The Intercept  The Nation  \\\n",
       "datetime                                                                 \n",
       "2017-11-15 12:00:00.000000            335.0         2392.0      3350.0   \n",
       "2018-03-02 05:04:22.252590            394.0         1996.0      3591.0   \n",
       "2018-03-04 03:34:24.925354            391.0         1988.0      3596.0   \n",
       "\n",
       "name                        The New Yorker  ThinkProgress  Time Magazine  \\\n",
       "datetime                                                                   \n",
       "2017-11-15 12:00:00.000000           393.0         1362.0          264.0   \n",
       "2018-03-02 05:04:22.252590           431.0         1050.0          183.0   \n",
       "2018-03-04 03:34:24.925354           426.0         1035.0          182.0   \n",
       "\n",
       "name                        Truthdig  Truthout  U.S. News & World Report  \\\n",
       "datetime                                                                   \n",
       "2017-11-15 12:00:00.000000   15229.0   11515.0                     208.0   \n",
       "2018-03-02 05:04:22.252590   12708.0   10288.0                     209.0   \n",
       "2018-03-04 03:34:24.925354   12872.0   10330.0                     209.0   \n",
       "\n",
       "name                        USA Today  Vice    Vox  Wall Street Journal  \\\n",
       "datetime                                                                  \n",
       "2017-11-15 12:00:00.000000      111.0  89.0  380.0                171.0   \n",
       "2018-03-02 05:04:22.252590       92.0  84.0  321.0                162.0   \n",
       "2018-03-04 03:34:24.925354       91.0  83.0  326.0                161.0   \n",
       "\n",
       "name                        Washington Examiner  Washington Post  \\\n",
       "datetime                                                           \n",
       "2017-11-15 12:00:00.000000                  NaN             48.0   \n",
       "2018-03-02 05:04:22.252590               1262.0             61.0   \n",
       "2018-03-04 03:34:24.925354               1409.0             62.0   \n",
       "\n",
       "name                        Washington Times  \n",
       "datetime                                      \n",
       "2017-11-15 12:00:00.000000            1359.0  \n",
       "2018-03-02 05:04:22.252590            1355.0  \n",
       "2018-03-04 03:34:24.925354            1358.0  "
      ]
     },
     "execution_count": 57,
     "metadata": {},
     "output_type": "execute_result"
    }
   ],
   "source": [
    "df.tail()"
   ]
  },
  {
   "cell_type": "markdown",
   "metadata": {},
   "source": [
    "### Static Plot"
   ]
  },
  {
   "cell_type": "code",
   "execution_count": 58,
   "metadata": {
    "scrolled": false
   },
   "outputs": [
    {
     "data": {
      "text/plain": [
       "<matplotlib.legend.Legend at 0x2d7ebcd7128>"
      ]
     },
     "execution_count": 58,
     "metadata": {},
     "output_type": "execute_result"
    },
    {
     "name": "stderr",
     "output_type": "stream",
     "text": [
      "C:\\Users\\Joe\\Anaconda3\\lib\\site-packages\\matplotlib\\scale.py:111: RuntimeWarning: invalid value encountered in less_equal\n",
      "  out[a <= 0] = -1000\n"
     ]
    },
    {
     "data": {
      "image/png": "[encoded data removed]",
      "text/plain": [
       "<matplotlib.figure.Figure at 0x2d7eb751198>"
      ]
     },
     "metadata": {},
     "output_type": "display_data"
    }
   ],
   "source": [
    "f, ax = plt.subplots(figsize=(12, 36))\n",
    "ax.set(yscale=\"log\")\n",
    "for col in df.columns:\n",
    "    plt.plot(df.index, df[col], '.-')\n",
    "plt.legend(df.columns, bbox_to_anchor=(1,1))"
   ]
  },
  {
   "cell_type": "markdown",
   "metadata": {},
   "source": [
    "### Plotly"
   ]
  },
  {
   "cell_type": "code",
   "execution_count": 70,
   "metadata": {},
   "outputs": [],
   "source": [
    "import plotly\n",
    "plotly.tools.set_credentials_file(username='jgcorliss', api_key='••••••••••')"
   ]
  },
  {
   "cell_type": "code",
   "execution_count": 76,
   "metadata": {},
   "outputs": [
    {
     "data": {
      "application/vnd.plotly.v1+json": {
       "data": [
        {
         "name": "ABC News",
         "type": "scatter",
         "x": [
          "2017-11-15 12:00:00",
          "2018-03-02 05:04:22.252590",
          "2018-03-04 03:34:24.925354"
         ],
         "y": [
          277,
          249,
          250
         ]
        },
        {
         "name": "AP News",
         "type": "scatter",
         "x": [
          "2017-11-15 12:00:00",
          "2018-03-02 05:04:22.252590",
          "2018-03-04 03:34:24.925354"
         ],
         "y": [
          949,
          1088,
          1082
         ]
        },
        {
         "name": "Alternet",
         "type": "scatter",
         "x": [
          "2017-11-15 12:00:00",
          "2018-03-02 05:04:22.252590",
          "2018-03-04 03:34:24.925354"
         ],
         "y": [
          2457,
          2903,
          2923
         ]
        },
        {
         "name": "Axios",
         "type": "scatter",
         "x": [
          "2017-11-15 12:00:00",
          "2018-03-02 05:04:22.252590",
          "2018-03-04 03:34:24.925354"
         ],
         "y": [
          1318,
          1036,
          1086
         ]
        },
        {
         "name": "BBC",
         "type": "scatter",
         "x": [
          "2017-11-15 12:00:00",
          "2018-03-02 05:04:22.252590",
          "2018-03-04 03:34:24.925354"
         ],
         "y": [
          83,
          80,
          79
         ]
        },
        {
         "name": "Bloomberg",
         "type": "scatter",
         "x": [
          "2017-11-15 12:00:00",
          "2018-03-02 05:04:22.252590",
          "2018-03-04 03:34:24.925354"
         ],
         "y": [
          170,
          155,
          157
         ]
        },
        {
         "name": "Breitbart",
         "type": "scatter",
         "x": [
          "2017-11-15 12:00:00",
          "2018-03-02 05:04:22.252590",
          "2018-03-04 03:34:24.925354"
         ],
         "y": [
          50,
          54,
          55
         ]
        },
        {
         "name": "Business Insider",
         "type": "scatter",
         "x": [
          "2017-11-15 12:00:00",
          "2018-03-02 05:04:22.252590",
          "2018-03-04 03:34:24.925354"
         ],
         "y": [
          92,
          100,
          100
         ]
        },
        {
         "name": "BuzzFeed",
         "type": "scatter",
         "x": [
          "2017-11-15 12:00:00",
          "2018-03-02 05:04:22.252590",
          "2018-03-04 03:34:24.925354"
         ],
         "y": [
          55,
          66,
          65
         ]
        },
        {
         "name": "CBS News",
         "type": "scatter",
         "x": [
          "2017-11-15 12:00:00",
          "2018-03-02 05:04:22.252590",
          "2018-03-04 03:34:24.925354"
         ],
         "y": [
          240,
          193,
          197
         ]
        },
        {
         "name": "CNBC",
         "type": "scatter",
         "x": [
          "2017-11-15 12:00:00",
          "2018-03-02 05:04:22.252590",
          "2018-03-04 03:34:24.925354"
         ],
         "y": [
          180,
          143,
          145
         ]
        },
        {
         "name": "CNN",
         "type": "scatter",
         "x": [
          "2017-11-15 12:00:00",
          "2018-03-02 05:04:22.252590",
          "2018-03-04 03:34:24.925354"
         ],
         "y": [
          27,
          24,
          24
         ]
        },
        {
         "name": "Center for Investigative Reporting",
         "type": "scatter",
         "x": [
          "2017-11-15 12:00:00",
          "2018-03-02 05:04:22.252590",
          "2018-03-04 03:34:24.925354"
         ],
         "y": [
          29557,
          34240,
          32660
         ]
        },
        {
         "name": "Chron",
         "type": "scatter",
         "x": [
          "2017-11-15 12:00:00",
          "2018-03-02 05:04:22.252590",
          "2018-03-04 03:34:24.925354"
         ],
         "y": [
          356,
          335,
          336
         ]
        },
        {
         "name": "Common Dreams",
         "type": "scatter",
         "x": [
          "2017-11-15 12:00:00",
          "2018-03-02 05:04:22.252590",
          "2018-03-04 03:34:24.925354"
         ],
         "y": [
          5238,
          4820,
          4633
         ]
        },
        {
         "name": "Conservative Review",
         "type": "scatter",
         "x": [
          "2017-11-15 12:00:00",
          "2018-03-02 05:04:22.252590",
          "2018-03-04 03:34:24.925354"
         ],
         "y": [
          16442,
          17709,
          18008
         ]
        },
        {
         "name": "Daily Beast",
         "type": "scatter",
         "x": [
          "2017-11-15 12:00:00",
          "2018-03-02 05:04:22.252590",
          "2018-03-04 03:34:24.925354"
         ],
         "y": [
          275,
          317,
          304
         ]
        },
        {
         "name": "Daily Kos",
         "type": "scatter",
         "x": [
          "2017-11-15 12:00:00",
          "2018-03-02 05:04:22.252590",
          "2018-03-04 03:34:24.925354"
         ],
         "y": [
          null,
          null,
          955
         ]
        },
        {
         "name": "Daily Mail",
         "type": "scatter",
         "x": [
          "2017-11-15 12:00:00",
          "2018-03-02 05:04:22.252590",
          "2018-03-04 03:34:24.925354"
         ],
         "y": [
          97,
          109,
          108
         ]
        },
        {
         "name": "Daily Wire",
         "type": "scatter",
         "x": [
          "2017-11-15 12:00:00",
          "2018-03-02 05:04:22.252590",
          "2018-03-04 03:34:24.925354"
         ],
         "y": [
          697,
          780,
          803
         ]
        },
        {
         "name": "Democracy Now!",
         "type": "scatter",
         "x": [
          "2017-11-15 12:00:00",
          "2018-03-02 05:04:22.252590",
          "2018-03-04 03:34:24.925354"
         ],
         "y": [
          4687,
          5522,
          5570
         ]
        },
        {
         "name": "Drudge Report",
         "type": "scatter",
         "x": [
          "2017-11-15 12:00:00",
          "2018-03-02 05:04:22.252590",
          "2018-03-04 03:34:24.925354"
         ],
         "y": [
          150,
          157,
          158
         ]
        },
        {
         "name": "FiveThirtyEight",
         "type": "scatter",
         "x": [
          "2017-11-15 12:00:00",
          "2018-03-02 05:04:22.252590",
          "2018-03-04 03:34:24.925354"
         ],
         "y": [
          391,
          482,
          476
         ]
        },
        {
         "name": "Fortune",
         "type": "scatter",
         "x": [
          "2017-11-15 12:00:00",
          "2018-03-02 05:04:22.252590",
          "2018-03-04 03:34:24.925354"
         ],
         "y": [
          602,
          684,
          683
         ]
        },
        {
         "name": "Fox News",
         "type": "scatter",
         "x": [
          "2017-11-15 12:00:00",
          "2018-03-02 05:04:22.252590",
          "2018-03-04 03:34:24.925354"
         ],
         "y": [
          56,
          57,
          58
         ]
        },
        {
         "name": "HuffPost",
         "type": "scatter",
         "x": [
          "2017-11-15 12:00:00",
          "2018-03-02 05:04:22.252590",
          "2018-03-04 03:34:24.925354"
         ],
         "y": [
          70,
          78,
          78
         ]
        },
        {
         "name": "Infowars",
         "type": "scatter",
         "x": [
          "2017-11-15 12:00:00",
          "2018-03-02 05:04:22.252590",
          "2018-03-04 03:34:24.925354"
         ],
         "y": [
          844,
          1006,
          998
         ]
        },
        {
         "name": "International Business Times",
         "type": "scatter",
         "x": [
          "2017-11-15 12:00:00",
          "2018-03-02 05:04:22.252590",
          "2018-03-04 03:34:24.925354"
         ],
         "y": [
          706,
          4166,
          4953
         ]
        },
        {
         "name": "LA Times",
         "type": "scatter",
         "x": [
          "2017-11-15 12:00:00",
          "2018-03-02 05:04:22.252590",
          "2018-03-04 03:34:24.925354"
         ],
         "y": [
          179,
          220,
          223
         ]
        },
        {
         "name": "MSNBC",
         "type": "scatter",
         "x": [
          "2017-11-15 12:00:00",
          "2018-03-02 05:04:22.252590",
          "2018-03-04 03:34:24.925354"
         ],
         "y": [
          665,
          687,
          686
         ]
        },
        {
         "name": "Media Matters for America",
         "type": "scatter",
         "x": [
          "2017-11-15 12:00:00",
          "2018-03-02 05:04:22.252590",
          "2018-03-04 03:34:24.925354"
         ],
         "y": [
          5235,
          6430,
          6370
         ]
        },
        {
         "name": "Mediaite",
         "type": "scatter",
         "x": [
          "2017-11-15 12:00:00",
          "2018-03-02 05:04:22.252590",
          "2018-03-04 03:34:24.925354"
         ],
         "y": [
          1381,
          1696,
          1662
         ]
        },
        {
         "name": "Mother Jones",
         "type": "scatter",
         "x": [
          "2017-11-15 12:00:00",
          "2018-03-02 05:04:22.252590",
          "2018-03-04 03:34:24.925354"
         ],
         "y": [
          1804,
          1533,
          1552
         ]
        },
        {
         "name": "NBC News",
         "type": "scatter",
         "x": [
          "2017-11-15 12:00:00",
          "2018-03-02 05:04:22.252590",
          "2018-03-04 03:34:24.925354"
         ],
         "y": [
          206,
          196,
          191
         ]
        },
        {
         "name": "NPR",
         "type": "scatter",
         "x": [
          "2017-11-15 12:00:00",
          "2018-03-02 05:04:22.252590",
          "2018-03-04 03:34:24.925354"
         ],
         "y": [
          147,
          130,
          129
         ]
        },
        {
         "name": "National Review",
         "type": "scatter",
         "x": [
          "2017-11-15 12:00:00",
          "2018-03-02 05:04:22.252590",
          "2018-03-04 03:34:24.925354"
         ],
         "y": [
          1400,
          1302,
          1303
         ]
        },
        {
         "name": "New York",
         "type": "scatter",
         "x": [
          "2017-11-15 12:00:00",
          "2018-03-02 05:04:22.252590",
          "2018-03-04 03:34:24.925354"
         ],
         "y": [
          null,
          null,
          631
         ]
        },
        {
         "name": "New York Daily News",
         "type": "scatter",
         "x": [
          "2017-11-15 12:00:00",
          "2018-03-02 05:04:22.252590",
          "2018-03-04 03:34:24.925354"
         ],
         "y": [
          269,
          375,
          381
         ]
        },
        {
         "name": "New York Post",
         "type": "scatter",
         "x": [
          "2017-11-15 12:00:00",
          "2018-03-02 05:04:22.252590",
          "2018-03-04 03:34:24.925354"
         ],
         "y": [
          160,
          165,
          165
         ]
        },
        {
         "name": "New York Times",
         "type": "scatter",
         "x": [
          "2017-11-15 12:00:00",
          "2018-03-02 05:04:22.252590",
          "2018-03-04 03:34:24.925354"
         ],
         "y": [
          31,
          30,
          30
         ]
        },
        {
         "name": "Newsweek",
         "type": "scatter",
         "x": [
          "2017-11-15 12:00:00",
          "2018-03-02 05:04:22.252590",
          "2018-03-04 03:34:24.925354"
         ],
         "y": [
          327,
          512,
          487
         ]
        },
        {
         "name": "PolitiFact",
         "type": "scatter",
         "x": [
          "2017-11-15 12:00:00",
          "2018-03-02 05:04:22.252590",
          "2018-03-04 03:34:24.925354"
         ],
         "y": [
          2209,
          1943,
          1970
         ]
        },
        {
         "name": "Politico",
         "type": "scatter",
         "x": [
          "2017-11-15 12:00:00",
          "2018-03-02 05:04:22.252590",
          "2018-03-04 03:34:24.925354"
         ],
         "y": [
          201,
          229,
          233
         ]
        },
        {
         "name": "ProPublica",
         "type": "scatter",
         "x": [
          "2017-11-15 12:00:00",
          "2018-03-02 05:04:22.252590",
          "2018-03-04 03:34:24.925354"
         ],
         "y": [
          5058,
          4892,
          4847
         ]
        },
        {
         "name": "RawStory",
         "type": "scatter",
         "x": [
          "2017-11-15 12:00:00",
          "2018-03-02 05:04:22.252590",
          "2018-03-04 03:34:24.925354"
         ],
         "y": [
          975,
          996,
          997
         ]
        },
        {
         "name": "RealClearPolitics",
         "type": "scatter",
         "x": [
          "2017-11-15 12:00:00",
          "2018-03-02 05:04:22.252590",
          "2018-03-04 03:34:24.925354"
         ],
         "y": [
          1173,
          1210,
          1229
         ]
        },
        {
         "name": "Reason",
         "type": "scatter",
         "x": [
          "2017-11-15 12:00:00",
          "2018-03-02 05:04:22.252590",
          "2018-03-04 03:34:24.925354"
         ],
         "y": [
          3358,
          2786,
          2749
         ]
        },
        {
         "name": "Reuters",
         "type": "scatter",
         "x": [
          "2017-11-15 12:00:00",
          "2018-03-02 05:04:22.252590",
          "2018-03-04 03:34:24.925354"
         ],
         "y": [
          268,
          245,
          243
         ]
        },
        {
         "name": "SFGate",
         "type": "scatter",
         "x": [
          "2017-11-15 12:00:00",
          "2018-03-02 05:04:22.252590",
          "2018-03-04 03:34:24.925354"
         ],
         "y": [
          314,
          346,
          340
         ]
        },
        {
         "name": "Salon",
         "type": "scatter",
         "x": [
          "2017-11-15 12:00:00",
          "2018-03-02 05:04:22.252590",
          "2018-03-04 03:34:24.925354"
         ],
         "y": [
          657,
          1062,
          1085
         ]
        },
        {
         "name": "Shareblue Media",
         "type": "scatter",
         "x": [
          "2017-11-15 12:00:00",
          "2018-03-02 05:04:22.252590",
          "2018-03-04 03:34:24.925354"
         ],
         "y": [
          2851,
          7359,
          7691
         ]
        },
        {
         "name": "Slate",
         "type": "scatter",
         "x": [
          "2017-11-15 12:00:00",
          "2018-03-02 05:04:22.252590",
          "2018-03-04 03:34:24.925354"
         ],
         "y": [
          279,
          300,
          298
         ]
        },
        {
         "name": "TYT Network",
         "type": "scatter",
         "x": [
          "2017-11-15 12:00:00",
          "2018-03-02 05:04:22.252590",
          "2018-03-04 03:34:24.925354"
         ],
         "y": [
          10010,
          10424,
          10276
         ]
        },
        {
         "name": "Talking Points Memo",
         "type": "scatter",
         "x": [
          "2017-11-15 12:00:00",
          "2018-03-02 05:04:22.252590",
          "2018-03-04 03:34:24.925354"
         ],
         "y": [
          1455,
          1642,
          1581
         ]
        },
        {
         "name": "The American Conservative",
         "type": "scatter",
         "x": [
          "2017-11-15 12:00:00",
          "2018-03-02 05:04:22.252590",
          "2018-03-04 03:34:24.925354"
         ],
         "y": [
          8163,
          9515,
          9454
         ]
        },
        {
         "name": "The Atlantic",
         "type": "scatter",
         "x": [
          "2017-11-15 12:00:00",
          "2018-03-02 05:04:22.252590",
          "2018-03-04 03:34:24.925354"
         ],
         "y": [
          250,
          237,
          237
         ]
        },
        {
         "name": "The Boston Globe",
         "type": "scatter",
         "x": [
          "2017-11-15 12:00:00",
          "2018-03-02 05:04:22.252590",
          "2018-03-04 03:34:24.925354"
         ],
         "y": [
          1100,
          998,
          983
         ]
        },
        {
         "name": "The Daily Caller",
         "type": "scatter",
         "x": [
          "2017-11-15 12:00:00",
          "2018-03-02 05:04:22.252590",
          "2018-03-04 03:34:24.925354"
         ],
         "y": [
          null,
          172,
          174
         ]
        },
        {
         "name": "The Daily Stormer",
         "type": "scatter",
         "x": [
          "2017-11-15 12:00:00",
          "2018-03-02 05:04:22.252590",
          "2018-03-04 03:34:24.925354"
         ],
         "y": [
          null,
          8538,
          7960
         ]
        },
        {
         "name": "The Guardian",
         "type": "scatter",
         "x": [
          "2017-11-15 12:00:00",
          "2018-03-02 05:04:22.252590",
          "2018-03-04 03:34:24.925354"
         ],
         "y": [
          104,
          110,
          109
         ]
        },
        {
         "name": "The Hill",
         "type": "scatter",
         "x": [
          "2017-11-15 12:00:00",
          "2018-03-02 05:04:22.252590",
          "2018-03-04 03:34:24.925354"
         ],
         "y": [
          183,
          171,
          175
         ]
        },
        {
         "name": "The Independent",
         "type": "scatter",
         "x": [
          "2017-11-15 12:00:00",
          "2018-03-02 05:04:22.252590",
          "2018-03-04 03:34:24.925354"
         ],
         "y": [
          335,
          394,
          391
         ]
        },
        {
         "name": "The Intercept",
         "type": "scatter",
         "x": [
          "2017-11-15 12:00:00",
          "2018-03-02 05:04:22.252590",
          "2018-03-04 03:34:24.925354"
         ],
         "y": [
          2392,
          1996,
          1988
         ]
        },
        {
         "name": "The Nation",
         "type": "scatter",
         "x": [
          "2017-11-15 12:00:00",
          "2018-03-02 05:04:22.252590",
          "2018-03-04 03:34:24.925354"
         ],
         "y": [
          3350,
          3591,
          3596
         ]
        },
        {
         "name": "The New Yorker",
         "type": "scatter",
         "x": [
          "2017-11-15 12:00:00",
          "2018-03-02 05:04:22.252590",
          "2018-03-04 03:34:24.925354"
         ],
         "y": [
          393,
          431,
          426
         ]
        },
        {
         "name": "ThinkProgress",
         "type": "scatter",
         "x": [
          "2017-11-15 12:00:00",
          "2018-03-02 05:04:22.252590",
          "2018-03-04 03:34:24.925354"
         ],
         "y": [
          1362,
          1050,
          1035
         ]
        },
        {
         "name": "Time Magazine",
         "type": "scatter",
         "x": [
          "2017-11-15 12:00:00",
          "2018-03-02 05:04:22.252590",
          "2018-03-04 03:34:24.925354"
         ],
         "y": [
          264,
          183,
          182
         ]
        },
        {
         "name": "Truthdig",
         "type": "scatter",
         "x": [
          "2017-11-15 12:00:00",
          "2018-03-02 05:04:22.252590",
          "2018-03-04 03:34:24.925354"
         ],
         "y": [
          15229,
          12708,
          12872
         ]
        },
        {
         "name": "Truthout",
         "type": "scatter",
         "x": [
          "2017-11-15 12:00:00",
          "2018-03-02 05:04:22.252590",
          "2018-03-04 03:34:24.925354"
         ],
         "y": [
          11515,
          10288,
          10330
         ]
        },
        {
         "name": "U.S. News & World Report",
         "type": "scatter",
         "x": [
          "2017-11-15 12:00:00",
          "2018-03-02 05:04:22.252590",
          "2018-03-04 03:34:24.925354"
         ],
         "y": [
          208,
          209,
          209
         ]
        },
        {
         "name": "USA Today",
         "type": "scatter",
         "x": [
          "2017-11-15 12:00:00",
          "2018-03-02 05:04:22.252590",
          "2018-03-04 03:34:24.925354"
         ],
         "y": [
          111,
          92,
          91
         ]
        },
        {
         "name": "Vice",
         "type": "scatter",
         "x": [
          "2017-11-15 12:00:00",
          "2018-03-02 05:04:22.252590",
          "2018-03-04 03:34:24.925354"
         ],
         "y": [
          89,
          84,
          83
         ]
        },
        {
         "name": "Vox",
         "type": "scatter",
         "x": [
          "2017-11-15 12:00:00",
          "2018-03-02 05:04:22.252590",
          "2018-03-04 03:34:24.925354"
         ],
         "y": [
          380,
          321,
          326
         ]
        },
        {
         "name": "Wall Street Journal",
         "type": "scatter",
         "x": [
          "2017-11-15 12:00:00",
          "2018-03-02 05:04:22.252590",
          "2018-03-04 03:34:24.925354"
         ],
         "y": [
          171,
          162,
          161
         ]
        },
        {
         "name": "Washington Examiner",
         "type": "scatter",
         "x": [
          "2017-11-15 12:00:00",
          "2018-03-02 05:04:22.252590",
          "2018-03-04 03:34:24.925354"
         ],
         "y": [
          null,
          1262,
          1409
         ]
        },
        {
         "name": "Washington Post",
         "type": "scatter",
         "x": [
          "2017-11-15 12:00:00",
          "2018-03-02 05:04:22.252590",
          "2018-03-04 03:34:24.925354"
         ],
         "y": [
          48,
          61,
          62
         ]
        },
        {
         "name": "Washington Times",
         "type": "scatter",
         "x": [
          "2017-11-15 12:00:00",
          "2018-03-02 05:04:22.252590",
          "2018-03-04 03:34:24.925354"
         ],
         "y": [
          1359,
          1355,
          1358
         ]
        }
       ],
       "layout": {
        "xaxis": {
         "autorange": true
        },
        "yaxis": {
         "autorange": true,
         "type": "log"
        }
       }
      },
      "text/html": [
       "<div id=\"426906f6-eaa4-4ba9-b85b-386647e7e88b\" style=\"height: 525px; width: 100%;\" class=\"plotly-graph-div\"></div><script type=\"text/javascript\">require([\"plotly\"], function(Plotly) { window.PLOTLYENV=window.PLOTLYENV || {};window.PLOTLYENV.BASE_URL=\"https://plot.ly\";Plotly.newPlot(\"426906f6-eaa4-4ba9-b85b-386647e7e88b\", [{\"type\": \"scatter\", \"x\": [\"2017-11-15 12:00:00\", \"2018-03-02 05:04:22.252590\", \"2018-03-04 03:34:24.925354\"], \"y\": [277.0, 249.0, 250.0], \"name\": \"ABC News\"}, {\"type\": \"scatter\", \"x\": [\"2017-11-15 12:00:00\", \"2018-03-02 05:04:22.252590\", \"2018-03-04 03:34:24.925354\"], \"y\": [949.0, 1088.0, 1082.0], \"name\": \"AP News\"}, {\"type\": \"scatter\", \"x\": [\"2017-11-15 12:00:00\", \"2018-03-02 05:04:22.252590\", \"2018-03-04 03:34:24.925354\"], \"y\": [2457.0, 2903.0, 2923.0], \"name\": \"Alternet\"}, {\"type\": \"scatter\", \"x\": [\"2017-11-15 12:00:00\", \"2018-03-02 05:04:22.252590\", \"2018-03-04 03:34:24.925354\"], \"y\": [1318.0, 1036.0, 1086.0], \"name\": \"Axios\"}, {\"type\": \"scatter\", \"x\": [\"2017-11-15 12:00:00\", \"2018-03-02 05:04:22.252590\", \"2018-03-04 03:34:24.925354\"], \"y\": [83.0, 80.0, 79.0], \"name\": \"BBC\"}, {\"type\": \"scatter\", \"x\": [\"2017-11-15 12:00:00\", \"2018-03-02 05:04:22.252590\", \"2018-03-04 03:34:24.925354\"], \"y\": [170.0, 155.0, 157.0], \"name\": \"Bloomberg\"}, {\"type\": \"scatter\", \"x\": [\"2017-11-15 12:00:00\", \"2018-03-02 05:04:22.252590\", \"2018-03-04 03:34:24.925354\"], \"y\": [50.0, 54.0, 55.0], \"name\": \"Breitbart\"}, {\"type\": \"scatter\", \"x\": [\"2017-11-15 12:00:00\", \"2018-03-02 05:04:22.252590\", \"2018-03-04 03:34:24.925354\"], \"y\": [92.0, 100.0, 100.0], \"name\": \"Business Insider\"}, {\"type\": \"scatter\", \"x\": [\"2017-11-15 12:00:00\", \"2018-03-02 05:04:22.252590\", \"2018-03-04 03:34:24.925354\"], \"y\": [55.0, 66.0, 65.0], \"name\": \"BuzzFeed\"}, {\"type\": \"scatter\", \"x\": [\"2017-11-15 12:00:00\", \"2018-03-02 05:04:22.252590\", \"2018-03-04 03:34:24.925354\"], \"y\": [240.0, 193.0, 197.0], \"name\": \"CBS News\"}, {\"type\": \"scatter\", \"x\": [\"2017-11-15 12:00:00\", \"2018-03-02 05:04:22.252590\", \"2018-03-04 03:34:24.925354\"], \"y\": [180.0, 143.0, 145.0], \"name\": \"CNBC\"}, {\"type\": \"scatter\", \"x\": [\"2017-11-15 12:00:00\", \"2018-03-02 05:04:22.252590\", \"2018-03-04 03:34:24.925354\"], \"y\": [27.0, 24.0, 24.0], \"name\": \"CNN\"}, {\"type\": \"scatter\", \"x\": [\"2017-11-15 12:00:00\", \"2018-03-02 05:04:22.252590\", \"2018-03-04 03:34:24.925354\"], \"y\": [29557.0, 34240.0, 32660.0], \"name\": \"Center for Investigative Reporting\"}, {\"type\": \"scatter\", \"x\": [\"2017-11-15 12:00:00\", \"2018-03-02 05:04:22.252590\", \"2018-03-04 03:34:24.925354\"], \"y\": [356.0, 335.0, 336.0], \"name\": \"Chron\"}, {\"type\": \"scatter\", \"x\": [\"2017-11-15 12:00:00\", \"2018-03-02 05:04:22.252590\", \"2018-03-04 03:34:24.925354\"], \"y\": [5238.0, 4820.0, 4633.0], \"name\": \"Common Dreams\"}, {\"type\": \"scatter\", \"x\": [\"2017-11-15 12:00:00\", \"2018-03-02 05:04:22.252590\", \"2018-03-04 03:34:24.925354\"], \"y\": [16442.0, 17709.0, 18008.0], \"name\": \"Conservative Review\"}, {\"type\": \"scatter\", \"x\": [\"2017-11-15 12:00:00\", \"2018-03-02 05:04:22.252590\", \"2018-03-04 03:34:24.925354\"], \"y\": [275.0, 317.0, 304.0], \"name\": \"Daily Beast\"}, {\"type\": \"scatter\", \"x\": [\"2017-11-15 12:00:00\", \"2018-03-02 05:04:22.252590\", \"2018-03-04 03:34:24.925354\"], \"y\": [null, null, 955.0], \"name\": \"Daily Kos\"}, {\"type\": \"scatter\", \"x\": [\"2017-11-15 12:00:00\", \"2018-03-02 05:04:22.252590\", \"2018-03-04 03:34:24.925354\"], \"y\": [97.0, 109.0, 108.0], \"name\": \"Daily Mail\"}, {\"type\": \"scatter\", \"x\": [\"2017-11-15 12:00:00\", \"2018-03-02 05:04:22.252590\", \"2018-03-04 03:34:24.925354\"], \"y\": [697.0, 780.0, 803.0], \"name\": \"Daily Wire\"}, {\"type\": \"scatter\", \"x\": [\"2017-11-15 12:00:00\", \"2018-03-02 05:04:22.252590\", \"2018-03-04 03:34:24.925354\"], \"y\": [4687.0, 5522.0, 5570.0], \"name\": \"Democracy Now!\"}, {\"type\": \"scatter\", \"x\": [\"2017-11-15 12:00:00\", \"2018-03-02 05:04:22.252590\", \"2018-03-04 03:34:24.925354\"], \"y\": [150.0, 157.0, 158.0], \"name\": \"Drudge Report\"}, {\"type\": \"scatter\", \"x\": [\"2017-11-15 12:00:00\", \"2018-03-02 05:04:22.252590\", \"2018-03-04 03:34:24.925354\"], \"y\": [391.0, 482.0, 476.0], \"name\": \"FiveThirtyEight\"}, {\"type\": \"scatter\", \"x\": [\"2017-11-15 12:00:00\", \"2018-03-02 05:04:22.252590\", \"2018-03-04 03:34:24.925354\"], \"y\": [602.0, 684.0, 683.0], \"name\": \"Fortune\"}, {\"type\": \"scatter\", \"x\": [\"2017-11-15 12:00:00\", \"2018-03-02 05:04:22.252590\", \"2018-03-04 03:34:24.925354\"], \"y\": [56.0, 57.0, 58.0], \"name\": \"Fox News\"}, {\"type\": \"scatter\", \"x\": [\"2017-11-15 12:00:00\", \"2018-03-02 05:04:22.252590\", \"2018-03-04 03:34:24.925354\"], \"y\": [70.0, 78.0, 78.0], \"name\": \"HuffPost\"}, {\"type\": \"scatter\", \"x\": [\"2017-11-15 12:00:00\", \"2018-03-02 05:04:22.252590\", \"2018-03-04 03:34:24.925354\"], \"y\": [844.0, 1006.0, 998.0], \"name\": \"Infowars\"}, {\"type\": \"scatter\", \"x\": [\"2017-11-15 12:00:00\", \"2018-03-02 05:04:22.252590\", \"2018-03-04 03:34:24.925354\"], \"y\": [706.0, 4166.0, 4953.0], \"name\": \"International Business Times\"}, {\"type\": \"scatter\", \"x\": [\"2017-11-15 12:00:00\", \"2018-03-02 05:04:22.252590\", \"2018-03-04 03:34:24.925354\"], \"y\": [179.0, 220.0, 223.0], \"name\": \"LA Times\"}, {\"type\": \"scatter\", \"x\": [\"2017-11-15 12:00:00\", \"2018-03-02 05:04:22.252590\", \"2018-03-04 03:34:24.925354\"], \"y\": [665.0, 687.0, 686.0], \"name\": \"MSNBC\"}, {\"type\": \"scatter\", \"x\": [\"2017-11-15 12:00:00\", \"2018-03-02 05:04:22.252590\", \"2018-03-04 03:34:24.925354\"], \"y\": [5235.0, 6430.0, 6370.0], \"name\": \"Media Matters for America\"}, {\"type\": \"scatter\", \"x\": [\"2017-11-15 12:00:00\", \"2018-03-02 05:04:22.252590\", \"2018-03-04 03:34:24.925354\"], \"y\": [1381.0, 1696.0, 1662.0], \"name\": \"Mediaite\"}, {\"type\": \"scatter\", \"x\": [\"2017-11-15 12:00:00\", \"2018-03-02 05:04:22.252590\", \"2018-03-04 03:34:24.925354\"], \"y\": [1804.0, 1533.0, 1552.0], \"name\": \"Mother Jones\"}, {\"type\": \"scatter\", \"x\": [\"2017-11-15 12:00:00\", \"2018-03-02 05:04:22.252590\", \"2018-03-04 03:34:24.925354\"], \"y\": [206.0, 196.0, 191.0], \"name\": \"NBC News\"}, {\"type\": \"scatter\", \"x\": [\"2017-11-15 12:00:00\", \"2018-03-02 05:04:22.252590\", \"2018-03-04 03:34:24.925354\"], \"y\": [147.0, 130.0, 129.0], \"name\": \"NPR\"}, {\"type\": \"scatter\", \"x\": [\"2017-11-15 12:00:00\", \"2018-03-02 05:04:22.252590\", \"2018-03-04 03:34:24.925354\"], \"y\": [1400.0, 1302.0, 1303.0], \"name\": \"National Review\"}, {\"type\": \"scatter\", \"x\": [\"2017-11-15 12:00:00\", \"2018-03-02 05:04:22.252590\", \"2018-03-04 03:34:24.925354\"], \"y\": [null, null, 631.0], \"name\": \"New York\"}, {\"type\": \"scatter\", \"x\": [\"2017-11-15 12:00:00\", \"2018-03-02 05:04:22.252590\", \"2018-03-04 03:34:24.925354\"], \"y\": [269.0, 375.0, 381.0], \"name\": \"New York Daily News\"}, {\"type\": \"scatter\", \"x\": [\"2017-11-15 12:00:00\", \"2018-03-02 05:04:22.252590\", \"2018-03-04 03:34:24.925354\"], \"y\": [160.0, 165.0, 165.0], \"name\": \"New York Post\"}, {\"type\": \"scatter\", \"x\": [\"2017-11-15 12:00:00\", \"2018-03-02 05:04:22.252590\", \"2018-03-04 03:34:24.925354\"], \"y\": [31.0, 30.0, 30.0], \"name\": \"New York Times\"}, {\"type\": \"scatter\", \"x\": [\"2017-11-15 12:00:00\", \"2018-03-02 05:04:22.252590\", \"2018-03-04 03:34:24.925354\"], \"y\": [327.0, 512.0, 487.0], \"name\": \"Newsweek\"}, {\"type\": \"scatter\", \"x\": [\"2017-11-15 12:00:00\", \"2018-03-02 05:04:22.252590\", \"2018-03-04 03:34:24.925354\"], \"y\": [2209.0, 1943.0, 1970.0], \"name\": \"PolitiFact\"}, {\"type\": \"scatter\", \"x\": [\"2017-11-15 12:00:00\", \"2018-03-02 05:04:22.252590\", \"2018-03-04 03:34:24.925354\"], \"y\": [201.0, 229.0, 233.0], \"name\": \"Politico\"}, {\"type\": \"scatter\", \"x\": [\"2017-11-15 12:00:00\", \"2018-03-02 05:04:22.252590\", \"2018-03-04 03:34:24.925354\"], \"y\": [5058.0, 4892.0, 4847.0], \"name\": \"ProPublica\"}, {\"type\": \"scatter\", \"x\": [\"2017-11-15 12:00:00\", \"2018-03-02 05:04:22.252590\", \"2018-03-04 03:34:24.925354\"], \"y\": [975.0, 996.0, 997.0], \"name\": \"RawStory\"}, {\"type\": \"scatter\", \"x\": [\"2017-11-15 12:00:00\", \"2018-03-02 05:04:22.252590\", \"2018-03-04 03:34:24.925354\"], \"y\": [1173.0, 1210.0, 1229.0], \"name\": \"RealClearPolitics\"}, {\"type\": \"scatter\", \"x\": [\"2017-11-15 12:00:00\", \"2018-03-02 05:04:22.252590\", \"2018-03-04 03:34:24.925354\"], \"y\": [3358.0, 2786.0, 2749.0], \"name\": \"Reason\"}, {\"type\": \"scatter\", \"x\": [\"2017-11-15 12:00:00\", \"2018-03-02 05:04:22.252590\", \"2018-03-04 03:34:24.925354\"], \"y\": [268.0, 245.0, 243.0], \"name\": \"Reuters\"}, {\"type\": \"scatter\", \"x\": [\"2017-11-15 12:00:00\", \"2018-03-02 05:04:22.252590\", \"2018-03-04 03:34:24.925354\"], \"y\": [314.0, 346.0, 340.0], \"name\": \"SFGate\"}, {\"type\": \"scatter\", \"x\": [\"2017-11-15 12:00:00\", \"2018-03-02 05:04:22.252590\", \"2018-03-04 03:34:24.925354\"], \"y\": [657.0, 1062.0, 1085.0], \"name\": \"Salon\"}, {\"type\": \"scatter\", \"x\": [\"2017-11-15 12:00:00\", \"2018-03-02 05:04:22.252590\", \"2018-03-04 03:34:24.925354\"], \"y\": [2851.0, 7359.0, 7691.0], \"name\": \"Shareblue Media\"}, {\"type\": \"scatter\", \"x\": [\"2017-11-15 12:00:00\", \"2018-03-02 05:04:22.252590\", \"2018-03-04 03:34:24.925354\"], \"y\": [279.0, 300.0, 298.0], \"name\": \"Slate\"}, {\"type\": \"scatter\", \"x\": [\"2017-11-15 12:00:00\", \"2018-03-02 05:04:22.252590\", \"2018-03-04 03:34:24.925354\"], \"y\": [10010.0, 10424.0, 10276.0], \"name\": \"TYT Network\"}, {\"type\": \"scatter\", \"x\": [\"2017-11-15 12:00:00\", \"2018-03-02 05:04:22.252590\", \"2018-03-04 03:34:24.925354\"], \"y\": [1455.0, 1642.0, 1581.0], \"name\": \"Talking Points Memo\"}, {\"type\": \"scatter\", \"x\": [\"2017-11-15 12:00:00\", \"2018-03-02 05:04:22.252590\", \"2018-03-04 03:34:24.925354\"], \"y\": [8163.0, 9515.0, 9454.0], \"name\": \"The American Conservative\"}, {\"type\": \"scatter\", \"x\": [\"2017-11-15 12:00:00\", \"2018-03-02 05:04:22.252590\", \"2018-03-04 03:34:24.925354\"], \"y\": [250.0, 237.0, 237.0], \"name\": \"The Atlantic\"}, {\"type\": \"scatter\", \"x\": [\"2017-11-15 12:00:00\", \"2018-03-02 05:04:22.252590\", \"2018-03-04 03:34:24.925354\"], \"y\": [1100.0, 998.0, 983.0], \"name\": \"The Boston Globe\"}, {\"type\": \"scatter\", \"x\": [\"2017-11-15 12:00:00\", \"2018-03-02 05:04:22.252590\", \"2018-03-04 03:34:24.925354\"], \"y\": [null, 172.0, 174.0], \"name\": \"The Daily Caller\"}, {\"type\": \"scatter\", \"x\": [\"2017-11-15 12:00:00\", \"2018-03-02 05:04:22.252590\", \"2018-03-04 03:34:24.925354\"], \"y\": [null, 8538.0, 7960.0], \"name\": \"The Daily Stormer\"}, {\"type\": \"scatter\", \"x\": [\"2017-11-15 12:00:00\", \"2018-03-02 05:04:22.252590\", \"2018-03-04 03:34:24.925354\"], \"y\": [104.0, 110.0, 109.0], \"name\": \"The Guardian\"}, {\"type\": \"scatter\", \"x\": [\"2017-11-15 12:00:00\", \"2018-03-02 05:04:22.252590\", \"2018-03-04 03:34:24.925354\"], \"y\": [183.0, 171.0, 175.0], \"name\": \"The Hill\"}, {\"type\": \"scatter\", \"x\": [\"2017-11-15 12:00:00\", \"2018-03-02 05:04:22.252590\", \"2018-03-04 03:34:24.925354\"], \"y\": [335.0, 394.0, 391.0], \"name\": \"The Independent\"}, {\"type\": \"scatter\", \"x\": [\"2017-11-15 12:00:00\", \"2018-03-02 05:04:22.252590\", \"2018-03-04 03:34:24.925354\"], \"y\": [2392.0, 1996.0, 1988.0], \"name\": \"The Intercept\"}, {\"type\": \"scatter\", \"x\": [\"2017-11-15 12:00:00\", \"2018-03-02 05:04:22.252590\", \"2018-03-04 03:34:24.925354\"], \"y\": [3350.0, 3591.0, 3596.0], \"name\": \"The Nation\"}, {\"type\": \"scatter\", \"x\": [\"2017-11-15 12:00:00\", \"2018-03-02 05:04:22.252590\", \"2018-03-04 03:34:24.925354\"], \"y\": [393.0, 431.0, 426.0], \"name\": \"The New Yorker\"}, {\"type\": \"scatter\", \"x\": [\"2017-11-15 12:00:00\", \"2018-03-02 05:04:22.252590\", \"2018-03-04 03:34:24.925354\"], \"y\": [1362.0, 1050.0, 1035.0], \"name\": \"ThinkProgress\"}, {\"type\": \"scatter\", \"x\": [\"2017-11-15 12:00:00\", \"2018-03-02 05:04:22.252590\", \"2018-03-04 03:34:24.925354\"], \"y\": [264.0, 183.0, 182.0], \"name\": \"Time Magazine\"}, {\"type\": \"scatter\", \"x\": [\"2017-11-15 12:00:00\", \"2018-03-02 05:04:22.252590\", \"2018-03-04 03:34:24.925354\"], \"y\": [15229.0, 12708.0, 12872.0], \"name\": \"Truthdig\"}, {\"type\": \"scatter\", \"x\": [\"2017-11-15 12:00:00\", \"2018-03-02 05:04:22.252590\", \"2018-03-04 03:34:24.925354\"], \"y\": [11515.0, 10288.0, 10330.0], \"name\": \"Truthout\"}, {\"type\": \"scatter\", \"x\": [\"2017-11-15 12:00:00\", \"2018-03-02 05:04:22.252590\", \"2018-03-04 03:34:24.925354\"], \"y\": [208.0, 209.0, 209.0], \"name\": \"U.S. News & World Report\"}, {\"type\": \"scatter\", \"x\": [\"2017-11-15 12:00:00\", \"2018-03-02 05:04:22.252590\", \"2018-03-04 03:34:24.925354\"], \"y\": [111.0, 92.0, 91.0], \"name\": \"USA Today\"}, {\"type\": \"scatter\", \"x\": [\"2017-11-15 12:00:00\", \"2018-03-02 05:04:22.252590\", \"2018-03-04 03:34:24.925354\"], \"y\": [89.0, 84.0, 83.0], \"name\": \"Vice\"}, {\"type\": \"scatter\", \"x\": [\"2017-11-15 12:00:00\", \"2018-03-02 05:04:22.252590\", \"2018-03-04 03:34:24.925354\"], \"y\": [380.0, 321.0, 326.0], \"name\": \"Vox\"}, {\"type\": \"scatter\", \"x\": [\"2017-11-15 12:00:00\", \"2018-03-02 05:04:22.252590\", \"2018-03-04 03:34:24.925354\"], \"y\": [171.0, 162.0, 161.0], \"name\": \"Wall Street Journal\"}, {\"type\": \"scatter\", \"x\": [\"2017-11-15 12:00:00\", \"2018-03-02 05:04:22.252590\", \"2018-03-04 03:34:24.925354\"], \"y\": [null, 1262.0, 1409.0], \"name\": \"Washington Examiner\"}, {\"type\": \"scatter\", \"x\": [\"2017-11-15 12:00:00\", \"2018-03-02 05:04:22.252590\", \"2018-03-04 03:34:24.925354\"], \"y\": [48.0, 61.0, 62.0], \"name\": \"Washington Post\"}, {\"type\": \"scatter\", \"x\": [\"2017-11-15 12:00:00\", \"2018-03-02 05:04:22.252590\", \"2018-03-04 03:34:24.925354\"], \"y\": [1359.0, 1355.0, 1358.0], \"name\": \"Washington Times\"}], {\"xaxis\": {\"autorange\": true}, \"yaxis\": {\"type\": \"log\", \"autorange\": true}}, {\"showLink\": true, \"linkText\": \"Export to plot.ly\"})});</script>"
      ],
      "text/vnd.plotly.v1+html": [
       "<div id=\"426906f6-eaa4-4ba9-b85b-386647e7e88b\" style=\"height: 525px; width: 100%;\" class=\"plotly-graph-div\"></div><script type=\"text/javascript\">require([\"plotly\"], function(Plotly) { window.PLOTLYENV=window.PLOTLYENV || {};window.PLOTLYENV.BASE_URL=\"https://plot.ly\";Plotly.newPlot(\"426906f6-eaa4-4ba9-b85b-386647e7e88b\", [{\"type\": \"scatter\", \"x\": [\"2017-11-15 12:00:00\", \"2018-03-02 05:04:22.252590\", \"2018-03-04 03:34:24.925354\"], \"y\": [277.0, 249.0, 250.0], \"name\": \"ABC News\"}, {\"type\": \"scatter\", \"x\": [\"2017-11-15 12:00:00\", \"2018-03-02 05:04:22.252590\", \"2018-03-04 03:34:24.925354\"], \"y\": [949.0, 1088.0, 1082.0], \"name\": \"AP News\"}, {\"type\": \"scatter\", \"x\": [\"2017-11-15 12:00:00\", \"2018-03-02 05:04:22.252590\", \"2018-03-04 03:34:24.925354\"], \"y\": [2457.0, 2903.0, 2923.0], \"name\": \"Alternet\"}, {\"type\": \"scatter\", \"x\": [\"2017-11-15 12:00:00\", \"2018-03-02 05:04:22.252590\", \"2018-03-04 03:34:24.925354\"], \"y\": [1318.0, 1036.0, 1086.0], \"name\": \"Axios\"}, {\"type\": \"scatter\", \"x\": [\"2017-11-15 12:00:00\", \"2018-03-02 05:04:22.252590\", \"2018-03-04 03:34:24.925354\"], \"y\": [83.0, 80.0, 79.0], \"name\": \"BBC\"}, {\"type\": \"scatter\", \"x\": [\"2017-11-15 12:00:00\", \"2018-03-02 05:04:22.252590\", \"2018-03-04 03:34:24.925354\"], \"y\": [170.0, 155.0, 157.0], \"name\": \"Bloomberg\"}, {\"type\": \"scatter\", \"x\": [\"2017-11-15 12:00:00\", \"2018-03-02 05:04:22.252590\", \"2018-03-04 03:34:24.925354\"], \"y\": [50.0, 54.0, 55.0], \"name\": \"Breitbart\"}, {\"type\": \"scatter\", \"x\": [\"2017-11-15 12:00:00\", \"2018-03-02 05:04:22.252590\", \"2018-03-04 03:34:24.925354\"], \"y\": [92.0, 100.0, 100.0], \"name\": \"Business Insider\"}, {\"type\": \"scatter\", \"x\": [\"2017-11-15 12:00:00\", \"2018-03-02 05:04:22.252590\", \"2018-03-04 03:34:24.925354\"], \"y\": [55.0, 66.0, 65.0], \"name\": \"BuzzFeed\"}, {\"type\": \"scatter\", \"x\": [\"2017-11-15 12:00:00\", \"2018-03-02 05:04:22.252590\", \"2018-03-04 03:34:24.925354\"], \"y\": [240.0, 193.0, 197.0], \"name\": \"CBS News\"}, {\"type\": \"scatter\", \"x\": [\"2017-11-15 12:00:00\", \"2018-03-02 05:04:22.252590\", \"2018-03-04 03:34:24.925354\"], \"y\": [180.0, 143.0, 145.0], \"name\": \"CNBC\"}, {\"type\": \"scatter\", \"x\": [\"2017-11-15 12:00:00\", \"2018-03-02 05:04:22.252590\", \"2018-03-04 03:34:24.925354\"], \"y\": [27.0, 24.0, 24.0], \"name\": \"CNN\"}, {\"type\": \"scatter\", \"x\": [\"2017-11-15 12:00:00\", \"2018-03-02 05:04:22.252590\", \"2018-03-04 03:34:24.925354\"], \"y\": [29557.0, 34240.0, 32660.0], \"name\": \"Center for Investigative Reporting\"}, {\"type\": \"scatter\", \"x\": [\"2017-11-15 12:00:00\", \"2018-03-02 05:04:22.252590\", \"2018-03-04 03:34:24.925354\"], \"y\": [356.0, 335.0, 336.0], \"name\": \"Chron\"}, {\"type\": \"scatter\", \"x\": [\"2017-11-15 12:00:00\", \"2018-03-02 05:04:22.252590\", \"2018-03-04 03:34:24.925354\"], \"y\": [5238.0, 4820.0, 4633.0], \"name\": \"Common Dreams\"}, {\"type\": \"scatter\", \"x\": [\"2017-11-15 12:00:00\", \"2018-03-02 05:04:22.252590\", \"2018-03-04 03:34:24.925354\"], \"y\": [16442.0, 17709.0, 18008.0], \"name\": \"Conservative Review\"}, {\"type\": \"scatter\", \"x\": [\"2017-11-15 12:00:00\", \"2018-03-02 05:04:22.252590\", \"2018-03-04 03:34:24.925354\"], \"y\": [275.0, 317.0, 304.0], \"name\": \"Daily Beast\"}, {\"type\": \"scatter\", \"x\": [\"2017-11-15 12:00:00\", \"2018-03-02 05:04:22.252590\", \"2018-03-04 03:34:24.925354\"], \"y\": [null, null, 955.0], \"name\": \"Daily Kos\"}, {\"type\": \"scatter\", \"x\": [\"2017-11-15 12:00:00\", \"2018-03-02 05:04:22.252590\", \"2018-03-04 03:34:24.925354\"], \"y\": [97.0, 109.0, 108.0], \"name\": \"Daily Mail\"}, {\"type\": \"scatter\", \"x\": [\"2017-11-15 12:00:00\", \"2018-03-02 05:04:22.252590\", \"2018-03-04 03:34:24.925354\"], \"y\": [697.0, 780.0, 803.0], \"name\": \"Daily Wire\"}, {\"type\": \"scatter\", \"x\": [\"2017-11-15 12:00:00\", \"2018-03-02 05:04:22.252590\", \"2018-03-04 03:34:24.925354\"], \"y\": [4687.0, 5522.0, 5570.0], \"name\": \"Democracy Now!\"}, {\"type\": \"scatter\", \"x\": [\"2017-11-15 12:00:00\", \"2018-03-02 05:04:22.252590\", \"2018-03-04 03:34:24.925354\"], \"y\": [150.0, 157.0, 158.0], \"name\": \"Drudge Report\"}, {\"type\": \"scatter\", \"x\": [\"2017-11-15 12:00:00\", \"2018-03-02 05:04:22.252590\", \"2018-03-04 03:34:24.925354\"], \"y\": [391.0, 482.0, 476.0], \"name\": \"FiveThirtyEight\"}, {\"type\": \"scatter\", \"x\": [\"2017-11-15 12:00:00\", \"2018-03-02 05:04:22.252590\", \"2018-03-04 03:34:24.925354\"], \"y\": [602.0, 684.0, 683.0], \"name\": \"Fortune\"}, {\"type\": \"scatter\", \"x\": [\"2017-11-15 12:00:00\", \"2018-03-02 05:04:22.252590\", \"2018-03-04 03:34:24.925354\"], \"y\": [56.0, 57.0, 58.0], \"name\": \"Fox News\"}, {\"type\": \"scatter\", \"x\": [\"2017-11-15 12:00:00\", \"2018-03-02 05:04:22.252590\", \"2018-03-04 03:34:24.925354\"], \"y\": [70.0, 78.0, 78.0], \"name\": \"HuffPost\"}, {\"type\": \"scatter\", \"x\": [\"2017-11-15 12:00:00\", \"2018-03-02 05:04:22.252590\", \"2018-03-04 03:34:24.925354\"], \"y\": [844.0, 1006.0, 998.0], \"name\": \"Infowars\"}, {\"type\": \"scatter\", \"x\": [\"2017-11-15 12:00:00\", \"2018-03-02 05:04:22.252590\", \"2018-03-04 03:34:24.925354\"], \"y\": [706.0, 4166.0, 4953.0], \"name\": \"International Business Times\"}, {\"type\": \"scatter\", \"x\": [\"2017-11-15 12:00:00\", \"2018-03-02 05:04:22.252590\", \"2018-03-04 03:34:24.925354\"], \"y\": [179.0, 220.0, 223.0], \"name\": \"LA Times\"}, {\"type\": \"scatter\", \"x\": [\"2017-11-15 12:00:00\", \"2018-03-02 05:04:22.252590\", \"2018-03-04 03:34:24.925354\"], \"y\": [665.0, 687.0, 686.0], \"name\": \"MSNBC\"}, {\"type\": \"scatter\", \"x\": [\"2017-11-15 12:00:00\", \"2018-03-02 05:04:22.252590\", \"2018-03-04 03:34:24.925354\"], \"y\": [5235.0, 6430.0, 6370.0], \"name\": \"Media Matters for America\"}, {\"type\": \"scatter\", \"x\": [\"2017-11-15 12:00:00\", \"2018-03-02 05:04:22.252590\", \"2018-03-04 03:34:24.925354\"], \"y\": [1381.0, 1696.0, 1662.0], \"name\": \"Mediaite\"}, {\"type\": \"scatter\", \"x\": [\"2017-11-15 12:00:00\", \"2018-03-02 05:04:22.252590\", \"2018-03-04 03:34:24.925354\"], \"y\": [1804.0, 1533.0, 1552.0], \"name\": \"Mother Jones\"}, {\"type\": \"scatter\", \"x\": [\"2017-11-15 12:00:00\", \"2018-03-02 05:04:22.252590\", \"2018-03-04 03:34:24.925354\"], \"y\": [206.0, 196.0, 191.0], \"name\": \"NBC News\"}, {\"type\": \"scatter\", \"x\": [\"2017-11-15 12:00:00\", \"2018-03-02 05:04:22.252590\", \"2018-03-04 03:34:24.925354\"], \"y\": [147.0, 130.0, 129.0], \"name\": \"NPR\"}, {\"type\": \"scatter\", \"x\": [\"2017-11-15 12:00:00\", \"2018-03-02 05:04:22.252590\", \"2018-03-04 03:34:24.925354\"], \"y\": [1400.0, 1302.0, 1303.0], \"name\": \"National Review\"}, {\"type\": \"scatter\", \"x\": [\"2017-11-15 12:00:00\", \"2018-03-02 05:04:22.252590\", \"2018-03-04 03:34:24.925354\"], \"y\": [null, null, 631.0], \"name\": \"New York\"}, {\"type\": \"scatter\", \"x\": [\"2017-11-15 12:00:00\", \"2018-03-02 05:04:22.252590\", \"2018-03-04 03:34:24.925354\"], \"y\": [269.0, 375.0, 381.0], \"name\": \"New York Daily News\"}, {\"type\": \"scatter\", \"x\": [\"2017-11-15 12:00:00\", \"2018-03-02 05:04:22.252590\", \"2018-03-04 03:34:24.925354\"], \"y\": [160.0, 165.0, 165.0], \"name\": \"New York Post\"}, {\"type\": \"scatter\", \"x\": [\"2017-11-15 12:00:00\", \"2018-03-02 05:04:22.252590\", \"2018-03-04 03:34:24.925354\"], \"y\": [31.0, 30.0, 30.0], \"name\": \"New York Times\"}, {\"type\": \"scatter\", \"x\": [\"2017-11-15 12:00:00\", \"2018-03-02 05:04:22.252590\", \"2018-03-04 03:34:24.925354\"], \"y\": [327.0, 512.0, 487.0], \"name\": \"Newsweek\"}, {\"type\": \"scatter\", \"x\": [\"2017-11-15 12:00:00\", \"2018-03-02 05:04:22.252590\", \"2018-03-04 03:34:24.925354\"], \"y\": [2209.0, 1943.0, 1970.0], \"name\": \"PolitiFact\"}, {\"type\": \"scatter\", \"x\": [\"2017-11-15 12:00:00\", \"2018-03-02 05:04:22.252590\", \"2018-03-04 03:34:24.925354\"], \"y\": [201.0, 229.0, 233.0], \"name\": \"Politico\"}, {\"type\": \"scatter\", \"x\": [\"2017-11-15 12:00:00\", \"2018-03-02 05:04:22.252590\", \"2018-03-04 03:34:24.925354\"], \"y\": [5058.0, 4892.0, 4847.0], \"name\": \"ProPublica\"}, {\"type\": \"scatter\", \"x\": [\"2017-11-15 12:00:00\", \"2018-03-02 05:04:22.252590\", \"2018-03-04 03:34:24.925354\"], \"y\": [975.0, 996.0, 997.0], \"name\": \"RawStory\"}, {\"type\": \"scatter\", \"x\": [\"2017-11-15 12:00:00\", \"2018-03-02 05:04:22.252590\", \"2018-03-04 03:34:24.925354\"], \"y\": [1173.0, 1210.0, 1229.0], \"name\": \"RealClearPolitics\"}, {\"type\": \"scatter\", \"x\": [\"2017-11-15 12:00:00\", \"2018-03-02 05:04:22.252590\", \"2018-03-04 03:34:24.925354\"], \"y\": [3358.0, 2786.0, 2749.0], \"name\": \"Reason\"}, {\"type\": \"scatter\", \"x\": [\"2017-11-15 12:00:00\", \"2018-03-02 05:04:22.252590\", \"2018-03-04 03:34:24.925354\"], \"y\": [268.0, 245.0, 243.0], \"name\": \"Reuters\"}, {\"type\": \"scatter\", \"x\": [\"2017-11-15 12:00:00\", \"2018-03-02 05:04:22.252590\", \"2018-03-04 03:34:24.925354\"], \"y\": [314.0, 346.0, 340.0], \"name\": \"SFGate\"}, {\"type\": \"scatter\", \"x\": [\"2017-11-15 12:00:00\", \"2018-03-02 05:04:22.252590\", \"2018-03-04 03:34:24.925354\"], \"y\": [657.0, 1062.0, 1085.0], \"name\": \"Salon\"}, {\"type\": \"scatter\", \"x\": [\"2017-11-15 12:00:00\", \"2018-03-02 05:04:22.252590\", \"2018-03-04 03:34:24.925354\"], \"y\": [2851.0, 7359.0, 7691.0], \"name\": \"Shareblue Media\"}, {\"type\": \"scatter\", \"x\": [\"2017-11-15 12:00:00\", \"2018-03-02 05:04:22.252590\", \"2018-03-04 03:34:24.925354\"], \"y\": [279.0, 300.0, 298.0], \"name\": \"Slate\"}, {\"type\": \"scatter\", \"x\": [\"2017-11-15 12:00:00\", \"2018-03-02 05:04:22.252590\", \"2018-03-04 03:34:24.925354\"], \"y\": [10010.0, 10424.0, 10276.0], \"name\": \"TYT Network\"}, {\"type\": \"scatter\", \"x\": [\"2017-11-15 12:00:00\", \"2018-03-02 05:04:22.252590\", \"2018-03-04 03:34:24.925354\"], \"y\": [1455.0, 1642.0, 1581.0], \"name\": \"Talking Points Memo\"}, {\"type\": \"scatter\", \"x\": [\"2017-11-15 12:00:00\", \"2018-03-02 05:04:22.252590\", \"2018-03-04 03:34:24.925354\"], \"y\": [8163.0, 9515.0, 9454.0], \"name\": \"The American Conservative\"}, {\"type\": \"scatter\", \"x\": [\"2017-11-15 12:00:00\", \"2018-03-02 05:04:22.252590\", \"2018-03-04 03:34:24.925354\"], \"y\": [250.0, 237.0, 237.0], \"name\": \"The Atlantic\"}, {\"type\": \"scatter\", \"x\": [\"2017-11-15 12:00:00\", \"2018-03-02 05:04:22.252590\", \"2018-03-04 03:34:24.925354\"], \"y\": [1100.0, 998.0, 983.0], \"name\": \"The Boston Globe\"}, {\"type\": \"scatter\", \"x\": [\"2017-11-15 12:00:00\", \"2018-03-02 05:04:22.252590\", \"2018-03-04 03:34:24.925354\"], \"y\": [null, 172.0, 174.0], \"name\": \"The Daily Caller\"}, {\"type\": \"scatter\", \"x\": [\"2017-11-15 12:00:00\", \"2018-03-02 05:04:22.252590\", \"2018-03-04 03:34:24.925354\"], \"y\": [null, 8538.0, 7960.0], \"name\": \"The Daily Stormer\"}, {\"type\": \"scatter\", \"x\": [\"2017-11-15 12:00:00\", \"2018-03-02 05:04:22.252590\", \"2018-03-04 03:34:24.925354\"], \"y\": [104.0, 110.0, 109.0], \"name\": \"The Guardian\"}, {\"type\": \"scatter\", \"x\": [\"2017-11-15 12:00:00\", \"2018-03-02 05:04:22.252590\", \"2018-03-04 03:34:24.925354\"], \"y\": [183.0, 171.0, 175.0], \"name\": \"The Hill\"}, {\"type\": \"scatter\", \"x\": [\"2017-11-15 12:00:00\", \"2018-03-02 05:04:22.252590\", \"2018-03-04 03:34:24.925354\"], \"y\": [335.0, 394.0, 391.0], \"name\": \"The Independent\"}, {\"type\": \"scatter\", \"x\": [\"2017-11-15 12:00:00\", \"2018-03-02 05:04:22.252590\", \"2018-03-04 03:34:24.925354\"], \"y\": [2392.0, 1996.0, 1988.0], \"name\": \"The Intercept\"}, {\"type\": \"scatter\", \"x\": [\"2017-11-15 12:00:00\", \"2018-03-02 05:04:22.252590\", \"2018-03-04 03:34:24.925354\"], \"y\": [3350.0, 3591.0, 3596.0], \"name\": \"The Nation\"}, {\"type\": \"scatter\", \"x\": [\"2017-11-15 12:00:00\", \"2018-03-02 05:04:22.252590\", \"2018-03-04 03:34:24.925354\"], \"y\": [393.0, 431.0, 426.0], \"name\": \"The New Yorker\"}, {\"type\": \"scatter\", \"x\": [\"2017-11-15 12:00:00\", \"2018-03-02 05:04:22.252590\", \"2018-03-04 03:34:24.925354\"], \"y\": [1362.0, 1050.0, 1035.0], \"name\": \"ThinkProgress\"}, {\"type\": \"scatter\", \"x\": [\"2017-11-15 12:00:00\", \"2018-03-02 05:04:22.252590\", \"2018-03-04 03:34:24.925354\"], \"y\": [264.0, 183.0, 182.0], \"name\": \"Time Magazine\"}, {\"type\": \"scatter\", \"x\": [\"2017-11-15 12:00:00\", \"2018-03-02 05:04:22.252590\", \"2018-03-04 03:34:24.925354\"], \"y\": [15229.0, 12708.0, 12872.0], \"name\": \"Truthdig\"}, {\"type\": \"scatter\", \"x\": [\"2017-11-15 12:00:00\", \"2018-03-02 05:04:22.252590\", \"2018-03-04 03:34:24.925354\"], \"y\": [11515.0, 10288.0, 10330.0], \"name\": \"Truthout\"}, {\"type\": \"scatter\", \"x\": [\"2017-11-15 12:00:00\", \"2018-03-02 05:04:22.252590\", \"2018-03-04 03:34:24.925354\"], \"y\": [208.0, 209.0, 209.0], \"name\": \"U.S. News & World Report\"}, {\"type\": \"scatter\", \"x\": [\"2017-11-15 12:00:00\", \"2018-03-02 05:04:22.252590\", \"2018-03-04 03:34:24.925354\"], \"y\": [111.0, 92.0, 91.0], \"name\": \"USA Today\"}, {\"type\": \"scatter\", \"x\": [\"2017-11-15 12:00:00\", \"2018-03-02 05:04:22.252590\", \"2018-03-04 03:34:24.925354\"], \"y\": [89.0, 84.0, 83.0], \"name\": \"Vice\"}, {\"type\": \"scatter\", \"x\": [\"2017-11-15 12:00:00\", \"2018-03-02 05:04:22.252590\", \"2018-03-04 03:34:24.925354\"], \"y\": [380.0, 321.0, 326.0], \"name\": \"Vox\"}, {\"type\": \"scatter\", \"x\": [\"2017-11-15 12:00:00\", \"2018-03-02 05:04:22.252590\", \"2018-03-04 03:34:24.925354\"], \"y\": [171.0, 162.0, 161.0], \"name\": \"Wall Street Journal\"}, {\"type\": \"scatter\", \"x\": [\"2017-11-15 12:00:00\", \"2018-03-02 05:04:22.252590\", \"2018-03-04 03:34:24.925354\"], \"y\": [null, 1262.0, 1409.0], \"name\": \"Washington Examiner\"}, {\"type\": \"scatter\", \"x\": [\"2017-11-15 12:00:00\", \"2018-03-02 05:04:22.252590\", \"2018-03-04 03:34:24.925354\"], \"y\": [48.0, 61.0, 62.0], \"name\": \"Washington Post\"}, {\"type\": \"scatter\", \"x\": [\"2017-11-15 12:00:00\", \"2018-03-02 05:04:22.252590\", \"2018-03-04 03:34:24.925354\"], \"y\": [1359.0, 1355.0, 1358.0], \"name\": \"Washington Times\"}], {\"xaxis\": {\"autorange\": true}, \"yaxis\": {\"type\": \"log\", \"autorange\": true}}, {\"showLink\": true, \"linkText\": \"Export to plot.ly\"})});</script>"
      ]
     },
     "metadata": {},
     "output_type": "display_data"
    }
   ],
   "source": [
    "traces = []\n",
    "for col in df.columns:\n",
    "    traces.append(go.Scatter(x=df.index, y=df[col], name=col))\n",
    "    \n",
    "layout = go.Layout(\n",
    "    xaxis=dict(\n",
    "        autorange=True\n",
    "    ),\n",
    "    yaxis=dict(\n",
    "        type='log',\n",
    "        autorange=True\n",
    "    )\n",
    ")\n",
    "fig = go.Figure(data=traces, layout=layout)\n",
    "iplot(fig)"
   ]
  },
  {
   "cell_type": "code",
   "execution_count": 74,
   "metadata": {},
   "outputs": [
    {
     "data": {
      "application/vnd.plotly.v1+json": {
       "data": [
        {
         "name": "ABC News",
         "type": "scatter",
         "x": [
          "2017-11-15 12:00:00",
          "2018-03-02 05:04:22.252590",
          "2018-03-04 03:34:24.925354"
         ],
         "y": [
          277,
          249,
          250
         ]
        },
        {
         "name": "AP News",
         "type": "scatter",
         "x": [
          "2017-11-15 12:00:00",
          "2018-03-02 05:04:22.252590",
          "2018-03-04 03:34:24.925354"
         ],
         "y": [
          949,
          1088,
          1082
         ]
        },
        {
         "name": "Alternet",
         "type": "scatter",
         "x": [
          "2017-11-15 12:00:00",
          "2018-03-02 05:04:22.252590",
          "2018-03-04 03:34:24.925354"
         ],
         "y": [
          2457,
          2903,
          2923
         ]
        },
        {
         "name": "Axios",
         "type": "scatter",
         "x": [
          "2017-11-15 12:00:00",
          "2018-03-02 05:04:22.252590",
          "2018-03-04 03:34:24.925354"
         ],
         "y": [
          1318,
          1036,
          1086
         ]
        },
        {
         "name": "BBC",
         "type": "scatter",
         "x": [
          "2017-11-15 12:00:00",
          "2018-03-02 05:04:22.252590",
          "2018-03-04 03:34:24.925354"
         ],
         "y": [
          83,
          80,
          79
         ]
        },
        {
         "name": "Bloomberg",
         "type": "scatter",
         "x": [
          "2017-11-15 12:00:00",
          "2018-03-02 05:04:22.252590",
          "2018-03-04 03:34:24.925354"
         ],
         "y": [
          170,
          155,
          157
         ]
        },
        {
         "name": "Breitbart",
         "type": "scatter",
         "x": [
          "2017-11-15 12:00:00",
          "2018-03-02 05:04:22.252590",
          "2018-03-04 03:34:24.925354"
         ],
         "y": [
          50,
          54,
          55
         ]
        },
        {
         "name": "Business Insider",
         "type": "scatter",
         "x": [
          "2017-11-15 12:00:00",
          "2018-03-02 05:04:22.252590",
          "2018-03-04 03:34:24.925354"
         ],
         "y": [
          92,
          100,
          100
         ]
        },
        {
         "name": "BuzzFeed",
         "type": "scatter",
         "x": [
          "2017-11-15 12:00:00",
          "2018-03-02 05:04:22.252590",
          "2018-03-04 03:34:24.925354"
         ],
         "y": [
          55,
          66,
          65
         ]
        },
        {
         "name": "CBS News",
         "type": "scatter",
         "x": [
          "2017-11-15 12:00:00",
          "2018-03-02 05:04:22.252590",
          "2018-03-04 03:34:24.925354"
         ],
         "y": [
          240,
          193,
          197
         ]
        },
        {
         "name": "CNBC",
         "type": "scatter",
         "x": [
          "2017-11-15 12:00:00",
          "2018-03-02 05:04:22.252590",
          "2018-03-04 03:34:24.925354"
         ],
         "y": [
          180,
          143,
          145
         ]
        },
        {
         "name": "CNN",
         "type": "scatter",
         "x": [
          "2017-11-15 12:00:00",
          "2018-03-02 05:04:22.252590",
          "2018-03-04 03:34:24.925354"
         ],
         "y": [
          27,
          24,
          24
         ]
        },
        {
         "name": "Center for Investigative Reporting",
         "type": "scatter",
         "x": [
          "2017-11-15 12:00:00",
          "2018-03-02 05:04:22.252590",
          "2018-03-04 03:34:24.925354"
         ],
         "y": [
          29557,
          34240,
          32660
         ]
        },
        {
         "name": "Chron",
         "type": "scatter",
         "x": [
          "2017-11-15 12:00:00",
          "2018-03-02 05:04:22.252590",
          "2018-03-04 03:34:24.925354"
         ],
         "y": [
          356,
          335,
          336
         ]
        },
        {
         "name": "Common Dreams",
         "type": "scatter",
         "x": [
          "2017-11-15 12:00:00",
          "2018-03-02 05:04:22.252590",
          "2018-03-04 03:34:24.925354"
         ],
         "y": [
          5238,
          4820,
          4633
         ]
        },
        {
         "name": "Conservative Review",
         "type": "scatter",
         "x": [
          "2017-11-15 12:00:00",
          "2018-03-02 05:04:22.252590",
          "2018-03-04 03:34:24.925354"
         ],
         "y": [
          16442,
          17709,
          18008
         ]
        },
        {
         "name": "Daily Beast",
         "type": "scatter",
         "x": [
          "2017-11-15 12:00:00",
          "2018-03-02 05:04:22.252590",
          "2018-03-04 03:34:24.925354"
         ],
         "y": [
          275,
          317,
          304
         ]
        },
        {
         "name": "Daily Kos",
         "type": "scatter",
         "x": [
          "2017-11-15 12:00:00",
          "2018-03-02 05:04:22.252590",
          "2018-03-04 03:34:24.925354"
         ],
         "y": [
          null,
          null,
          955
         ]
        },
        {
         "name": "Daily Mail",
         "type": "scatter",
         "x": [
          "2017-11-15 12:00:00",
          "2018-03-02 05:04:22.252590",
          "2018-03-04 03:34:24.925354"
         ],
         "y": [
          97,
          109,
          108
         ]
        },
        {
         "name": "Daily Wire",
         "type": "scatter",
         "x": [
          "2017-11-15 12:00:00",
          "2018-03-02 05:04:22.252590",
          "2018-03-04 03:34:24.925354"
         ],
         "y": [
          697,
          780,
          803
         ]
        },
        {
         "name": "Democracy Now!",
         "type": "scatter",
         "x": [
          "2017-11-15 12:00:00",
          "2018-03-02 05:04:22.252590",
          "2018-03-04 03:34:24.925354"
         ],
         "y": [
          4687,
          5522,
          5570
         ]
        },
        {
         "name": "Drudge Report",
         "type": "scatter",
         "x": [
          "2017-11-15 12:00:00",
          "2018-03-02 05:04:22.252590",
          "2018-03-04 03:34:24.925354"
         ],
         "y": [
          150,
          157,
          158
         ]
        },
        {
         "name": "FiveThirtyEight",
         "type": "scatter",
         "x": [
          "2017-11-15 12:00:00",
          "2018-03-02 05:04:22.252590",
          "2018-03-04 03:34:24.925354"
         ],
         "y": [
          391,
          482,
          476
         ]
        },
        {
         "name": "Fortune",
         "type": "scatter",
         "x": [
          "2017-11-15 12:00:00",
          "2018-03-02 05:04:22.252590",
          "2018-03-04 03:34:24.925354"
         ],
         "y": [
          602,
          684,
          683
         ]
        },
        {
         "name": "Fox News",
         "type": "scatter",
         "x": [
          "2017-11-15 12:00:00",
          "2018-03-02 05:04:22.252590",
          "2018-03-04 03:34:24.925354"
         ],
         "y": [
          56,
          57,
          58
         ]
        },
        {
         "name": "HuffPost",
         "type": "scatter",
         "x": [
          "2017-11-15 12:00:00",
          "2018-03-02 05:04:22.252590",
          "2018-03-04 03:34:24.925354"
         ],
         "y": [
          70,
          78,
          78
         ]
        },
        {
         "name": "Infowars",
         "type": "scatter",
         "x": [
          "2017-11-15 12:00:00",
          "2018-03-02 05:04:22.252590",
          "2018-03-04 03:34:24.925354"
         ],
         "y": [
          844,
          1006,
          998
         ]
        },
        {
         "name": "International Business Times",
         "type": "scatter",
         "x": [
          "2017-11-15 12:00:00",
          "2018-03-02 05:04:22.252590",
          "2018-03-04 03:34:24.925354"
         ],
         "y": [
          706,
          4166,
          4953
         ]
        },
        {
         "name": "LA Times",
         "type": "scatter",
         "x": [
          "2017-11-15 12:00:00",
          "2018-03-02 05:04:22.252590",
          "2018-03-04 03:34:24.925354"
         ],
         "y": [
          179,
          220,
          223
         ]
        },
        {
         "name": "MSNBC",
         "type": "scatter",
         "x": [
          "2017-11-15 12:00:00",
          "2018-03-02 05:04:22.252590",
          "2018-03-04 03:34:24.925354"
         ],
         "y": [
          665,
          687,
          686
         ]
        },
        {
         "name": "Media Matters for America",
         "type": "scatter",
         "x": [
          "2017-11-15 12:00:00",
          "2018-03-02 05:04:22.252590",
          "2018-03-04 03:34:24.925354"
         ],
         "y": [
          5235,
          6430,
          6370
         ]
        },
        {
         "name": "Mediaite",
         "type": "scatter",
         "x": [
          "2017-11-15 12:00:00",
          "2018-03-02 05:04:22.252590",
          "2018-03-04 03:34:24.925354"
         ],
         "y": [
          1381,
          1696,
          1662
         ]
        },
        {
         "name": "Mother Jones",
         "type": "scatter",
         "x": [
          "2017-11-15 12:00:00",
          "2018-03-02 05:04:22.252590",
          "2018-03-04 03:34:24.925354"
         ],
         "y": [
          1804,
          1533,
          1552
         ]
        },
        {
         "name": "NBC News",
         "type": "scatter",
         "x": [
          "2017-11-15 12:00:00",
          "2018-03-02 05:04:22.252590",
          "2018-03-04 03:34:24.925354"
         ],
         "y": [
          206,
          196,
          191
         ]
        },
        {
         "name": "NPR",
         "type": "scatter",
         "x": [
          "2017-11-15 12:00:00",
          "2018-03-02 05:04:22.252590",
          "2018-03-04 03:34:24.925354"
         ],
         "y": [
          147,
          130,
          129
         ]
        },
        {
         "name": "National Review",
         "type": "scatter",
         "x": [
          "2017-11-15 12:00:00",
          "2018-03-02 05:04:22.252590",
          "2018-03-04 03:34:24.925354"
         ],
         "y": [
          1400,
          1302,
          1303
         ]
        },
        {
         "name": "New York",
         "type": "scatter",
         "x": [
          "2017-11-15 12:00:00",
          "2018-03-02 05:04:22.252590",
          "2018-03-04 03:34:24.925354"
         ],
         "y": [
          null,
          null,
          631
         ]
        },
        {
         "name": "New York Daily News",
         "type": "scatter",
         "x": [
          "2017-11-15 12:00:00",
          "2018-03-02 05:04:22.252590",
          "2018-03-04 03:34:24.925354"
         ],
         "y": [
          269,
          375,
          381
         ]
        },
        {
         "name": "New York Post",
         "type": "scatter",
         "x": [
          "2017-11-15 12:00:00",
          "2018-03-02 05:04:22.252590",
          "2018-03-04 03:34:24.925354"
         ],
         "y": [
          160,
          165,
          165
         ]
        },
        {
         "name": "New York Times",
         "type": "scatter",
         "x": [
          "2017-11-15 12:00:00",
          "2018-03-02 05:04:22.252590",
          "2018-03-04 03:34:24.925354"
         ],
         "y": [
          31,
          30,
          30
         ]
        },
        {
         "name": "Newsweek",
         "type": "scatter",
         "x": [
          "2017-11-15 12:00:00",
          "2018-03-02 05:04:22.252590",
          "2018-03-04 03:34:24.925354"
         ],
         "y": [
          327,
          512,
          487
         ]
        },
        {
         "name": "PolitiFact",
         "type": "scatter",
         "x": [
          "2017-11-15 12:00:00",
          "2018-03-02 05:04:22.252590",
          "2018-03-04 03:34:24.925354"
         ],
         "y": [
          2209,
          1943,
          1970
         ]
        },
        {
         "name": "Politico",
         "type": "scatter",
         "x": [
          "2017-11-15 12:00:00",
          "2018-03-02 05:04:22.252590",
          "2018-03-04 03:34:24.925354"
         ],
         "y": [
          201,
          229,
          233
         ]
        },
        {
         "name": "ProPublica",
         "type": "scatter",
         "x": [
          "2017-11-15 12:00:00",
          "2018-03-02 05:04:22.252590",
          "2018-03-04 03:34:24.925354"
         ],
         "y": [
          5058,
          4892,
          4847
         ]
        },
        {
         "name": "RawStory",
         "type": "scatter",
         "x": [
          "2017-11-15 12:00:00",
          "2018-03-02 05:04:22.252590",
          "2018-03-04 03:34:24.925354"
         ],
         "y": [
          975,
          996,
          997
         ]
        },
        {
         "name": "RealClearPolitics",
         "type": "scatter",
         "x": [
          "2017-11-15 12:00:00",
          "2018-03-02 05:04:22.252590",
          "2018-03-04 03:34:24.925354"
         ],
         "y": [
          1173,
          1210,
          1229
         ]
        },
        {
         "name": "Reason",
         "type": "scatter",
         "x": [
          "2017-11-15 12:00:00",
          "2018-03-02 05:04:22.252590",
          "2018-03-04 03:34:24.925354"
         ],
         "y": [
          3358,
          2786,
          2749
         ]
        },
        {
         "name": "Reuters",
         "type": "scatter",
         "x": [
          "2017-11-15 12:00:00",
          "2018-03-02 05:04:22.252590",
          "2018-03-04 03:34:24.925354"
         ],
         "y": [
          268,
          245,
          243
         ]
        },
        {
         "name": "SFGate",
         "type": "scatter",
         "x": [
          "2017-11-15 12:00:00",
          "2018-03-02 05:04:22.252590",
          "2018-03-04 03:34:24.925354"
         ],
         "y": [
          314,
          346,
          340
         ]
        },
        {
         "name": "Salon",
         "type": "scatter",
         "x": [
          "2017-11-15 12:00:00",
          "2018-03-02 05:04:22.252590",
          "2018-03-04 03:34:24.925354"
         ],
         "y": [
          657,
          1062,
          1085
         ]
        },
        {
         "name": "Shareblue Media",
         "type": "scatter",
         "x": [
          "2017-11-15 12:00:00",
          "2018-03-02 05:04:22.252590",
          "2018-03-04 03:34:24.925354"
         ],
         "y": [
          2851,
          7359,
          7691
         ]
        },
        {
         "name": "Slate",
         "type": "scatter",
         "x": [
          "2017-11-15 12:00:00",
          "2018-03-02 05:04:22.252590",
          "2018-03-04 03:34:24.925354"
         ],
         "y": [
          279,
          300,
          298
         ]
        },
        {
         "name": "TYT Network",
         "type": "scatter",
         "x": [
          "2017-11-15 12:00:00",
          "2018-03-02 05:04:22.252590",
          "2018-03-04 03:34:24.925354"
         ],
         "y": [
          10010,
          10424,
          10276
         ]
        },
        {
         "name": "Talking Points Memo",
         "type": "scatter",
         "x": [
          "2017-11-15 12:00:00",
          "2018-03-02 05:04:22.252590",
          "2018-03-04 03:34:24.925354"
         ],
         "y": [
          1455,
          1642,
          1581
         ]
        },
        {
         "name": "The American Conservative",
         "type": "scatter",
         "x": [
          "2017-11-15 12:00:00",
          "2018-03-02 05:04:22.252590",
          "2018-03-04 03:34:24.925354"
         ],
         "y": [
          8163,
          9515,
          9454
         ]
        },
        {
         "name": "The Atlantic",
         "type": "scatter",
         "x": [
          "2017-11-15 12:00:00",
          "2018-03-02 05:04:22.252590",
          "2018-03-04 03:34:24.925354"
         ],
         "y": [
          250,
          237,
          237
         ]
        },
        {
         "name": "The Boston Globe",
         "type": "scatter",
         "x": [
          "2017-11-15 12:00:00",
          "2018-03-02 05:04:22.252590",
          "2018-03-04 03:34:24.925354"
         ],
         "y": [
          1100,
          998,
          983
         ]
        },
        {
         "name": "The Daily Caller",
         "type": "scatter",
         "x": [
          "2017-11-15 12:00:00",
          "2018-03-02 05:04:22.252590",
          "2018-03-04 03:34:24.925354"
         ],
         "y": [
          null,
          172,
          174
         ]
        },
        {
         "name": "The Daily Stormer",
         "type": "scatter",
         "x": [
          "2017-11-15 12:00:00",
          "2018-03-02 05:04:22.252590",
          "2018-03-04 03:34:24.925354"
         ],
         "y": [
          null,
          8538,
          7960
         ]
        },
        {
         "name": "The Guardian",
         "type": "scatter",
         "x": [
          "2017-11-15 12:00:00",
          "2018-03-02 05:04:22.252590",
          "2018-03-04 03:34:24.925354"
         ],
         "y": [
          104,
          110,
          109
         ]
        },
        {
         "name": "The Hill",
         "type": "scatter",
         "x": [
          "2017-11-15 12:00:00",
          "2018-03-02 05:04:22.252590",
          "2018-03-04 03:34:24.925354"
         ],
         "y": [
          183,
          171,
          175
         ]
        },
        {
         "name": "The Independent",
         "type": "scatter",
         "x": [
          "2017-11-15 12:00:00",
          "2018-03-02 05:04:22.252590",
          "2018-03-04 03:34:24.925354"
         ],
         "y": [
          335,
          394,
          391
         ]
        },
        {
         "name": "The Intercept",
         "type": "scatter",
         "x": [
          "2017-11-15 12:00:00",
          "2018-03-02 05:04:22.252590",
          "2018-03-04 03:34:24.925354"
         ],
         "y": [
          2392,
          1996,
          1988
         ]
        },
        {
         "name": "The Nation",
         "type": "scatter",
         "x": [
          "2017-11-15 12:00:00",
          "2018-03-02 05:04:22.252590",
          "2018-03-04 03:34:24.925354"
         ],
         "y": [
          3350,
          3591,
          3596
         ]
        },
        {
         "name": "The New Yorker",
         "type": "scatter",
         "x": [
          "2017-11-15 12:00:00",
          "2018-03-02 05:04:22.252590",
          "2018-03-04 03:34:24.925354"
         ],
         "y": [
          393,
          431,
          426
         ]
        },
        {
         "name": "ThinkProgress",
         "type": "scatter",
         "x": [
          "2017-11-15 12:00:00",
          "2018-03-02 05:04:22.252590",
          "2018-03-04 03:34:24.925354"
         ],
         "y": [
          1362,
          1050,
          1035
         ]
        },
        {
         "name": "Time Magazine",
         "type": "scatter",
         "x": [
          "2017-11-15 12:00:00",
          "2018-03-02 05:04:22.252590",
          "2018-03-04 03:34:24.925354"
         ],
         "y": [
          264,
          183,
          182
         ]
        },
        {
         "name": "Truthdig",
         "type": "scatter",
         "x": [
          "2017-11-15 12:00:00",
          "2018-03-02 05:04:22.252590",
          "2018-03-04 03:34:24.925354"
         ],
         "y": [
          15229,
          12708,
          12872
         ]
        },
        {
         "name": "Truthout",
         "type": "scatter",
         "x": [
          "2017-11-15 12:00:00",
          "2018-03-02 05:04:22.252590",
          "2018-03-04 03:34:24.925354"
         ],
         "y": [
          11515,
          10288,
          10330
         ]
        },
        {
         "name": "U.S. News & World Report",
         "type": "scatter",
         "x": [
          "2017-11-15 12:00:00",
          "2018-03-02 05:04:22.252590",
          "2018-03-04 03:34:24.925354"
         ],
         "y": [
          208,
          209,
          209
         ]
        },
        {
         "name": "USA Today",
         "type": "scatter",
         "x": [
          "2017-11-15 12:00:00",
          "2018-03-02 05:04:22.252590",
          "2018-03-04 03:34:24.925354"
         ],
         "y": [
          111,
          92,
          91
         ]
        },
        {
         "name": "Vice",
         "type": "scatter",
         "x": [
          "2017-11-15 12:00:00",
          "2018-03-02 05:04:22.252590",
          "2018-03-04 03:34:24.925354"
         ],
         "y": [
          89,
          84,
          83
         ]
        },
        {
         "name": "Vox",
         "type": "scatter",
         "x": [
          "2017-11-15 12:00:00",
          "2018-03-02 05:04:22.252590",
          "2018-03-04 03:34:24.925354"
         ],
         "y": [
          380,
          321,
          326
         ]
        },
        {
         "name": "Wall Street Journal",
         "type": "scatter",
         "x": [
          "2017-11-15 12:00:00",
          "2018-03-02 05:04:22.252590",
          "2018-03-04 03:34:24.925354"
         ],
         "y": [
          171,
          162,
          161
         ]
        },
        {
         "name": "Washington Examiner",
         "type": "scatter",
         "x": [
          "2017-11-15 12:00:00",
          "2018-03-02 05:04:22.252590",
          "2018-03-04 03:34:24.925354"
         ],
         "y": [
          null,
          1262,
          1409
         ]
        },
        {
         "name": "Washington Post",
         "type": "scatter",
         "x": [
          "2017-11-15 12:00:00",
          "2018-03-02 05:04:22.252590",
          "2018-03-04 03:34:24.925354"
         ],
         "y": [
          48,
          61,
          62
         ]
        },
        {
         "name": "Washington Times",
         "type": "scatter",
         "x": [
          "2017-11-15 12:00:00",
          "2018-03-02 05:04:22.252590",
          "2018-03-04 03:34:24.925354"
         ],
         "y": [
          1359,
          1355,
          1358
         ]
        }
       ],
       "layout": {}
      },
      "text/html": [
       "<div id=\"5bc84461-f406-4cb8-bf7f-d379ebdf9552\" style=\"height: 525px; width: 100%;\" class=\"plotly-graph-div\"></div><script type=\"text/javascript\">require([\"plotly\"], function(Plotly) { window.PLOTLYENV=window.PLOTLYENV || {};window.PLOTLYENV.BASE_URL=\"https://plot.ly\";Plotly.newPlot(\"5bc84461-f406-4cb8-bf7f-d379ebdf9552\", [{\"type\": \"scatter\", \"x\": [\"2017-11-15 12:00:00\", \"2018-03-02 05:04:22.252590\", \"2018-03-04 03:34:24.925354\"], \"y\": [277.0, 249.0, 250.0], \"name\": \"ABC News\"}, {\"type\": \"scatter\", \"x\": [\"2017-11-15 12:00:00\", \"2018-03-02 05:04:22.252590\", \"2018-03-04 03:34:24.925354\"], \"y\": [949.0, 1088.0, 1082.0], \"name\": \"AP News\"}, {\"type\": \"scatter\", \"x\": [\"2017-11-15 12:00:00\", \"2018-03-02 05:04:22.252590\", \"2018-03-04 03:34:24.925354\"], \"y\": [2457.0, 2903.0, 2923.0], \"name\": \"Alternet\"}, {\"type\": \"scatter\", \"x\": [\"2017-11-15 12:00:00\", \"2018-03-02 05:04:22.252590\", \"2018-03-04 03:34:24.925354\"], \"y\": [1318.0, 1036.0, 1086.0], \"name\": \"Axios\"}, {\"type\": \"scatter\", \"x\": [\"2017-11-15 12:00:00\", \"2018-03-02 05:04:22.252590\", \"2018-03-04 03:34:24.925354\"], \"y\": [83.0, 80.0, 79.0], \"name\": \"BBC\"}, {\"type\": \"scatter\", \"x\": [\"2017-11-15 12:00:00\", \"2018-03-02 05:04:22.252590\", \"2018-03-04 03:34:24.925354\"], \"y\": [170.0, 155.0, 157.0], \"name\": \"Bloomberg\"}, {\"type\": \"scatter\", \"x\": [\"2017-11-15 12:00:00\", \"2018-03-02 05:04:22.252590\", \"2018-03-04 03:34:24.925354\"], \"y\": [50.0, 54.0, 55.0], \"name\": \"Breitbart\"}, {\"type\": \"scatter\", \"x\": [\"2017-11-15 12:00:00\", \"2018-03-02 05:04:22.252590\", \"2018-03-04 03:34:24.925354\"], \"y\": [92.0, 100.0, 100.0], \"name\": \"Business Insider\"}, {\"type\": \"scatter\", \"x\": [\"2017-11-15 12:00:00\", \"2018-03-02 05:04:22.252590\", \"2018-03-04 03:34:24.925354\"], \"y\": [55.0, 66.0, 65.0], \"name\": \"BuzzFeed\"}, {\"type\": \"scatter\", \"x\": [\"2017-11-15 12:00:00\", \"2018-03-02 05:04:22.252590\", \"2018-03-04 03:34:24.925354\"], \"y\": [240.0, 193.0, 197.0], \"name\": \"CBS News\"}, {\"type\": \"scatter\", \"x\": [\"2017-11-15 12:00:00\", \"2018-03-02 05:04:22.252590\", \"2018-03-04 03:34:24.925354\"], \"y\": [180.0, 143.0, 145.0], \"name\": \"CNBC\"}, {\"type\": \"scatter\", \"x\": [\"2017-11-15 12:00:00\", \"2018-03-02 05:04:22.252590\", \"2018-03-04 03:34:24.925354\"], \"y\": [27.0, 24.0, 24.0], \"name\": \"CNN\"}, {\"type\": \"scatter\", \"x\": [\"2017-11-15 12:00:00\", \"2018-03-02 05:04:22.252590\", \"2018-03-04 03:34:24.925354\"], \"y\": [29557.0, 34240.0, 32660.0], \"name\": \"Center for Investigative Reporting\"}, {\"type\": \"scatter\", \"x\": [\"2017-11-15 12:00:00\", \"2018-03-02 05:04:22.252590\", \"2018-03-04 03:34:24.925354\"], \"y\": [356.0, 335.0, 336.0], \"name\": \"Chron\"}, {\"type\": \"scatter\", \"x\": [\"2017-11-15 12:00:00\", \"2018-03-02 05:04:22.252590\", \"2018-03-04 03:34:24.925354\"], \"y\": [5238.0, 4820.0, 4633.0], \"name\": \"Common Dreams\"}, {\"type\": \"scatter\", \"x\": [\"2017-11-15 12:00:00\", \"2018-03-02 05:04:22.252590\", \"2018-03-04 03:34:24.925354\"], \"y\": [16442.0, 17709.0, 18008.0], \"name\": \"Conservative Review\"}, {\"type\": \"scatter\", \"x\": [\"2017-11-15 12:00:00\", \"2018-03-02 05:04:22.252590\", \"2018-03-04 03:34:24.925354\"], \"y\": [275.0, 317.0, 304.0], \"name\": \"Daily Beast\"}, {\"type\": \"scatter\", \"x\": [\"2017-11-15 12:00:00\", \"2018-03-02 05:04:22.252590\", \"2018-03-04 03:34:24.925354\"], \"y\": [null, null, 955.0], \"name\": \"Daily Kos\"}, {\"type\": \"scatter\", \"x\": [\"2017-11-15 12:00:00\", \"2018-03-02 05:04:22.252590\", \"2018-03-04 03:34:24.925354\"], \"y\": [97.0, 109.0, 108.0], \"name\": \"Daily Mail\"}, {\"type\": \"scatter\", \"x\": [\"2017-11-15 12:00:00\", \"2018-03-02 05:04:22.252590\", \"2018-03-04 03:34:24.925354\"], \"y\": [697.0, 780.0, 803.0], \"name\": \"Daily Wire\"}, {\"type\": \"scatter\", \"x\": [\"2017-11-15 12:00:00\", \"2018-03-02 05:04:22.252590\", \"2018-03-04 03:34:24.925354\"], \"y\": [4687.0, 5522.0, 5570.0], \"name\": \"Democracy Now!\"}, {\"type\": \"scatter\", \"x\": [\"2017-11-15 12:00:00\", \"2018-03-02 05:04:22.252590\", \"2018-03-04 03:34:24.925354\"], \"y\": [150.0, 157.0, 158.0], \"name\": \"Drudge Report\"}, {\"type\": \"scatter\", \"x\": [\"2017-11-15 12:00:00\", \"2018-03-02 05:04:22.252590\", \"2018-03-04 03:34:24.925354\"], \"y\": [391.0, 482.0, 476.0], \"name\": \"FiveThirtyEight\"}, {\"type\": \"scatter\", \"x\": [\"2017-11-15 12:00:00\", \"2018-03-02 05:04:22.252590\", \"2018-03-04 03:34:24.925354\"], \"y\": [602.0, 684.0, 683.0], \"name\": \"Fortune\"}, {\"type\": \"scatter\", \"x\": [\"2017-11-15 12:00:00\", \"2018-03-02 05:04:22.252590\", \"2018-03-04 03:34:24.925354\"], \"y\": [56.0, 57.0, 58.0], \"name\": \"Fox News\"}, {\"type\": \"scatter\", \"x\": [\"2017-11-15 12:00:00\", \"2018-03-02 05:04:22.252590\", \"2018-03-04 03:34:24.925354\"], \"y\": [70.0, 78.0, 78.0], \"name\": \"HuffPost\"}, {\"type\": \"scatter\", \"x\": [\"2017-11-15 12:00:00\", \"2018-03-02 05:04:22.252590\", \"2018-03-04 03:34:24.925354\"], \"y\": [844.0, 1006.0, 998.0], \"name\": \"Infowars\"}, {\"type\": \"scatter\", \"x\": [\"2017-11-15 12:00:00\", \"2018-03-02 05:04:22.252590\", \"2018-03-04 03:34:24.925354\"], \"y\": [706.0, 4166.0, 4953.0], \"name\": \"International Business Times\"}, {\"type\": \"scatter\", \"x\": [\"2017-11-15 12:00:00\", \"2018-03-02 05:04:22.252590\", \"2018-03-04 03:34:24.925354\"], \"y\": [179.0, 220.0, 223.0], \"name\": \"LA Times\"}, {\"type\": \"scatter\", \"x\": [\"2017-11-15 12:00:00\", \"2018-03-02 05:04:22.252590\", \"2018-03-04 03:34:24.925354\"], \"y\": [665.0, 687.0, 686.0], \"name\": \"MSNBC\"}, {\"type\": \"scatter\", \"x\": [\"2017-11-15 12:00:00\", \"2018-03-02 05:04:22.252590\", \"2018-03-04 03:34:24.925354\"], \"y\": [5235.0, 6430.0, 6370.0], \"name\": \"Media Matters for America\"}, {\"type\": \"scatter\", \"x\": [\"2017-11-15 12:00:00\", \"2018-03-02 05:04:22.252590\", \"2018-03-04 03:34:24.925354\"], \"y\": [1381.0, 1696.0, 1662.0], \"name\": \"Mediaite\"}, {\"type\": \"scatter\", \"x\": [\"2017-11-15 12:00:00\", \"2018-03-02 05:04:22.252590\", \"2018-03-04 03:34:24.925354\"], \"y\": [1804.0, 1533.0, 1552.0], \"name\": \"Mother Jones\"}, {\"type\": \"scatter\", \"x\": [\"2017-11-15 12:00:00\", \"2018-03-02 05:04:22.252590\", \"2018-03-04 03:34:24.925354\"], \"y\": [206.0, 196.0, 191.0], \"name\": \"NBC News\"}, {\"type\": \"scatter\", \"x\": [\"2017-11-15 12:00:00\", \"2018-03-02 05:04:22.252590\", \"2018-03-04 03:34:24.925354\"], \"y\": [147.0, 130.0, 129.0], \"name\": \"NPR\"}, {\"type\": \"scatter\", \"x\": [\"2017-11-15 12:00:00\", \"2018-03-02 05:04:22.252590\", \"2018-03-04 03:34:24.925354\"], \"y\": [1400.0, 1302.0, 1303.0], \"name\": \"National Review\"}, {\"type\": \"scatter\", \"x\": [\"2017-11-15 12:00:00\", \"2018-03-02 05:04:22.252590\", \"2018-03-04 03:34:24.925354\"], \"y\": [null, null, 631.0], \"name\": \"New York\"}, {\"type\": \"scatter\", \"x\": [\"2017-11-15 12:00:00\", \"2018-03-02 05:04:22.252590\", \"2018-03-04 03:34:24.925354\"], \"y\": [269.0, 375.0, 381.0], \"name\": \"New York Daily News\"}, {\"type\": \"scatter\", \"x\": [\"2017-11-15 12:00:00\", \"2018-03-02 05:04:22.252590\", \"2018-03-04 03:34:24.925354\"], \"y\": [160.0, 165.0, 165.0], \"name\": \"New York Post\"}, {\"type\": \"scatter\", \"x\": [\"2017-11-15 12:00:00\", \"2018-03-02 05:04:22.252590\", \"2018-03-04 03:34:24.925354\"], \"y\": [31.0, 30.0, 30.0], \"name\": \"New York Times\"}, {\"type\": \"scatter\", \"x\": [\"2017-11-15 12:00:00\", \"2018-03-02 05:04:22.252590\", \"2018-03-04 03:34:24.925354\"], \"y\": [327.0, 512.0, 487.0], \"name\": \"Newsweek\"}, {\"type\": \"scatter\", \"x\": [\"2017-11-15 12:00:00\", \"2018-03-02 05:04:22.252590\", \"2018-03-04 03:34:24.925354\"], \"y\": [2209.0, 1943.0, 1970.0], \"name\": \"PolitiFact\"}, {\"type\": \"scatter\", \"x\": [\"2017-11-15 12:00:00\", \"2018-03-02 05:04:22.252590\", \"2018-03-04 03:34:24.925354\"], \"y\": [201.0, 229.0, 233.0], \"name\": \"Politico\"}, {\"type\": \"scatter\", \"x\": [\"2017-11-15 12:00:00\", \"2018-03-02 05:04:22.252590\", \"2018-03-04 03:34:24.925354\"], \"y\": [5058.0, 4892.0, 4847.0], \"name\": \"ProPublica\"}, {\"type\": \"scatter\", \"x\": [\"2017-11-15 12:00:00\", \"2018-03-02 05:04:22.252590\", \"2018-03-04 03:34:24.925354\"], \"y\": [975.0, 996.0, 997.0], \"name\": \"RawStory\"}, {\"type\": \"scatter\", \"x\": [\"2017-11-15 12:00:00\", \"2018-03-02 05:04:22.252590\", \"2018-03-04 03:34:24.925354\"], \"y\": [1173.0, 1210.0, 1229.0], \"name\": \"RealClearPolitics\"}, {\"type\": \"scatter\", \"x\": [\"2017-11-15 12:00:00\", \"2018-03-02 05:04:22.252590\", \"2018-03-04 03:34:24.925354\"], \"y\": [3358.0, 2786.0, 2749.0], \"name\": \"Reason\"}, {\"type\": \"scatter\", \"x\": [\"2017-11-15 12:00:00\", \"2018-03-02 05:04:22.252590\", \"2018-03-04 03:34:24.925354\"], \"y\": [268.0, 245.0, 243.0], \"name\": \"Reuters\"}, {\"type\": \"scatter\", \"x\": [\"2017-11-15 12:00:00\", \"2018-03-02 05:04:22.252590\", \"2018-03-04 03:34:24.925354\"], \"y\": [314.0, 346.0, 340.0], \"name\": \"SFGate\"}, {\"type\": \"scatter\", \"x\": [\"2017-11-15 12:00:00\", \"2018-03-02 05:04:22.252590\", \"2018-03-04 03:34:24.925354\"], \"y\": [657.0, 1062.0, 1085.0], \"name\": \"Salon\"}, {\"type\": \"scatter\", \"x\": [\"2017-11-15 12:00:00\", \"2018-03-02 05:04:22.252590\", \"2018-03-04 03:34:24.925354\"], \"y\": [2851.0, 7359.0, 7691.0], \"name\": \"Shareblue Media\"}, {\"type\": \"scatter\", \"x\": [\"2017-11-15 12:00:00\", \"2018-03-02 05:04:22.252590\", \"2018-03-04 03:34:24.925354\"], \"y\": [279.0, 300.0, 298.0], \"name\": \"Slate\"}, {\"type\": \"scatter\", \"x\": [\"2017-11-15 12:00:00\", \"2018-03-02 05:04:22.252590\", \"2018-03-04 03:34:24.925354\"], \"y\": [10010.0, 10424.0, 10276.0], \"name\": \"TYT Network\"}, {\"type\": \"scatter\", \"x\": [\"2017-11-15 12:00:00\", \"2018-03-02 05:04:22.252590\", \"2018-03-04 03:34:24.925354\"], \"y\": [1455.0, 1642.0, 1581.0], \"name\": \"Talking Points Memo\"}, {\"type\": \"scatter\", \"x\": [\"2017-11-15 12:00:00\", \"2018-03-02 05:04:22.252590\", \"2018-03-04 03:34:24.925354\"], \"y\": [8163.0, 9515.0, 9454.0], \"name\": \"The American Conservative\"}, {\"type\": \"scatter\", \"x\": [\"2017-11-15 12:00:00\", \"2018-03-02 05:04:22.252590\", \"2018-03-04 03:34:24.925354\"], \"y\": [250.0, 237.0, 237.0], \"name\": \"The Atlantic\"}, {\"type\": \"scatter\", \"x\": [\"2017-11-15 12:00:00\", \"2018-03-02 05:04:22.252590\", \"2018-03-04 03:34:24.925354\"], \"y\": [1100.0, 998.0, 983.0], \"name\": \"The Boston Globe\"}, {\"type\": \"scatter\", \"x\": [\"2017-11-15 12:00:00\", \"2018-03-02 05:04:22.252590\", \"2018-03-04 03:34:24.925354\"], \"y\": [null, 172.0, 174.0], \"name\": \"The Daily Caller\"}, {\"type\": \"scatter\", \"x\": [\"2017-11-15 12:00:00\", \"2018-03-02 05:04:22.252590\", \"2018-03-04 03:34:24.925354\"], \"y\": [null, 8538.0, 7960.0], \"name\": \"The Daily Stormer\"}, {\"type\": \"scatter\", \"x\": [\"2017-11-15 12:00:00\", \"2018-03-02 05:04:22.252590\", \"2018-03-04 03:34:24.925354\"], \"y\": [104.0, 110.0, 109.0], \"name\": \"The Guardian\"}, {\"type\": \"scatter\", \"x\": [\"2017-11-15 12:00:00\", \"2018-03-02 05:04:22.252590\", \"2018-03-04 03:34:24.925354\"], \"y\": [183.0, 171.0, 175.0], \"name\": \"The Hill\"}, {\"type\": \"scatter\", \"x\": [\"2017-11-15 12:00:00\", \"2018-03-02 05:04:22.252590\", \"2018-03-04 03:34:24.925354\"], \"y\": [335.0, 394.0, 391.0], \"name\": \"The Independent\"}, {\"type\": \"scatter\", \"x\": [\"2017-11-15 12:00:00\", \"2018-03-02 05:04:22.252590\", \"2018-03-04 03:34:24.925354\"], \"y\": [2392.0, 1996.0, 1988.0], \"name\": \"The Intercept\"}, {\"type\": \"scatter\", \"x\": [\"2017-11-15 12:00:00\", \"2018-03-02 05:04:22.252590\", \"2018-03-04 03:34:24.925354\"], \"y\": [3350.0, 3591.0, 3596.0], \"name\": \"The Nation\"}, {\"type\": \"scatter\", \"x\": [\"2017-11-15 12:00:00\", \"2018-03-02 05:04:22.252590\", \"2018-03-04 03:34:24.925354\"], \"y\": [393.0, 431.0, 426.0], \"name\": \"The New Yorker\"}, {\"type\": \"scatter\", \"x\": [\"2017-11-15 12:00:00\", \"2018-03-02 05:04:22.252590\", \"2018-03-04 03:34:24.925354\"], \"y\": [1362.0, 1050.0, 1035.0], \"name\": \"ThinkProgress\"}, {\"type\": \"scatter\", \"x\": [\"2017-11-15 12:00:00\", \"2018-03-02 05:04:22.252590\", \"2018-03-04 03:34:24.925354\"], \"y\": [264.0, 183.0, 182.0], \"name\": \"Time Magazine\"}, {\"type\": \"scatter\", \"x\": [\"2017-11-15 12:00:00\", \"2018-03-02 05:04:22.252590\", \"2018-03-04 03:34:24.925354\"], \"y\": [15229.0, 12708.0, 12872.0], \"name\": \"Truthdig\"}, {\"type\": \"scatter\", \"x\": [\"2017-11-15 12:00:00\", \"2018-03-02 05:04:22.252590\", \"2018-03-04 03:34:24.925354\"], \"y\": [11515.0, 10288.0, 10330.0], \"name\": \"Truthout\"}, {\"type\": \"scatter\", \"x\": [\"2017-11-15 12:00:00\", \"2018-03-02 05:04:22.252590\", \"2018-03-04 03:34:24.925354\"], \"y\": [208.0, 209.0, 209.0], \"name\": \"U.S. News & World Report\"}, {\"type\": \"scatter\", \"x\": [\"2017-11-15 12:00:00\", \"2018-03-02 05:04:22.252590\", \"2018-03-04 03:34:24.925354\"], \"y\": [111.0, 92.0, 91.0], \"name\": \"USA Today\"}, {\"type\": \"scatter\", \"x\": [\"2017-11-15 12:00:00\", \"2018-03-02 05:04:22.252590\", \"2018-03-04 03:34:24.925354\"], \"y\": [89.0, 84.0, 83.0], \"name\": \"Vice\"}, {\"type\": \"scatter\", \"x\": [\"2017-11-15 12:00:00\", \"2018-03-02 05:04:22.252590\", \"2018-03-04 03:34:24.925354\"], \"y\": [380.0, 321.0, 326.0], \"name\": \"Vox\"}, {\"type\": \"scatter\", \"x\": [\"2017-11-15 12:00:00\", \"2018-03-02 05:04:22.252590\", \"2018-03-04 03:34:24.925354\"], \"y\": [171.0, 162.0, 161.0], \"name\": \"Wall Street Journal\"}, {\"type\": \"scatter\", \"x\": [\"2017-11-15 12:00:00\", \"2018-03-02 05:04:22.252590\", \"2018-03-04 03:34:24.925354\"], \"y\": [null, 1262.0, 1409.0], \"name\": \"Washington Examiner\"}, {\"type\": \"scatter\", \"x\": [\"2017-11-15 12:00:00\", \"2018-03-02 05:04:22.252590\", \"2018-03-04 03:34:24.925354\"], \"y\": [48.0, 61.0, 62.0], \"name\": \"Washington Post\"}, {\"type\": \"scatter\", \"x\": [\"2017-11-15 12:00:00\", \"2018-03-02 05:04:22.252590\", \"2018-03-04 03:34:24.925354\"], \"y\": [1359.0, 1355.0, 1358.0], \"name\": \"Washington Times\"}], {}, {\"showLink\": true, \"linkText\": \"Export to plot.ly\"})});</script>"
      ],
      "text/vnd.plotly.v1+html": [
       "<div id=\"5bc84461-f406-4cb8-bf7f-d379ebdf9552\" style=\"height: 525px; width: 100%;\" class=\"plotly-graph-div\"></div><script type=\"text/javascript\">require([\"plotly\"], function(Plotly) { window.PLOTLYENV=window.PLOTLYENV || {};window.PLOTLYENV.BASE_URL=\"https://plot.ly\";Plotly.newPlot(\"5bc84461-f406-4cb8-bf7f-d379ebdf9552\", [{\"type\": \"scatter\", \"x\": [\"2017-11-15 12:00:00\", \"2018-03-02 05:04:22.252590\", \"2018-03-04 03:34:24.925354\"], \"y\": [277.0, 249.0, 250.0], \"name\": \"ABC News\"}, {\"type\": \"scatter\", \"x\": [\"2017-11-15 12:00:00\", \"2018-03-02 05:04:22.252590\", \"2018-03-04 03:34:24.925354\"], \"y\": [949.0, 1088.0, 1082.0], \"name\": \"AP News\"}, {\"type\": \"scatter\", \"x\": [\"2017-11-15 12:00:00\", \"2018-03-02 05:04:22.252590\", \"2018-03-04 03:34:24.925354\"], \"y\": [2457.0, 2903.0, 2923.0], \"name\": \"Alternet\"}, {\"type\": \"scatter\", \"x\": [\"2017-11-15 12:00:00\", \"2018-03-02 05:04:22.252590\", \"2018-03-04 03:34:24.925354\"], \"y\": [1318.0, 1036.0, 1086.0], \"name\": \"Axios\"}, {\"type\": \"scatter\", \"x\": [\"2017-11-15 12:00:00\", \"2018-03-02 05:04:22.252590\", \"2018-03-04 03:34:24.925354\"], \"y\": [83.0, 80.0, 79.0], \"name\": \"BBC\"}, {\"type\": \"scatter\", \"x\": [\"2017-11-15 12:00:00\", \"2018-03-02 05:04:22.252590\", \"2018-03-04 03:34:24.925354\"], \"y\": [170.0, 155.0, 157.0], \"name\": \"Bloomberg\"}, {\"type\": \"scatter\", \"x\": [\"2017-11-15 12:00:00\", \"2018-03-02 05:04:22.252590\", \"2018-03-04 03:34:24.925354\"], \"y\": [50.0, 54.0, 55.0], \"name\": \"Breitbart\"}, {\"type\": \"scatter\", \"x\": [\"2017-11-15 12:00:00\", \"2018-03-02 05:04:22.252590\", \"2018-03-04 03:34:24.925354\"], \"y\": [92.0, 100.0, 100.0], \"name\": \"Business Insider\"}, {\"type\": \"scatter\", \"x\": [\"2017-11-15 12:00:00\", \"2018-03-02 05:04:22.252590\", \"2018-03-04 03:34:24.925354\"], \"y\": [55.0, 66.0, 65.0], \"name\": \"BuzzFeed\"}, {\"type\": \"scatter\", \"x\": [\"2017-11-15 12:00:00\", \"2018-03-02 05:04:22.252590\", \"2018-03-04 03:34:24.925354\"], \"y\": [240.0, 193.0, 197.0], \"name\": \"CBS News\"}, {\"type\": \"scatter\", \"x\": [\"2017-11-15 12:00:00\", \"2018-03-02 05:04:22.252590\", \"2018-03-04 03:34:24.925354\"], \"y\": [180.0, 143.0, 145.0], \"name\": \"CNBC\"}, {\"type\": \"scatter\", \"x\": [\"2017-11-15 12:00:00\", \"2018-03-02 05:04:22.252590\", \"2018-03-04 03:34:24.925354\"], \"y\": [27.0, 24.0, 24.0], \"name\": \"CNN\"}, {\"type\": \"scatter\", \"x\": [\"2017-11-15 12:00:00\", \"2018-03-02 05:04:22.252590\", \"2018-03-04 03:34:24.925354\"], \"y\": [29557.0, 34240.0, 32660.0], \"name\": \"Center for Investigative Reporting\"}, {\"type\": \"scatter\", \"x\": [\"2017-11-15 12:00:00\", \"2018-03-02 05:04:22.252590\", \"2018-03-04 03:34:24.925354\"], \"y\": [356.0, 335.0, 336.0], \"name\": \"Chron\"}, {\"type\": \"scatter\", \"x\": [\"2017-11-15 12:00:00\", \"2018-03-02 05:04:22.252590\", \"2018-03-04 03:34:24.925354\"], \"y\": [5238.0, 4820.0, 4633.0], \"name\": \"Common Dreams\"}, {\"type\": \"scatter\", \"x\": [\"2017-11-15 12:00:00\", \"2018-03-02 05:04:22.252590\", \"2018-03-04 03:34:24.925354\"], \"y\": [16442.0, 17709.0, 18008.0], \"name\": \"Conservative Review\"}, {\"type\": \"scatter\", \"x\": [\"2017-11-15 12:00:00\", \"2018-03-02 05:04:22.252590\", \"2018-03-04 03:34:24.925354\"], \"y\": [275.0, 317.0, 304.0], \"name\": \"Daily Beast\"}, {\"type\": \"scatter\", \"x\": [\"2017-11-15 12:00:00\", \"2018-03-02 05:04:22.252590\", \"2018-03-04 03:34:24.925354\"], \"y\": [null, null, 955.0], \"name\": \"Daily Kos\"}, {\"type\": \"scatter\", \"x\": [\"2017-11-15 12:00:00\", \"2018-03-02 05:04:22.252590\", \"2018-03-04 03:34:24.925354\"], \"y\": [97.0, 109.0, 108.0], \"name\": \"Daily Mail\"}, {\"type\": \"scatter\", \"x\": [\"2017-11-15 12:00:00\", \"2018-03-02 05:04:22.252590\", \"2018-03-04 03:34:24.925354\"], \"y\": [697.0, 780.0, 803.0], \"name\": \"Daily Wire\"}, {\"type\": \"scatter\", \"x\": [\"2017-11-15 12:00:00\", \"2018-03-02 05:04:22.252590\", \"2018-03-04 03:34:24.925354\"], \"y\": [4687.0, 5522.0, 5570.0], \"name\": \"Democracy Now!\"}, {\"type\": \"scatter\", \"x\": [\"2017-11-15 12:00:00\", \"2018-03-02 05:04:22.252590\", \"2018-03-04 03:34:24.925354\"], \"y\": [150.0, 157.0, 158.0], \"name\": \"Drudge Report\"}, {\"type\": \"scatter\", \"x\": [\"2017-11-15 12:00:00\", \"2018-03-02 05:04:22.252590\", \"2018-03-04 03:34:24.925354\"], \"y\": [391.0, 482.0, 476.0], \"name\": \"FiveThirtyEight\"}, {\"type\": \"scatter\", \"x\": [\"2017-11-15 12:00:00\", \"2018-03-02 05:04:22.252590\", \"2018-03-04 03:34:24.925354\"], \"y\": [602.0, 684.0, 683.0], \"name\": \"Fortune\"}, {\"type\": \"scatter\", \"x\": [\"2017-11-15 12:00:00\", \"2018-03-02 05:04:22.252590\", \"2018-03-04 03:34:24.925354\"], \"y\": [56.0, 57.0, 58.0], \"name\": \"Fox News\"}, {\"type\": \"scatter\", \"x\": [\"2017-11-15 12:00:00\", \"2018-03-02 05:04:22.252590\", \"2018-03-04 03:34:24.925354\"], \"y\": [70.0, 78.0, 78.0], \"name\": \"HuffPost\"}, {\"type\": \"scatter\", \"x\": [\"2017-11-15 12:00:00\", \"2018-03-02 05:04:22.252590\", \"2018-03-04 03:34:24.925354\"], \"y\": [844.0, 1006.0, 998.0], \"name\": \"Infowars\"}, {\"type\": \"scatter\", \"x\": [\"2017-11-15 12:00:00\", \"2018-03-02 05:04:22.252590\", \"2018-03-04 03:34:24.925354\"], \"y\": [706.0, 4166.0, 4953.0], \"name\": \"International Business Times\"}, {\"type\": \"scatter\", \"x\": [\"2017-11-15 12:00:00\", \"2018-03-02 05:04:22.252590\", \"2018-03-04 03:34:24.925354\"], \"y\": [179.0, 220.0, 223.0], \"name\": \"LA Times\"}, {\"type\": \"scatter\", \"x\": [\"2017-11-15 12:00:00\", \"2018-03-02 05:04:22.252590\", \"2018-03-04 03:34:24.925354\"], \"y\": [665.0, 687.0, 686.0], \"name\": \"MSNBC\"}, {\"type\": \"scatter\", \"x\": [\"2017-11-15 12:00:00\", \"2018-03-02 05:04:22.252590\", \"2018-03-04 03:34:24.925354\"], \"y\": [5235.0, 6430.0, 6370.0], \"name\": \"Media Matters for America\"}, {\"type\": \"scatter\", \"x\": [\"2017-11-15 12:00:00\", \"2018-03-02 05:04:22.252590\", \"2018-03-04 03:34:24.925354\"], \"y\": [1381.0, 1696.0, 1662.0], \"name\": \"Mediaite\"}, {\"type\": \"scatter\", \"x\": [\"2017-11-15 12:00:00\", \"2018-03-02 05:04:22.252590\", \"2018-03-04 03:34:24.925354\"], \"y\": [1804.0, 1533.0, 1552.0], \"name\": \"Mother Jones\"}, {\"type\": \"scatter\", \"x\": [\"2017-11-15 12:00:00\", \"2018-03-02 05:04:22.252590\", \"2018-03-04 03:34:24.925354\"], \"y\": [206.0, 196.0, 191.0], \"name\": \"NBC News\"}, {\"type\": \"scatter\", \"x\": [\"2017-11-15 12:00:00\", \"2018-03-02 05:04:22.252590\", \"2018-03-04 03:34:24.925354\"], \"y\": [147.0, 130.0, 129.0], \"name\": \"NPR\"}, {\"type\": \"scatter\", \"x\": [\"2017-11-15 12:00:00\", \"2018-03-02 05:04:22.252590\", \"2018-03-04 03:34:24.925354\"], \"y\": [1400.0, 1302.0, 1303.0], \"name\": \"National Review\"}, {\"type\": \"scatter\", \"x\": [\"2017-11-15 12:00:00\", \"2018-03-02 05:04:22.252590\", \"2018-03-04 03:34:24.925354\"], \"y\": [null, null, 631.0], \"name\": \"New York\"}, {\"type\": \"scatter\", \"x\": [\"2017-11-15 12:00:00\", \"2018-03-02 05:04:22.252590\", \"2018-03-04 03:34:24.925354\"], \"y\": [269.0, 375.0, 381.0], \"name\": \"New York Daily News\"}, {\"type\": \"scatter\", \"x\": [\"2017-11-15 12:00:00\", \"2018-03-02 05:04:22.252590\", \"2018-03-04 03:34:24.925354\"], \"y\": [160.0, 165.0, 165.0], \"name\": \"New York Post\"}, {\"type\": \"scatter\", \"x\": [\"2017-11-15 12:00:00\", \"2018-03-02 05:04:22.252590\", \"2018-03-04 03:34:24.925354\"], \"y\": [31.0, 30.0, 30.0], \"name\": \"New York Times\"}, {\"type\": \"scatter\", \"x\": [\"2017-11-15 12:00:00\", \"2018-03-02 05:04:22.252590\", \"2018-03-04 03:34:24.925354\"], \"y\": [327.0, 512.0, 487.0], \"name\": \"Newsweek\"}, {\"type\": \"scatter\", \"x\": [\"2017-11-15 12:00:00\", \"2018-03-02 05:04:22.252590\", \"2018-03-04 03:34:24.925354\"], \"y\": [2209.0, 1943.0, 1970.0], \"name\": \"PolitiFact\"}, {\"type\": \"scatter\", \"x\": [\"2017-11-15 12:00:00\", \"2018-03-02 05:04:22.252590\", \"2018-03-04 03:34:24.925354\"], \"y\": [201.0, 229.0, 233.0], \"name\": \"Politico\"}, {\"type\": \"scatter\", \"x\": [\"2017-11-15 12:00:00\", \"2018-03-02 05:04:22.252590\", \"2018-03-04 03:34:24.925354\"], \"y\": [5058.0, 4892.0, 4847.0], \"name\": \"ProPublica\"}, {\"type\": \"scatter\", \"x\": [\"2017-11-15 12:00:00\", \"2018-03-02 05:04:22.252590\", \"2018-03-04 03:34:24.925354\"], \"y\": [975.0, 996.0, 997.0], \"name\": \"RawStory\"}, {\"type\": \"scatter\", \"x\": [\"2017-11-15 12:00:00\", \"2018-03-02 05:04:22.252590\", \"2018-03-04 03:34:24.925354\"], \"y\": [1173.0, 1210.0, 1229.0], \"name\": \"RealClearPolitics\"}, {\"type\": \"scatter\", \"x\": [\"2017-11-15 12:00:00\", \"2018-03-02 05:04:22.252590\", \"2018-03-04 03:34:24.925354\"], \"y\": [3358.0, 2786.0, 2749.0], \"name\": \"Reason\"}, {\"type\": \"scatter\", \"x\": [\"2017-11-15 12:00:00\", \"2018-03-02 05:04:22.252590\", \"2018-03-04 03:34:24.925354\"], \"y\": [268.0, 245.0, 243.0], \"name\": \"Reuters\"}, {\"type\": \"scatter\", \"x\": [\"2017-11-15 12:00:00\", \"2018-03-02 05:04:22.252590\", \"2018-03-04 03:34:24.925354\"], \"y\": [314.0, 346.0, 340.0], \"name\": \"SFGate\"}, {\"type\": \"scatter\", \"x\": [\"2017-11-15 12:00:00\", \"2018-03-02 05:04:22.252590\", \"2018-03-04 03:34:24.925354\"], \"y\": [657.0, 1062.0, 1085.0], \"name\": \"Salon\"}, {\"type\": \"scatter\", \"x\": [\"2017-11-15 12:00:00\", \"2018-03-02 05:04:22.252590\", \"2018-03-04 03:34:24.925354\"], \"y\": [2851.0, 7359.0, 7691.0], \"name\": \"Shareblue Media\"}, {\"type\": \"scatter\", \"x\": [\"2017-11-15 12:00:00\", \"2018-03-02 05:04:22.252590\", \"2018-03-04 03:34:24.925354\"], \"y\": [279.0, 300.0, 298.0], \"name\": \"Slate\"}, {\"type\": \"scatter\", \"x\": [\"2017-11-15 12:00:00\", \"2018-03-02 05:04:22.252590\", \"2018-03-04 03:34:24.925354\"], \"y\": [10010.0, 10424.0, 10276.0], \"name\": \"TYT Network\"}, {\"type\": \"scatter\", \"x\": [\"2017-11-15 12:00:00\", \"2018-03-02 05:04:22.252590\", \"2018-03-04 03:34:24.925354\"], \"y\": [1455.0, 1642.0, 1581.0], \"name\": \"Talking Points Memo\"}, {\"type\": \"scatter\", \"x\": [\"2017-11-15 12:00:00\", \"2018-03-02 05:04:22.252590\", \"2018-03-04 03:34:24.925354\"], \"y\": [8163.0, 9515.0, 9454.0], \"name\": \"The American Conservative\"}, {\"type\": \"scatter\", \"x\": [\"2017-11-15 12:00:00\", \"2018-03-02 05:04:22.252590\", \"2018-03-04 03:34:24.925354\"], \"y\": [250.0, 237.0, 237.0], \"name\": \"The Atlantic\"}, {\"type\": \"scatter\", \"x\": [\"2017-11-15 12:00:00\", \"2018-03-02 05:04:22.252590\", \"2018-03-04 03:34:24.925354\"], \"y\": [1100.0, 998.0, 983.0], \"name\": \"The Boston Globe\"}, {\"type\": \"scatter\", \"x\": [\"2017-11-15 12:00:00\", \"2018-03-02 05:04:22.252590\", \"2018-03-04 03:34:24.925354\"], \"y\": [null, 172.0, 174.0], \"name\": \"The Daily Caller\"}, {\"type\": \"scatter\", \"x\": [\"2017-11-15 12:00:00\", \"2018-03-02 05:04:22.252590\", \"2018-03-04 03:34:24.925354\"], \"y\": [null, 8538.0, 7960.0], \"name\": \"The Daily Stormer\"}, {\"type\": \"scatter\", \"x\": [\"2017-11-15 12:00:00\", \"2018-03-02 05:04:22.252590\", \"2018-03-04 03:34:24.925354\"], \"y\": [104.0, 110.0, 109.0], \"name\": \"The Guardian\"}, {\"type\": \"scatter\", \"x\": [\"2017-11-15 12:00:00\", \"2018-03-02 05:04:22.252590\", \"2018-03-04 03:34:24.925354\"], \"y\": [183.0, 171.0, 175.0], \"name\": \"The Hill\"}, {\"type\": \"scatter\", \"x\": [\"2017-11-15 12:00:00\", \"2018-03-02 05:04:22.252590\", \"2018-03-04 03:34:24.925354\"], \"y\": [335.0, 394.0, 391.0], \"name\": \"The Independent\"}, {\"type\": \"scatter\", \"x\": [\"2017-11-15 12:00:00\", \"2018-03-02 05:04:22.252590\", \"2018-03-04 03:34:24.925354\"], \"y\": [2392.0, 1996.0, 1988.0], \"name\": \"The Intercept\"}, {\"type\": \"scatter\", \"x\": [\"2017-11-15 12:00:00\", \"2018-03-02 05:04:22.252590\", \"2018-03-04 03:34:24.925354\"], \"y\": [3350.0, 3591.0, 3596.0], \"name\": \"The Nation\"}, {\"type\": \"scatter\", \"x\": [\"2017-11-15 12:00:00\", \"2018-03-02 05:04:22.252590\", \"2018-03-04 03:34:24.925354\"], \"y\": [393.0, 431.0, 426.0], \"name\": \"The New Yorker\"}, {\"type\": \"scatter\", \"x\": [\"2017-11-15 12:00:00\", \"2018-03-02 05:04:22.252590\", \"2018-03-04 03:34:24.925354\"], \"y\": [1362.0, 1050.0, 1035.0], \"name\": \"ThinkProgress\"}, {\"type\": \"scatter\", \"x\": [\"2017-11-15 12:00:00\", \"2018-03-02 05:04:22.252590\", \"2018-03-04 03:34:24.925354\"], \"y\": [264.0, 183.0, 182.0], \"name\": \"Time Magazine\"}, {\"type\": \"scatter\", \"x\": [\"2017-11-15 12:00:00\", \"2018-03-02 05:04:22.252590\", \"2018-03-04 03:34:24.925354\"], \"y\": [15229.0, 12708.0, 12872.0], \"name\": \"Truthdig\"}, {\"type\": \"scatter\", \"x\": [\"2017-11-15 12:00:00\", \"2018-03-02 05:04:22.252590\", \"2018-03-04 03:34:24.925354\"], \"y\": [11515.0, 10288.0, 10330.0], \"name\": \"Truthout\"}, {\"type\": \"scatter\", \"x\": [\"2017-11-15 12:00:00\", \"2018-03-02 05:04:22.252590\", \"2018-03-04 03:34:24.925354\"], \"y\": [208.0, 209.0, 209.0], \"name\": \"U.S. News & World Report\"}, {\"type\": \"scatter\", \"x\": [\"2017-11-15 12:00:00\", \"2018-03-02 05:04:22.252590\", \"2018-03-04 03:34:24.925354\"], \"y\": [111.0, 92.0, 91.0], \"name\": \"USA Today\"}, {\"type\": \"scatter\", \"x\": [\"2017-11-15 12:00:00\", \"2018-03-02 05:04:22.252590\", \"2018-03-04 03:34:24.925354\"], \"y\": [89.0, 84.0, 83.0], \"name\": \"Vice\"}, {\"type\": \"scatter\", \"x\": [\"2017-11-15 12:00:00\", \"2018-03-02 05:04:22.252590\", \"2018-03-04 03:34:24.925354\"], \"y\": [380.0, 321.0, 326.0], \"name\": \"Vox\"}, {\"type\": \"scatter\", \"x\": [\"2017-11-15 12:00:00\", \"2018-03-02 05:04:22.252590\", \"2018-03-04 03:34:24.925354\"], \"y\": [171.0, 162.0, 161.0], \"name\": \"Wall Street Journal\"}, {\"type\": \"scatter\", \"x\": [\"2017-11-15 12:00:00\", \"2018-03-02 05:04:22.252590\", \"2018-03-04 03:34:24.925354\"], \"y\": [null, 1262.0, 1409.0], \"name\": \"Washington Examiner\"}, {\"type\": \"scatter\", \"x\": [\"2017-11-15 12:00:00\", \"2018-03-02 05:04:22.252590\", \"2018-03-04 03:34:24.925354\"], \"y\": [48.0, 61.0, 62.0], \"name\": \"Washington Post\"}, {\"type\": \"scatter\", \"x\": [\"2017-11-15 12:00:00\", \"2018-03-02 05:04:22.252590\", \"2018-03-04 03:34:24.925354\"], \"y\": [1359.0, 1355.0, 1358.0], \"name\": \"Washington Times\"}], {}, {\"showLink\": true, \"linkText\": \"Export to plot.ly\"})});</script>"
      ]
     },
     "metadata": {},
     "output_type": "display_data"
    }
   ],
   "source": [
    "iplot(traces)"
   ]
  }
 ],
 "metadata": {
  "kernelspec": {
   "display_name": "Python 3",
   "language": "python",
   "name": "python3"
  },
  "language_info": {
   "codemirror_mode": {
    "name": "ipython",
    "version": 3
   },
   "file_extension": ".py",
   "mimetype": "text/x-python",
   "name": "python",
   "nbconvert_exporter": "python",
   "pygments_lexer": "ipython3",
   "version": "3.6.4"
  }
 },
 "nbformat": 4,
 "nbformat_minor": 2
}
