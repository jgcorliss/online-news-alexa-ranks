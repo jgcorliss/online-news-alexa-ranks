{
 "cells": [
  {
   "cell_type": "markdown",
   "metadata": {},
   "source": [
    "# US Alexa Ranks of Online News Media"
   ]
  },
  {
   "cell_type": "markdown",
   "metadata": {},
   "source": [
    "## Instructions"
   ]
  },
  {
   "cell_type": "markdown",
   "metadata": {},
   "source": [
    "1. To update Alexa US rank data and overwrite `ranks.csv`, simply run all cells below.\n",
    "2. To add website(s) to the rank data collection, fill in the values in `add_sites` below and run all cells. Make sure to enter the URL that Alexa uses for ranking.\n",
    "3. To remove website(s), add site names to `removes_sites` below and run all cells."
   ]
  },
  {
   "cell_type": "code",
   "execution_count": 8,
   "metadata": {},
   "outputs": [],
   "source": [
    "add_sites = [] # list of site (name, url) tuples"
   ]
  },
  {
   "cell_type": "code",
   "execution_count": 9,
   "metadata": {},
   "outputs": [],
   "source": [
    "remove_sites = [] # list of site names"
   ]
  },
  {
   "cell_type": "markdown",
   "metadata": {},
   "source": [
    "## Package Imports"
   ]
  },
  {
   "cell_type": "code",
   "execution_count": 1,
   "metadata": {},
   "outputs": [],
   "source": [
    "import datetime\n",
    "import numpy as np\n",
    "import pandas as pd\n",
    "import matplotlib.pyplot as plt\n",
    "import seaborn as sns\n",
    "%matplotlib inline"
   ]
  },
  {
   "cell_type": "code",
   "execution_count": 2,
   "metadata": {},
   "outputs": [],
   "source": [
    "pd.set_option('display.max_colwidth', 1000, 'display.max_rows', None, 'display.max_columns', None)"
   ]
  },
  {
   "cell_type": "markdown",
   "metadata": {},
   "source": [
    "## Read in Data"
   ]
  },
  {
   "cell_type": "markdown",
   "metadata": {},
   "source": [
    "### Sites"
   ]
  },
  {
   "cell_type": "code",
   "execution_count": null,
   "metadata": {},
   "outputs": [],
   "source": [
    "sites = pd.read_csv('sites.csv')"
   ]
  },
  {
   "cell_type": "code",
   "execution_count": 4,
   "metadata": {},
   "outputs": [
    {
     "name": "stdout",
     "output_type": "stream",
     "text": [
      "<class 'pandas.core.frame.DataFrame'>\n",
      "RangeIndex: 79 entries, 0 to 78\n",
      "Data columns (total 3 columns):\n",
      "id      79 non-null int64\n",
      "name    79 non-null object\n",
      "url     79 non-null object\n",
      "dtypes: int64(1), object(2)\n",
      "memory usage: 1.9+ KB\n"
     ]
    }
   ],
   "source": [
    "sites.info()"
   ]
  },
  {
   "cell_type": "code",
   "execution_count": 6,
   "metadata": {},
   "outputs": [
    {
     "data": {
      "text/html": [
       "<div>\n",
       "<style scoped>\n",
       "    .dataframe tbody tr th:only-of-type {\n",
       "        vertical-align: middle;\n",
       "    }\n",
       "\n",
       "    .dataframe tbody tr th {\n",
       "        vertical-align: top;\n",
       "    }\n",
       "\n",
       "    .dataframe thead th {\n",
       "        text-align: right;\n",
       "    }\n",
       "</style>\n",
       "<table border=\"1\" class=\"dataframe\">\n",
       "  <thead>\n",
       "    <tr style=\"text-align: right;\">\n",
       "      <th></th>\n",
       "      <th>id</th>\n",
       "      <th>name</th>\n",
       "      <th>url</th>\n",
       "    </tr>\n",
       "  </thead>\n",
       "  <tbody>\n",
       "    <tr>\n",
       "      <th>0</th>\n",
       "      <td>0</td>\n",
       "      <td>FiveThirtyEight</td>\n",
       "      <td>fivethirtyeight.com</td>\n",
       "    </tr>\n",
       "    <tr>\n",
       "      <th>1</th>\n",
       "      <td>1</td>\n",
       "      <td>Politico</td>\n",
       "      <td>politico.com</td>\n",
       "    </tr>\n",
       "    <tr>\n",
       "      <th>2</th>\n",
       "      <td>2</td>\n",
       "      <td>MSNBC</td>\n",
       "      <td>msnbc.com</td>\n",
       "    </tr>\n",
       "    <tr>\n",
       "      <th>3</th>\n",
       "      <td>3</td>\n",
       "      <td>Washington Post</td>\n",
       "      <td>washingtonpost.com</td>\n",
       "    </tr>\n",
       "    <tr>\n",
       "      <th>4</th>\n",
       "      <td>4</td>\n",
       "      <td>Business Insider</td>\n",
       "      <td>businessinsider.com</td>\n",
       "    </tr>\n",
       "    <tr>\n",
       "      <th>5</th>\n",
       "      <td>5</td>\n",
       "      <td>Washington Times</td>\n",
       "      <td>washingtontimes.com</td>\n",
       "    </tr>\n",
       "    <tr>\n",
       "      <th>6</th>\n",
       "      <td>6</td>\n",
       "      <td>The Daily Stormer</td>\n",
       "      <td>dailystormer.name</td>\n",
       "    </tr>\n",
       "    <tr>\n",
       "      <th>7</th>\n",
       "      <td>7</td>\n",
       "      <td>CNBC</td>\n",
       "      <td>cnbc.com</td>\n",
       "    </tr>\n",
       "    <tr>\n",
       "      <th>8</th>\n",
       "      <td>8</td>\n",
       "      <td>The Hill</td>\n",
       "      <td>thehill.com</td>\n",
       "    </tr>\n",
       "    <tr>\n",
       "      <th>9</th>\n",
       "      <td>9</td>\n",
       "      <td>The Intercept</td>\n",
       "      <td>theintercept.com</td>\n",
       "    </tr>\n",
       "    <tr>\n",
       "      <th>10</th>\n",
       "      <td>10</td>\n",
       "      <td>CNN</td>\n",
       "      <td>cnn.com</td>\n",
       "    </tr>\n",
       "    <tr>\n",
       "      <th>11</th>\n",
       "      <td>11</td>\n",
       "      <td>LA Times</td>\n",
       "      <td>latimes.com</td>\n",
       "    </tr>\n",
       "    <tr>\n",
       "      <th>12</th>\n",
       "      <td>12</td>\n",
       "      <td>SFGate</td>\n",
       "      <td>sfgate.com</td>\n",
       "    </tr>\n",
       "    <tr>\n",
       "      <th>13</th>\n",
       "      <td>13</td>\n",
       "      <td>ThinkProgress</td>\n",
       "      <td>thinkprogress.org</td>\n",
       "    </tr>\n",
       "    <tr>\n",
       "      <th>14</th>\n",
       "      <td>14</td>\n",
       "      <td>New York Post</td>\n",
       "      <td>nypost.com</td>\n",
       "    </tr>\n",
       "    <tr>\n",
       "      <th>15</th>\n",
       "      <td>15</td>\n",
       "      <td>Vice</td>\n",
       "      <td>vice.com</td>\n",
       "    </tr>\n",
       "    <tr>\n",
       "      <th>16</th>\n",
       "      <td>16</td>\n",
       "      <td>The Daily Caller</td>\n",
       "      <td>dailycaller.com</td>\n",
       "    </tr>\n",
       "    <tr>\n",
       "      <th>17</th>\n",
       "      <td>17</td>\n",
       "      <td>CBS News</td>\n",
       "      <td>cbsnews.com</td>\n",
       "    </tr>\n",
       "    <tr>\n",
       "      <th>18</th>\n",
       "      <td>18</td>\n",
       "      <td>Breitbart</td>\n",
       "      <td>breitbart.com</td>\n",
       "    </tr>\n",
       "    <tr>\n",
       "      <th>19</th>\n",
       "      <td>19</td>\n",
       "      <td>U.S. News &amp; World Report</td>\n",
       "      <td>usnews.com</td>\n",
       "    </tr>\n",
       "    <tr>\n",
       "      <th>20</th>\n",
       "      <td>20</td>\n",
       "      <td>Reason</td>\n",
       "      <td>reason.com</td>\n",
       "    </tr>\n",
       "    <tr>\n",
       "      <th>21</th>\n",
       "      <td>21</td>\n",
       "      <td>Truthout</td>\n",
       "      <td>truth-out.org</td>\n",
       "    </tr>\n",
       "    <tr>\n",
       "      <th>22</th>\n",
       "      <td>22</td>\n",
       "      <td>Axios</td>\n",
       "      <td>axios.com</td>\n",
       "    </tr>\n",
       "    <tr>\n",
       "      <th>23</th>\n",
       "      <td>23</td>\n",
       "      <td>Mediaite</td>\n",
       "      <td>mediaite.com</td>\n",
       "    </tr>\n",
       "    <tr>\n",
       "      <th>24</th>\n",
       "      <td>24</td>\n",
       "      <td>The American Conservative</td>\n",
       "      <td>theamericanconservative.com</td>\n",
       "    </tr>\n",
       "    <tr>\n",
       "      <th>25</th>\n",
       "      <td>25</td>\n",
       "      <td>ProPublica</td>\n",
       "      <td>propublica.org</td>\n",
       "    </tr>\n",
       "    <tr>\n",
       "      <th>26</th>\n",
       "      <td>26</td>\n",
       "      <td>Truthdig</td>\n",
       "      <td>truthdig.com</td>\n",
       "    </tr>\n",
       "    <tr>\n",
       "      <th>27</th>\n",
       "      <td>27</td>\n",
       "      <td>BBC</td>\n",
       "      <td>bbc.com</td>\n",
       "    </tr>\n",
       "    <tr>\n",
       "      <th>28</th>\n",
       "      <td>28</td>\n",
       "      <td>TYT Network</td>\n",
       "      <td>tytnetwork.com</td>\n",
       "    </tr>\n",
       "    <tr>\n",
       "      <th>29</th>\n",
       "      <td>29</td>\n",
       "      <td>Wall Street Journal</td>\n",
       "      <td>wsj.com</td>\n",
       "    </tr>\n",
       "    <tr>\n",
       "      <th>30</th>\n",
       "      <td>30</td>\n",
       "      <td>Daily Mail</td>\n",
       "      <td>dailymail.co.uk</td>\n",
       "    </tr>\n",
       "    <tr>\n",
       "      <th>31</th>\n",
       "      <td>31</td>\n",
       "      <td>Drudge Report</td>\n",
       "      <td>drudgereport.com</td>\n",
       "    </tr>\n",
       "    <tr>\n",
       "      <th>32</th>\n",
       "      <td>32</td>\n",
       "      <td>Fortune</td>\n",
       "      <td>fortune.com</td>\n",
       "    </tr>\n",
       "    <tr>\n",
       "      <th>33</th>\n",
       "      <td>33</td>\n",
       "      <td>National Review</td>\n",
       "      <td>nationalreview.com</td>\n",
       "    </tr>\n",
       "    <tr>\n",
       "      <th>34</th>\n",
       "      <td>34</td>\n",
       "      <td>Center for Investigative Reporting</td>\n",
       "      <td>revealnews.org</td>\n",
       "    </tr>\n",
       "    <tr>\n",
       "      <th>35</th>\n",
       "      <td>35</td>\n",
       "      <td>NBC News</td>\n",
       "      <td>nbcnews.com</td>\n",
       "    </tr>\n",
       "    <tr>\n",
       "      <th>36</th>\n",
       "      <td>36</td>\n",
       "      <td>Vox</td>\n",
       "      <td>vox.com</td>\n",
       "    </tr>\n",
       "    <tr>\n",
       "      <th>37</th>\n",
       "      <td>37</td>\n",
       "      <td>BuzzFeed</td>\n",
       "      <td>buzzfeed.com</td>\n",
       "    </tr>\n",
       "    <tr>\n",
       "      <th>38</th>\n",
       "      <td>38</td>\n",
       "      <td>The Independent</td>\n",
       "      <td>independent.co.uk</td>\n",
       "    </tr>\n",
       "    <tr>\n",
       "      <th>39</th>\n",
       "      <td>39</td>\n",
       "      <td>Infowars</td>\n",
       "      <td>infowars.com</td>\n",
       "    </tr>\n",
       "    <tr>\n",
       "      <th>40</th>\n",
       "      <td>40</td>\n",
       "      <td>RealClearPolitics</td>\n",
       "      <td>realclearpolitics.com</td>\n",
       "    </tr>\n",
       "    <tr>\n",
       "      <th>41</th>\n",
       "      <td>41</td>\n",
       "      <td>The Nation</td>\n",
       "      <td>thenation.com</td>\n",
       "    </tr>\n",
       "    <tr>\n",
       "      <th>42</th>\n",
       "      <td>42</td>\n",
       "      <td>ABC News</td>\n",
       "      <td>abcnews.go.com</td>\n",
       "    </tr>\n",
       "    <tr>\n",
       "      <th>43</th>\n",
       "      <td>43</td>\n",
       "      <td>The New Yorker</td>\n",
       "      <td>newyorker.com</td>\n",
       "    </tr>\n",
       "    <tr>\n",
       "      <th>44</th>\n",
       "      <td>44</td>\n",
       "      <td>Daily Beast</td>\n",
       "      <td>thedailybeast.com</td>\n",
       "    </tr>\n",
       "    <tr>\n",
       "      <th>45</th>\n",
       "      <td>45</td>\n",
       "      <td>Alternet</td>\n",
       "      <td>alternet.org</td>\n",
       "    </tr>\n",
       "    <tr>\n",
       "      <th>46</th>\n",
       "      <td>46</td>\n",
       "      <td>AP News</td>\n",
       "      <td>apnews.com</td>\n",
       "    </tr>\n",
       "    <tr>\n",
       "      <th>47</th>\n",
       "      <td>47</td>\n",
       "      <td>Newsweek</td>\n",
       "      <td>newsweek.com</td>\n",
       "    </tr>\n",
       "    <tr>\n",
       "      <th>48</th>\n",
       "      <td>48</td>\n",
       "      <td>Time Magazine</td>\n",
       "      <td>time.com</td>\n",
       "    </tr>\n",
       "    <tr>\n",
       "      <th>49</th>\n",
       "      <td>49</td>\n",
       "      <td>New York Times</td>\n",
       "      <td>nytimes.com</td>\n",
       "    </tr>\n",
       "    <tr>\n",
       "      <th>50</th>\n",
       "      <td>50</td>\n",
       "      <td>Talking Points Memo</td>\n",
       "      <td>talkingpointsmemo.com</td>\n",
       "    </tr>\n",
       "    <tr>\n",
       "      <th>51</th>\n",
       "      <td>51</td>\n",
       "      <td>The Verge</td>\n",
       "      <td>theverge.com</td>\n",
       "    </tr>\n",
       "    <tr>\n",
       "      <th>52</th>\n",
       "      <td>52</td>\n",
       "      <td>Chron</td>\n",
       "      <td>chron.com</td>\n",
       "    </tr>\n",
       "    <tr>\n",
       "      <th>53</th>\n",
       "      <td>53</td>\n",
       "      <td>NY Daily News</td>\n",
       "      <td>nydailynews.com</td>\n",
       "    </tr>\n",
       "    <tr>\n",
       "      <th>54</th>\n",
       "      <td>54</td>\n",
       "      <td>RawStory</td>\n",
       "      <td>rawstory.com</td>\n",
       "    </tr>\n",
       "    <tr>\n",
       "      <th>55</th>\n",
       "      <td>55</td>\n",
       "      <td>Bloomberg</td>\n",
       "      <td>bloomberg.com</td>\n",
       "    </tr>\n",
       "    <tr>\n",
       "      <th>56</th>\n",
       "      <td>56</td>\n",
       "      <td>Common Dreams</td>\n",
       "      <td>commondreams.org</td>\n",
       "    </tr>\n",
       "    <tr>\n",
       "      <th>57</th>\n",
       "      <td>57</td>\n",
       "      <td>PolitiFact</td>\n",
       "      <td>politifact.com</td>\n",
       "    </tr>\n",
       "    <tr>\n",
       "      <th>58</th>\n",
       "      <td>58</td>\n",
       "      <td>Shareblue Media</td>\n",
       "      <td>shareblue.com</td>\n",
       "    </tr>\n",
       "    <tr>\n",
       "      <th>59</th>\n",
       "      <td>59</td>\n",
       "      <td>Democracy Now!</td>\n",
       "      <td>democracynow.org</td>\n",
       "    </tr>\n",
       "    <tr>\n",
       "      <th>60</th>\n",
       "      <td>60</td>\n",
       "      <td>Mother Jones</td>\n",
       "      <td>motherjones.com</td>\n",
       "    </tr>\n",
       "    <tr>\n",
       "      <th>61</th>\n",
       "      <td>61</td>\n",
       "      <td>Media Matters for America</td>\n",
       "      <td>mediamatters.org</td>\n",
       "    </tr>\n",
       "    <tr>\n",
       "      <th>62</th>\n",
       "      <td>62</td>\n",
       "      <td>USA Today</td>\n",
       "      <td>usatoday.com</td>\n",
       "    </tr>\n",
       "    <tr>\n",
       "      <th>63</th>\n",
       "      <td>63</td>\n",
       "      <td>Slate</td>\n",
       "      <td>slate.com</td>\n",
       "    </tr>\n",
       "    <tr>\n",
       "      <th>64</th>\n",
       "      <td>64</td>\n",
       "      <td>Reuters</td>\n",
       "      <td>reuters.com</td>\n",
       "    </tr>\n",
       "    <tr>\n",
       "      <th>65</th>\n",
       "      <td>65</td>\n",
       "      <td>NPR</td>\n",
       "      <td>npr.org</td>\n",
       "    </tr>\n",
       "    <tr>\n",
       "      <th>66</th>\n",
       "      <td>66</td>\n",
       "      <td>Daily Wire</td>\n",
       "      <td>dailywire.com</td>\n",
       "    </tr>\n",
       "    <tr>\n",
       "      <th>67</th>\n",
       "      <td>67</td>\n",
       "      <td>Daily Kos</td>\n",
       "      <td>dailykos.com</td>\n",
       "    </tr>\n",
       "    <tr>\n",
       "      <th>68</th>\n",
       "      <td>68</td>\n",
       "      <td>The Guardian</td>\n",
       "      <td>theguardian.com</td>\n",
       "    </tr>\n",
       "    <tr>\n",
       "      <th>69</th>\n",
       "      <td>69</td>\n",
       "      <td>HuffPost</td>\n",
       "      <td>huffingtonpost.com</td>\n",
       "    </tr>\n",
       "    <tr>\n",
       "      <th>70</th>\n",
       "      <td>70</td>\n",
       "      <td>The Boston Globe</td>\n",
       "      <td>bostonglobe.com</td>\n",
       "    </tr>\n",
       "    <tr>\n",
       "      <th>71</th>\n",
       "      <td>71</td>\n",
       "      <td>Washington Examiner</td>\n",
       "      <td>washingtonexaminer.com</td>\n",
       "    </tr>\n",
       "    <tr>\n",
       "      <th>72</th>\n",
       "      <td>72</td>\n",
       "      <td>The Atlantic</td>\n",
       "      <td>theatlantic.com</td>\n",
       "    </tr>\n",
       "    <tr>\n",
       "      <th>73</th>\n",
       "      <td>73</td>\n",
       "      <td>Fox News</td>\n",
       "      <td>foxnews.com</td>\n",
       "    </tr>\n",
       "    <tr>\n",
       "      <th>74</th>\n",
       "      <td>74</td>\n",
       "      <td>International Business Times</td>\n",
       "      <td>ibtimes.com</td>\n",
       "    </tr>\n",
       "    <tr>\n",
       "      <th>75</th>\n",
       "      <td>75</td>\n",
       "      <td>Conservative Review</td>\n",
       "      <td>conservativereview.com</td>\n",
       "    </tr>\n",
       "    <tr>\n",
       "      <th>76</th>\n",
       "      <td>76</td>\n",
       "      <td>Salon</td>\n",
       "      <td>salon.com</td>\n",
       "    </tr>\n",
       "    <tr>\n",
       "      <th>77</th>\n",
       "      <td>77</td>\n",
       "      <td>Forbes</td>\n",
       "      <td>forbes.com</td>\n",
       "    </tr>\n",
       "    <tr>\n",
       "      <th>78</th>\n",
       "      <td>78</td>\n",
       "      <td>New York</td>\n",
       "      <td>nymag.com</td>\n",
       "    </tr>\n",
       "  </tbody>\n",
       "</table>\n",
       "</div>"
      ],
      "text/plain": [
       "    id                                name                          url\n",
       "0    0                     FiveThirtyEight          fivethirtyeight.com\n",
       "1    1                            Politico                 politico.com\n",
       "2    2                               MSNBC                    msnbc.com\n",
       "3    3                     Washington Post           washingtonpost.com\n",
       "4    4                    Business Insider          businessinsider.com\n",
       "5    5                    Washington Times          washingtontimes.com\n",
       "6    6                   The Daily Stormer            dailystormer.name\n",
       "7    7                                CNBC                     cnbc.com\n",
       "8    8                            The Hill                  thehill.com\n",
       "9    9                       The Intercept             theintercept.com\n",
       "10  10                                 CNN                      cnn.com\n",
       "11  11                            LA Times                  latimes.com\n",
       "12  12                              SFGate                   sfgate.com\n",
       "13  13                       ThinkProgress            thinkprogress.org\n",
       "14  14                       New York Post                   nypost.com\n",
       "15  15                                Vice                     vice.com\n",
       "16  16                    The Daily Caller              dailycaller.com\n",
       "17  17                            CBS News                  cbsnews.com\n",
       "18  18                           Breitbart                breitbart.com\n",
       "19  19            U.S. News & World Report                   usnews.com\n",
       "20  20                              Reason                   reason.com\n",
       "21  21                            Truthout                truth-out.org\n",
       "22  22                               Axios                    axios.com\n",
       "23  23                            Mediaite                 mediaite.com\n",
       "24  24           The American Conservative  theamericanconservative.com\n",
       "25  25                          ProPublica               propublica.org\n",
       "26  26                            Truthdig                 truthdig.com\n",
       "27  27                                 BBC                      bbc.com\n",
       "28  28                         TYT Network               tytnetwork.com\n",
       "29  29                 Wall Street Journal                      wsj.com\n",
       "30  30                          Daily Mail              dailymail.co.uk\n",
       "31  31                       Drudge Report             drudgereport.com\n",
       "32  32                             Fortune                  fortune.com\n",
       "33  33                     National Review           nationalreview.com\n",
       "34  34  Center for Investigative Reporting               revealnews.org\n",
       "35  35                            NBC News                  nbcnews.com\n",
       "36  36                                 Vox                      vox.com\n",
       "37  37                            BuzzFeed                 buzzfeed.com\n",
       "38  38                     The Independent            independent.co.uk\n",
       "39  39                            Infowars                 infowars.com\n",
       "40  40                   RealClearPolitics        realclearpolitics.com\n",
       "41  41                          The Nation                thenation.com\n",
       "42  42                            ABC News               abcnews.go.com\n",
       "43  43                      The New Yorker                newyorker.com\n",
       "44  44                         Daily Beast            thedailybeast.com\n",
       "45  45                            Alternet                 alternet.org\n",
       "46  46                             AP News                   apnews.com\n",
       "47  47                            Newsweek                 newsweek.com\n",
       "48  48                       Time Magazine                     time.com\n",
       "49  49                      New York Times                  nytimes.com\n",
       "50  50                 Talking Points Memo        talkingpointsmemo.com\n",
       "51  51                           The Verge                 theverge.com\n",
       "52  52                               Chron                    chron.com\n",
       "53  53                       NY Daily News              nydailynews.com\n",
       "54  54                            RawStory                 rawstory.com\n",
       "55  55                           Bloomberg                bloomberg.com\n",
       "56  56                       Common Dreams             commondreams.org\n",
       "57  57                          PolitiFact               politifact.com\n",
       "58  58                     Shareblue Media                shareblue.com\n",
       "59  59                      Democracy Now!             democracynow.org\n",
       "60  60                        Mother Jones              motherjones.com\n",
       "61  61           Media Matters for America             mediamatters.org\n",
       "62  62                           USA Today                 usatoday.com\n",
       "63  63                               Slate                    slate.com\n",
       "64  64                             Reuters                  reuters.com\n",
       "65  65                                 NPR                      npr.org\n",
       "66  66                          Daily Wire                dailywire.com\n",
       "67  67                           Daily Kos                 dailykos.com\n",
       "68  68                        The Guardian              theguardian.com\n",
       "69  69                            HuffPost           huffingtonpost.com\n",
       "70  70                    The Boston Globe              bostonglobe.com\n",
       "71  71                 Washington Examiner       washingtonexaminer.com\n",
       "72  72                        The Atlantic              theatlantic.com\n",
       "73  73                            Fox News                  foxnews.com\n",
       "74  74        International Business Times                  ibtimes.com\n",
       "75  75                 Conservative Review       conservativereview.com\n",
       "76  76                               Salon                    salon.com\n",
       "77  77                              Forbes                   forbes.com\n",
       "78  78                            New York                    nymag.com"
      ]
     },
     "execution_count": 6,
     "metadata": {},
     "output_type": "execute_result"
    }
   ],
   "source": [
    "sites"
   ]
  },
  {
   "cell_type": "markdown",
   "metadata": {},
   "source": [
    "### Ranks"
   ]
  },
  {
   "cell_type": "code",
   "execution_count": 3,
   "metadata": {},
   "outputs": [],
   "source": [
    "ranks = pd.read_csv('ranks.csv')"
   ]
  },
  {
   "cell_type": "code",
   "execution_count": 16,
   "metadata": {},
   "outputs": [
    {
     "name": "stdout",
     "output_type": "stream",
     "text": [
      "<class 'pandas.core.frame.DataFrame'>\n",
      "RangeIndex: 151 entries, 0 to 150\n",
      "Data columns (total 3 columns):\n",
      "datetime    151 non-null object\n",
      "id          151 non-null int64\n",
      "rank        151 non-null int64\n",
      "dtypes: int64(2), object(1)\n",
      "memory usage: 3.6+ KB\n"
     ]
    }
   ],
   "source": [
    "ranks.info()"
   ]
  },
  {
   "cell_type": "code",
   "execution_count": 25,
   "metadata": {},
   "outputs": [
    {
     "data": {
      "text/html": [
       "<div>\n",
       "<style scoped>\n",
       "    .dataframe tbody tr th:only-of-type {\n",
       "        vertical-align: middle;\n",
       "    }\n",
       "\n",
       "    .dataframe tbody tr th {\n",
       "        vertical-align: top;\n",
       "    }\n",
       "\n",
       "    .dataframe thead th {\n",
       "        text-align: right;\n",
       "    }\n",
       "</style>\n",
       "<table border=\"1\" class=\"dataframe\">\n",
       "  <thead>\n",
       "    <tr style=\"text-align: right;\">\n",
       "      <th></th>\n",
       "      <th>datetime</th>\n",
       "      <th>id</th>\n",
       "      <th>rank</th>\n",
       "    </tr>\n",
       "  </thead>\n",
       "  <tbody>\n",
       "    <tr>\n",
       "      <th>146</th>\n",
       "      <td>2018-03-02 05:04:22.252590</td>\n",
       "      <td>29</td>\n",
       "      <td>162</td>\n",
       "    </tr>\n",
       "    <tr>\n",
       "      <th>147</th>\n",
       "      <td>2018-03-02 05:04:22.252590</td>\n",
       "      <td>3</td>\n",
       "      <td>61</td>\n",
       "    </tr>\n",
       "    <tr>\n",
       "      <th>148</th>\n",
       "      <td>2018-03-02 05:04:22.252590</td>\n",
       "      <td>24</td>\n",
       "      <td>9515</td>\n",
       "    </tr>\n",
       "    <tr>\n",
       "      <th>149</th>\n",
       "      <td>2018-03-02 05:04:22.252590</td>\n",
       "      <td>50</td>\n",
       "      <td>1642</td>\n",
       "    </tr>\n",
       "    <tr>\n",
       "      <th>150</th>\n",
       "      <td>2018-03-02 05:04:22.252590</td>\n",
       "      <td>16</td>\n",
       "      <td>172</td>\n",
       "    </tr>\n",
       "  </tbody>\n",
       "</table>\n",
       "</div>"
      ],
      "text/plain": [
       "                       datetime  id  rank\n",
       "146  2018-03-02 05:04:22.252590  29   162\n",
       "147  2018-03-02 05:04:22.252590   3    61\n",
       "148  2018-03-02 05:04:22.252590  24  9515\n",
       "149  2018-03-02 05:04:22.252590  50  1642\n",
       "150  2018-03-02 05:04:22.252590  16   172"
      ]
     },
     "execution_count": 25,
     "metadata": {},
     "output_type": "execute_result"
    }
   ],
   "source": [
    "ranks.tail()"
   ]
  },
  {
   "cell_type": "markdown",
   "metadata": {},
   "source": [
    "## Add/Remove Sites"
   ]
  },
  {
   "cell_type": "markdown",
   "metadata": {},
   "source": [
    "### Sites"
   ]
  },
  {
   "cell_type": "markdown",
   "metadata": {},
   "source": [
    "Add requested sites."
   ]
  },
  {
   "cell_type": "code",
   "execution_count": 11,
   "metadata": {},
   "outputs": [],
   "source": [
    "for (name, url) in add_sites:\n",
    "    sites = sites.append({'id':sites.id.max()+1, 'name':name, 'url':url}, ignore_index=True)"
   ]
  },
  {
   "cell_type": "markdown",
   "metadata": {},
   "source": [
    "Remove requested sites."
   ]
  },
  {
   "cell_type": "code",
   "execution_count": 13,
   "metadata": {},
   "outputs": [],
   "source": [
    "for name in remove_sites:\n",
    "    sites = sites.loc[sites['name'] != name]"
   ]
  },
  {
   "cell_type": "markdown",
   "metadata": {},
   "source": [
    "Save `sites`."
   ]
  },
  {
   "cell_type": "code",
   "execution_count": 14,
   "metadata": {},
   "outputs": [],
   "source": [
    "sites.to_csv('sites.csv', index=False)"
   ]
  },
  {
   "cell_type": "markdown",
   "metadata": {},
   "source": [
    "### Ranks"
   ]
  },
  {
   "cell_type": "markdown",
   "metadata": {},
   "source": [
    "Remove requested sites."
   ]
  },
  {
   "cell_type": "code",
   "execution_count": 26,
   "metadata": {},
   "outputs": [],
   "source": [
    "ids_to_remove = sites.loc[sites['name'].isin(remove_sites), 'id']\n",
    "ranks = ranks.loc[~ranks['id'].isin(ids_to_remove)]"
   ]
  },
  {
   "cell_type": "markdown",
   "metadata": {},
   "source": [
    "## Scrape Current Site Ranks"
   ]
  },
  {
   "cell_type": "markdown",
   "metadata": {},
   "source": [
    "Subroutine to find the current Alexa rank \"Rank in United States\" via a scrape of alexa.com."
   ]
  },
  {
   "cell_type": "code",
   "execution_count": null,
   "metadata": {},
   "outputs": [],
   "source": [
    "def find_US_rank(url):\n",
    "    'Find the Alexa Rank in the United States of the given URL'\n",
    "    try:\n",
    "        dfs = pd.read_html('http://www.alexa.com/siteinfo/%s' % url)\n",
    "        idx = 0\n",
    "        while True:\n",
    "            country_ranks = dfs[idx]\n",
    "            try:\n",
    "                country_ranks.set_index('Country', inplace=True)\n",
    "                return country_ranks.loc['United States', 'Rank in Country']\n",
    "            except:\n",
    "                idx += 1\n",
    "    except:\n",
    "        print('\\tWARNING: Lookup failed on %s' % url)\n",
    "        return np.nan"
   ]
  },
  {
   "cell_type": "markdown",
   "metadata": {},
   "source": [
    "Find the currents ranks of all sites in `siteinfo` and store the results in the dict `current_ranks`."
   ]
  },
  {
   "cell_type": "code",
   "execution_count": null,
   "metadata": {},
   "outputs": [],
   "source": [
    "num_sites = siteinfo.shape[0]\n",
    "current_ranks = {'UTC_datetime':datetime.datetime.utcnow()}\n",
    "\n",
    "print('Scraping alexa.com...')\n",
    "for (idx, row) in siteinfo.iterrows():\n",
    "    current_ranks[row['Name']] = find_US_rank(row['URL'])\n",
    "    \n",
    "print('Done')"
   ]
  },
  {
   "cell_type": "markdown",
   "metadata": {},
   "source": [
    "## Update Ranks Data"
   ]
  },
  {
   "cell_type": "markdown",
   "metadata": {},
   "source": [
    "Load current ranks data."
   ]
  },
  {
   "cell_type": "code",
   "execution_count": null,
   "metadata": {},
   "outputs": [],
   "source": [
    "ranks.loc[:,'UTC_datetime'] = pd.to_datetime(ranks['UTC_datetime'])"
   ]
  },
  {
   "cell_type": "markdown",
   "metadata": {},
   "source": [
    "Append the current ranks to `ranks`."
   ]
  },
  {
   "cell_type": "code",
   "execution_count": null,
   "metadata": {},
   "outputs": [],
   "source": [
    "ranks = ranks.append(current_ranks, ignore_index=True)"
   ]
  },
  {
   "cell_type": "markdown",
   "metadata": {},
   "source": [
    "Reorder the site columns in `ranks` according to `siteinfo`, leaving the datetime as the first column. Any sites not in `siteinfo` are removed from `ranks`."
   ]
  },
  {
   "cell_type": "code",
   "execution_count": null,
   "metadata": {},
   "outputs": [],
   "source": [
    "ranks = pd.concat([ranks['UTC_datetime'], ranks.loc[:,siteinfo['Name'].values]], axis=1)"
   ]
  },
  {
   "cell_type": "code",
   "execution_count": null,
   "metadata": {},
   "outputs": [],
   "source": [
    "ranks.tail()"
   ]
  },
  {
   "cell_type": "markdown",
   "metadata": {},
   "source": [
    "Save `ranks.csv`."
   ]
  },
  {
   "cell_type": "markdown",
   "metadata": {},
   "source": [
    "## Plots"
   ]
  },
  {
   "cell_type": "code",
   "execution_count": null,
   "metadata": {
    "scrolled": false
   },
   "outputs": [],
   "source": [
    "f, ax = plt.subplots(figsize=(12, 36))\n",
    "ax.set(yscale=\"log\")\n",
    "for col in ranks.columns[1:]:\n",
    "    plt.plot(ranks['UTC_datetime'], ranks[col], '.-')\n",
    "plt.legend(ranks.columns[1:], bbox_to_anchor=(1,1))"
   ]
  }
 ],
 "metadata": {
  "kernelspec": {
   "display_name": "Python 3",
   "language": "python",
   "name": "python3"
  },
  "language_info": {
   "codemirror_mode": {
    "name": "ipython",
    "version": 3
   },
   "file_extension": ".py",
   "mimetype": "text/x-python",
   "name": "python",
   "nbconvert_exporter": "python",
   "pygments_lexer": "ipython3",
   "version": "3.6.4"
  }
 },
 "nbformat": 4,
 "nbformat_minor": 2
}
